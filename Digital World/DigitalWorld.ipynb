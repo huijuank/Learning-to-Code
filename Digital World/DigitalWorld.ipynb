{
  "nbformat": 4,
  "nbformat_minor": 0,
  "metadata": {
    "colab": {
      "name": "DigitalWorld.ipynb",
      "provenance": [],
      "authorship_tag": "ABX9TyM+1nNxPOnvKlS3SgBVxT4Z"
    },
    "kernelspec": {
      "name": "python3",
      "display_name": "Python 3"
    }
  },
  "cells": [
    {
      "cell_type": "markdown",
      "metadata": {
        "id": "EOoLEQ1CiM39"
      },
      "source": [
        "# Problem Set 3"
      ]
    },
    {
      "cell_type": "markdown",
      "metadata": {
        "id": "a8pKcvRPi5Ah"
      },
      "source": [
        "Part 2 (Cohort Problems)"
      ]
    },
    {
      "cell_type": "code",
      "metadata": {
        "id": "wa8olTVESNzm",
        "outputId": "63602b1f-8ff5-4a7c-f165-0b0f3802dc34",
        "colab": {
          "base_uri": "https://localhost:8080/",
          "height": 313
        }
      },
      "source": [
        "import matplotlib.pyplot as plt\n",
        "daily_total_rainfall = [ 0.2, 7.8,0.4, 3.4,0.4,3.8,12,5.4,1.6,0,0.8,12.4,2.4,2,4.6,0.8,18.4,7.4,20.6,4,13.2,2,4,0,4.8,14.4,9.6,0,5.6,7.6 ]\n",
        "\n",
        "mean_temperature = [24.8,25.5,26.5,26.1,26,26.8,26.9,26.4,27.2,24.5,23.9,23.1,23,23.4,25.2,26.2,27.2,27.2,26.9,26.4,27.2,27.5,26.8,26.7,26.6,26.4,27.1,26.3,27.7,6.9,27.3]\n",
        "\n",
        "plt.hist(daily_total_rainfall, bins = 5)\n",
        "plt.xlabel('Number of days')\n",
        "plt.ylabel('Daily total rainfall')\n",
        "plt.title('Histogram')\n",
        "plt.show"
      ],
      "execution_count": null,
      "outputs": [
        {
          "output_type": "execute_result",
          "data": {
            "text/plain": [
              "<function matplotlib.pyplot.show>"
            ]
          },
          "metadata": {
            "tags": []
          },
          "execution_count": 3
        },
        {
          "output_type": "display_data",
          "data": {
            "image/png": "[encoded data removed]",
            "text/plain": [
              "<Figure size 432x288 with 1 Axes>"
            ]
          },
          "metadata": {
            "tags": []
          }
        }
      ]
    },
    {
      "cell_type": "code",
      "metadata": {
        "id": "pmQLeSaiuvso",
        "outputId": "bcda2ac8-ba0a-481e-c02d-92b9c51ecb14",
        "colab": {
          "base_uri": "https://localhost:8080/",
          "height": 282
        }
      },
      "source": [
        "plt.hist(daily_total_rainfall, bins = [0,4,8,12,16,20,24])\n",
        "plt.show"
      ],
      "execution_count": null,
      "outputs": [
        {
          "output_type": "execute_result",
          "data": {
            "text/plain": [
              "<function matplotlib.pyplot.show>"
            ]
          },
          "metadata": {
            "tags": []
          },
          "execution_count": 2
        },
        {
          "output_type": "display_data",
          "data": {
            "image/png": "[encoded data removed]",
            "text/plain": [
              "<Figure size 432x288 with 1 Axes>"
            ]
          },
          "metadata": {
            "tags": []
          }
        }
      ]
    },
    {
      "cell_type": "code",
      "metadata": {
        "id": "_1y-DXPGvNAw",
        "outputId": "d99fc147-1530-4c54-d612-d290a5692184",
        "colab": {
          "base_uri": "https://localhost:8080/",
          "height": 282
        }
      },
      "source": [
        "plt.boxplot(daily_total_rainfall)\n",
        "plt.show"
      ],
      "execution_count": null,
      "outputs": [
        {
          "output_type": "execute_result",
          "data": {
            "text/plain": [
              "<function matplotlib.pyplot.show>"
            ]
          },
          "metadata": {
            "tags": []
          },
          "execution_count": 3
        },
        {
          "output_type": "display_data",
          "data": {
            "image/png": "[encoded data removed]",
            "text/plain": [
              "<Figure size 432x288 with 1 Axes>"
            ]
          },
          "metadata": {
            "tags": []
          }
        }
      ]
    },
    {
      "cell_type": "code",
      "metadata": {
        "id": "2Zr8W5FHvUzP",
        "outputId": "0b60ac4a-8035-4d70-ee64-1025c5f98ec6",
        "colab": {
          "base_uri": "https://localhost:8080/",
          "height": 295
        }
      },
      "source": [
        "iris_data = [        5.1,4.9,4.7,4.6,5,5.4,4.6,5,4.4,4.9,5.4,4.8,4.8,4.3,5.8,5.7,5.4,5.1,5.7,5.1,5.4,5.1,4.6,5.1,4.8,5,5,5.2,5.2,4.7,4.8,5.4,5.2,5.5,4.9,5,5.5,4.9,4.4,5.1,5,4.5,4.4,5,5.1,4.8,5.1,4.6,5.3,5,7,6.4,6.9,5.5,6.5,5.7,6.3,4.9,6.6,5.2,5,5.9,6,6.1,5.6,6.7,5.6,5.8,6.2,5.6,5.9]  \n",
        "\n",
        "plt.hist(iris_data, bins = [4.0,4.5,5.0,5.5,6.0,7.0])\n",
        "plt.xlabel('length(cm)')\n",
        "plt.ylabel('number of flowers')\n",
        "plt.title('Iris Dataset - Sepal Length')\n",
        "plt.show()"
      ],
      "execution_count": null,
      "outputs": [
        {
          "output_type": "display_data",
          "data": {
            "image/png": "[encoded data removed]",
            "text/plain": [
              "<Figure size 432x288 with 1 Axes>"
            ]
          },
          "metadata": {
            "tags": []
          }
        }
      ]
    },
    {
      "cell_type": "code",
      "metadata": {
        "id": "lVedKyDrv6vg",
        "outputId": "66c3736f-9f94-4603-dc0a-5a3368ae0289",
        "colab": {
          "base_uri": "https://localhost:8080/",
          "height": 297
        }
      },
      "source": [
        "plt.boxplot(iris_data)\n",
        "plt.xlabel('length')\n",
        "plt.ylabel('number')"
      ],
      "execution_count": null,
      "outputs": [
        {
          "output_type": "execute_result",
          "data": {
            "text/plain": [
              "Text(0, 0.5, 'number')"
            ]
          },
          "metadata": {
            "tags": []
          },
          "execution_count": 6
        },
        {
          "output_type": "display_data",
          "data": {
            "image/png": "[encoded data removed]",
            "text/plain": [
              "<Figure size 432x288 with 1 Axes>"
            ]
          },
          "metadata": {
            "tags": []
          }
        }
      ]
    },
    {
      "cell_type": "markdown",
      "metadata": {
        "id": "7msb4HLfibqY"
      },
      "source": [
        "# Problem set 3 exercise"
      ]
    },
    {
      "cell_type": "code",
      "metadata": {
        "id": "O09kjZJZwPpv",
        "outputId": "5c0ba8ee-1ab8-4c3e-bdca-6714e669f6f5",
        "colab": {
          "base_uri": "https://localhost:8080/",
          "height": 87
        }
      },
      "source": [
        "def may_ignore(n):\n",
        "  if type(n) == int:\n",
        "    return n+1\n",
        "  else:\n",
        "    return None\n",
        "\n",
        "\n",
        "print(may_ignore(1))\n",
        "print(may_ignore(1.0))\n",
        "print(may_ignore(1+2j))\n",
        "print(may_ignore('Hello'))"
      ],
      "execution_count": null,
      "outputs": [
        {
          "output_type": "stream",
          "text": [
            "2\n",
            "None\n",
            "None\n",
            "None\n"
          ],
          "name": "stdout"
        }
      ]
    },
    {
      "cell_type": "code",
      "metadata": {
        "id": "TJXaq-Adac5E",
        "outputId": "b42cd7ca-3356-4c65-a0a4-e59d74d4fe7b",
        "colab": {
          "base_uri": "https://localhost:8080/",
          "height": 34
        }
      },
      "source": [
        "def my_reverse(ls):\n",
        "  pos = len(ls) - 1\n",
        "  rev = []\n",
        "  while pos >= 0:\n",
        "    rev.append(ls[pos])\n",
        "    pos -= 1\n",
        "  return rev\n",
        "\n",
        "print(my_reverse([5,-2,15,4]))"
      ],
      "execution_count": null,
      "outputs": [
        {
          "output_type": "stream",
          "text": [
            "[4, 15, -2, 5]\n"
          ],
          "name": "stdout"
        }
      ]
    },
    {
      "cell_type": "code",
      "metadata": {
        "id": "Y-UYoQEuahRX"
      },
      "source": [
        "def approx_pi(n):\n",
        "  add = 0\n",
        "  while n >= 0:\n",
        "    add += (factorial(4*n) * (1103 + 26390 * n)) / ((factorial(n))^4 * 396 * (4 * n))\n",
        "  return 1 / add"
      ],
      "execution_count": null,
      "outputs": []
    },
    {
      "cell_type": "code",
      "metadata": {
        "id": "yGqj4osZcR2U",
        "outputId": "07a5eb70-aa7a-4f68-d8bb-d2fe348e1f64",
        "colab": {
          "base_uri": "https://localhost:8080/",
          "height": 34
        }
      },
      "source": [
        "def gcd(a,b):\n",
        "  if (a < 0 and b < 0) :\n",
        "    return None\n",
        "  else:\n",
        "    if a > b:\n",
        "      L = a\n",
        "      S = b\n",
        "    else:\n",
        "      L = b\n",
        "      S = a\n",
        "    while (L % S != 0):\n",
        "      L1 = S\n",
        "      S1 = L % S\n",
        "      L = L1\n",
        "      S = S1\n",
        "    return S\n",
        "\n",
        "print(gcd(48,18))"
      ],
      "execution_count": null,
      "outputs": [
        {
          "output_type": "stream",
          "text": [
            "6\n"
          ],
          "name": "stdout"
        }
      ]
    },
    {
      "cell_type": "code",
      "metadata": {
        "id": "YN7X9AtvfRL9",
        "outputId": "9b52df37-6805-41fa-cd58-902390ece20e",
        "colab": {
          "base_uri": "https://localhost:8080/",
          "height": 34
        }
      },
      "source": [
        "import numpy as np\n",
        "def simpsons_rule(f,n,a,b):\n",
        "  # list of x values\n",
        "  h = (b-a)/n\n",
        "  x = [a]\n",
        "  x0 = a\n",
        "  j = 1\n",
        "  while j <= n:\n",
        "    xj = x0 + j * h\n",
        "    x.append(xj)\n",
        "    j += 1\n",
        "\n",
        "  #summation 1\n",
        "  i = 1\n",
        "  summation1 = 0\n",
        "  while i <= (n/2 - 1):\n",
        "    summation1 = summation1 + f(x[2*i])\n",
        "    i += 1\n",
        "\n",
        "  #summation 2\n",
        "  k = 1\n",
        "  summation2 = 0\n",
        "  while k <= (n/2):\n",
        "    summation2 = summation2 + f(x[2*k-1])\n",
        "    k += 1\n",
        "\n",
        "  # integration\n",
        "  inte = (h/3)*(f(x[0])+ 2 * summation1 + 4 * summation2 + f(x[n]))\n",
        "  return round(inte,2)\n",
        "\n",
        "def f(x):\n",
        "  return np.exp(-x)\n",
        "\n",
        "print(simpsons_rule(f,1000,-1,1))\n",
        "\n",
        "#sympy go google"
      ],
      "execution_count": null,
      "outputs": [
        {
          "output_type": "stream",
          "text": [
            "2.35\n"
          ],
          "name": "stdout"
        }
      ]
    },
    {
      "cell_type": "code",
      "metadata": {
        "id": "n4Uc4HH03SKu",
        "outputId": "f909afc7-f9dc-49c8-c15e-f85c564366bf",
        "colab": {
          "base_uri": "https://localhost:8080/",
          "height": 34
        }
      },
      "source": [
        "import numpy as np\n",
        "from sympy import *\n",
        "x = symbols(\"x\")\n",
        "def simpsons_rule(func,n,a,b):\n",
        "  #function\n",
        "  def fn(func):\n",
        "    return sympify(func)\n",
        "  f = fn(func)\n",
        "  h = (b-a)/n\n",
        "  #summation 1\n",
        "  i = 1\n",
        "  summation1 = 0\n",
        "  while i <= (n/2 - 1):\n",
        "    summation1 = summation1 + f.subs(x, a + (2 * i) * h)\n",
        "    i += 1\n",
        "  #summation 2\n",
        "  k = 1\n",
        "  summation2 = 0\n",
        "  while k <= (n/2):\n",
        "    summation2 = summation2 + f.subs(x, (a + (2 * k - 1) * h))\n",
        "    k += 1\n",
        "  # integration\n",
        "  inte = (h/3)*(f.subs(x, a)+ 2 * summation1 + 4 * summation2 + f.subs(x,b))\n",
        "  return inte\n",
        "\n",
        "print(simpsons_rule('x**2',1000,1,3))"
      ],
      "execution_count": null,
      "outputs": [
        {
          "output_type": "stream",
          "text": [
            "8.66666666666667\n"
          ],
          "name": "stdout"
        }
      ]
    },
    {
      "cell_type": "markdown",
      "metadata": {
        "id": "WGC6LKQJi0aK"
      },
      "source": [
        "Part 2 Homework"
      ]
    },
    {
      "cell_type": "code",
      "metadata": {
        "id": "mBtwrrF6iyNU",
        "outputId": "573728a3-95a8-466b-d32a-0ab6a755fd62",
        "colab": {
          "base_uri": "https://localhost:8080/",
          "height": 295
        }
      },
      "source": [
        "#Problem 1\n",
        "import math\n",
        "import matplotlib.pyplot as plt\n",
        "def f(t):\n",
        "  return 2 * np.sin(3*t)\n",
        "\n",
        "t_step = (2 * np.pi) / 49\n",
        "t_cood = []\n",
        "for i in range(50):\n",
        "  t_cood.append(3 * i * t_step)\n",
        "y = 2 * np.sin(t_cood)\n",
        "\n",
        "plt.plot(t_cood,y)\n",
        "plt.xlabel('Time')\n",
        "plt.ylabel('Amplitude')\n",
        "plt.title('Sine Wave')\n",
        "plt.show()"
      ],
      "execution_count": null,
      "outputs": [
        {
          "output_type": "display_data",
          "data": {
            "image/png": "[encoded data removed]",
            "text/plain": [
              "<Figure size 432x288 with 1 Axes>"
            ]
          },
          "metadata": {
            "tags": []
          }
        }
      ]
    },
    {
      "cell_type": "code",
      "metadata": {
        "id": "6jmaBpmkkHzu",
        "outputId": "2052f8fa-facd-4f86-c7e8-d8d14943eefe",
        "colab": {
          "base_uri": "https://localhost:8080/",
          "height": 314
        }
      },
      "source": [
        "#Problem 2\n",
        "mean_temperature = [24.8, 25.5, 26.5, 26.1, 26, 26.8, 26.9, 26.4, 27.2,\n",
        "24.5, 23.9, 23.1, 23, 23.4, 25.2, 26.2, 27.2, 27.2, 26.9, 26.4, 27.2,\n",
        "27.5, 26.8, 26.7, 26.6, 26.4, 27.1, 26.3, 27.7, 26.9, 27.3]\n",
        "\n",
        "plt.boxplot(mean_temperature)\n",
        "plt.xlabel('temp')\n",
        "plt.ylabel('degree celsius')\n",
        "plt.show()\n",
        "\n",
        "i = 0\n",
        "while i < len(mean_temperature):\n",
        "  if ((mean_temperature[i] > 28) or (mean_temperature[i] < 27)):\n",
        "    del mean_temperature[i]\n",
        "  else:\n",
        "    i+=1\n",
        "print('Number of days with temperature between 27 and 28 is') \n",
        "print(len(mean_temperature))"
      ],
      "execution_count": null,
      "outputs": [
        {
          "output_type": "display_data",
          "data": {
            "image/png": "[encoded data removed]",
            "text/plain": [
              "<Figure size 432x288 with 1 Axes>"
            ]
          },
          "metadata": {
            "tags": []
          }
        },
        {
          "output_type": "stream",
          "text": [
            "Number of days with temperature between 27 and 28 is\n",
            "8\n"
          ],
          "name": "stdout"
        }
      ]
    },
    {
      "cell_type": "markdown",
      "metadata": {
        "id": "6lktG7wUpY65"
      },
      "source": [
        "Exercises"
      ]
    },
    {
      "cell_type": "code",
      "metadata": {
        "id": "8l1L39eIl6mf",
        "outputId": "3fc4b347-ff44-4a91-ed85-c38979ee9b1a",
        "colab": {
          "base_uri": "https://localhost:8080/",
          "height": 295
        }
      },
      "source": [
        "#Random Walk 1\n",
        "import random\n",
        "import matplotlib.pyplot as plt\n",
        "n = 100\n",
        "xlist=[0]\n",
        "ylist=[0]\n",
        "\n",
        "for i in range(n):\n",
        "  xrand = random.uniform(-0.5,0.5)\n",
        "  yrand = random.uniform(-0.5,0.5)\n",
        "  xlist.append(xrand)\n",
        "  ylist.append(yrand)\n",
        "\n",
        "plt.plot(xlist,ylist)\n",
        "plt.scatter(xlist,ylist)\n",
        "plt.xlabel('x values')\n",
        "plt.ylabel('y values')\n",
        "plt.title('Random Walk')\n",
        "plt.show()"
      ],
      "execution_count": null,
      "outputs": [
        {
          "output_type": "display_data",
          "data": {
            "image/png": "[encoded data removed]",
            "text/plain": [
              "<Figure size 432x288 with 1 Axes>"
            ]
          },
          "metadata": {
            "tags": []
          }
        }
      ]
    },
    {
      "cell_type": "code",
      "metadata": {
        "id": "wxlFlu1EqjsV",
        "outputId": "22df696f-380e-4638-e5d1-d5c0f3655dc3",
        "colab": {
          "base_uri": "https://localhost:8080/",
          "height": 295
        }
      },
      "source": [
        "#Random Walk 2\n",
        "import itertools\n",
        "import random\n",
        "\n",
        "x1 = [0, 1.0, 1.5, 2.0, 2.5, 3.0, 3.5]\n",
        "y1 = [0,-2.0, 2.5,-1.0, 1.0, 3.0, 2.0]\n",
        "\n",
        "xl = list( itertools.permutations(x1))\n",
        "yl = list( itertools.permutations(y1))\n",
        "\n",
        "x = list(random.choice(xl))\n",
        "y = list(random.choice(yl))\n",
        "x.insert(0,0)\n",
        "x.append(0)\n",
        "y.insert(0,0)\n",
        "y.append(0)\n",
        "\n",
        "plt.plot(x,y)\n",
        "plt.scatter(x,y)\n",
        "plt.xlabel('x values')\n",
        "plt.ylabel('y values')\n",
        "plt.title('Random Walk2')\n",
        "plt.show()"
      ],
      "execution_count": null,
      "outputs": [
        {
          "output_type": "display_data",
          "data": {
            "image/png": "[encoded data removed]",
            "text/plain": [
              "<Figure size 432x288 with 1 Axes>"
            ]
          },
          "metadata": {
            "tags": []
          }
        }
      ]
    },
    {
      "cell_type": "markdown",
      "metadata": {
        "id": "aPNx14DdYZUL"
      },
      "source": [
        "# DW-Chem"
      ]
    },
    {
      "cell_type": "markdown",
      "metadata": {
        "id": "JSbANtUcZJ9L"
      },
      "source": [
        "Q1: Create a function that calculates the normalized angular solution. This function should take 4 float arguments and return the value of the normalized angular solution for the specific m, l, θ and Φ. The return value is a complex number rounded to 5 decimal places for both the real and the imaginary parts.\n",
        "\n",
        "Hint: You may want to use np.round() function to round the return value to 5 decimal places. You can also use np.complex() to ensure the output is a complex number."
      ]
    },
    {
      "cell_type": "code",
      "metadata": {
        "id": "cy44ueqjram3",
        "outputId": "6de2b75e-721f-46aa-9902-3770bc6a3ca0",
        "colab": {
          "base_uri": "https://localhost:8080/",
          "height": 239
        }
      },
      "source": [
        "### Code for angular wavefunction:\n",
        "import numpy as np\n",
        "def angular_wave_func(m,l,theta,phi):\n",
        "  if l == 0:\n",
        "    if m == 0:\n",
        "      y = np.sqrt(1/(4*np.pi))\n",
        "  if l == 1:\n",
        "    if m == 1:\n",
        "      y = - np.sqrt(3/(8*np.pi)) * np.sin(theta) * np.exp( 1j * phi)\n",
        "    elif m == 0:\n",
        "      y = np.sqrt(3/(4*np.pi)) * np.cos(theta)\n",
        "    elif m == -1:\n",
        "      y = np.sqrt(3/(8*np.pi)) * np.sin(theta) * np.exp( -1j * phi)\n",
        "  if l == 2:\n",
        "    if m == 2:\n",
        "      y = np.sqrt(15/(32*np.pi)) * (np.sin(theta)**2) * np.exp( 2j * phi)\n",
        "    elif m == 1:\n",
        "      y = - np.sqrt(15/(8*np.pi)) * np.sin(theta) * np.cos(theta) * np.exp( 1j * phi)\n",
        "    elif m == 0:\n",
        "      y = np.sqrt(5/(16*np.pi)) * (3*(np.cos(theta)**2)-1)\n",
        "    elif m == -1:\n",
        "      y = np.sqrt(15/(8*np.pi)) * np.sin(theta) * np.cos(theta) * np.exp( -1j * phi)\n",
        "    elif m == -2:\n",
        "      y = np.sqrt(15/(32*np.pi)) * (np.sin(theta)**2) * np.exp( - 2j * phi)\n",
        "  if l == 3:\n",
        "    if m == 3:\n",
        "      y = - np.sqrt(35/(64*np.pi)) * (np.sin(theta)**3) * np.exp( 3j * phi)\n",
        "    elif m == 2:\n",
        "      y = np.sqrt(105/(32*np.pi)) * (np.sin(theta)**2) * np.cos(theta) * np.exp( 2j * phi)\n",
        "    elif m == 1:\n",
        "      y = - np.sqrt(21/(64*np.pi)) * np.sin(theta) * (5*(np.cos(theta)**2)-1) * np.exp( 1j * phi)\n",
        "    elif m == 0:\n",
        "      y = np.sqrt(7/(16*np.pi)) * (5*(np.cos(theta)**3) - 3*np.cos(theta))\n",
        "    elif m == -1:\n",
        "      y = np.sqrt(21/(64*np.pi)) * np.sin(theta) * (5*(np.cos(theta)**2)-1) * np.exp( -1j * phi)\n",
        "    elif m == -2:\n",
        "      y = np.sqrt(105/(32*np.pi)) * (np.sin(theta)**2) * np.cos(theta) * np.exp( -2j * phi)\n",
        "    elif m == -3:\n",
        "      y = np.sqrt(35/(64*np.pi)) * (np.sin(theta)**3) * np.exp( -3j * phi)\n",
        "  return y\n",
        "\n",
        "# Test for angular wavefunction:\n",
        "# assert statement will throw error if the result is wrong\n",
        "# no output will be produced for correct results\n",
        "\n",
        "assert angular_wave_func (0,0,0,0) == (0.28209+0j)\n",
        "assert angular_wave_func (0,1,c.pi,0) == (-0.4886+0j)\n",
        "assert angular_wave_func (1,1,c.pi/2,c.pi) == (0.34549-0j)\n",
        "assert angular_wave_func (0,2,c.pi,0) == (0.63078+0j)\n"
      ],
      "execution_count": null,
      "outputs": [
        {
          "output_type": "error",
          "ename": "AssertionError",
          "evalue": "ignored",
          "traceback": [
            "\u001b[0;31m---------------------------------------------------------------------------\u001b[0m",
            "\u001b[0;31mAssertionError\u001b[0m                            Traceback (most recent call last)",
            "\u001b[0;32m<ipython-input-26-14047728f891>\u001b[0m in \u001b[0;36m<module>\u001b[0;34m()\u001b[0m\n\u001b[1;32m     43\u001b[0m \u001b[0;31m# no output will be produced for correct results\u001b[0m\u001b[0;34m\u001b[0m\u001b[0;34m\u001b[0m\u001b[0;34m\u001b[0m\u001b[0m\n\u001b[1;32m     44\u001b[0m \u001b[0;34m\u001b[0m\u001b[0m\n\u001b[0;32m---> 45\u001b[0;31m \u001b[0;32massert\u001b[0m \u001b[0mangular_wave_func\u001b[0m \u001b[0;34m(\u001b[0m\u001b[0;36m0\u001b[0m\u001b[0;34m,\u001b[0m\u001b[0;36m0\u001b[0m\u001b[0;34m,\u001b[0m\u001b[0;36m0\u001b[0m\u001b[0;34m,\u001b[0m\u001b[0;36m0\u001b[0m\u001b[0;34m)\u001b[0m \u001b[0;34m==\u001b[0m \u001b[0;34m(\u001b[0m\u001b[0;36m0.28209\u001b[0m\u001b[0;34m+\u001b[0m\u001b[0;36m0j\u001b[0m\u001b[0;34m)\u001b[0m\u001b[0;34m\u001b[0m\u001b[0;34m\u001b[0m\u001b[0m\n\u001b[0m\u001b[1;32m     46\u001b[0m \u001b[0;32massert\u001b[0m \u001b[0mangular_wave_func\u001b[0m \u001b[0;34m(\u001b[0m\u001b[0;36m0\u001b[0m\u001b[0;34m,\u001b[0m\u001b[0;36m1\u001b[0m\u001b[0;34m,\u001b[0m\u001b[0mc\u001b[0m\u001b[0;34m.\u001b[0m\u001b[0mpi\u001b[0m\u001b[0;34m,\u001b[0m\u001b[0;36m0\u001b[0m\u001b[0;34m)\u001b[0m \u001b[0;34m==\u001b[0m \u001b[0;34m(\u001b[0m\u001b[0;34m-\u001b[0m\u001b[0;36m0.4886\u001b[0m\u001b[0;34m+\u001b[0m\u001b[0;36m0j\u001b[0m\u001b[0;34m)\u001b[0m\u001b[0;34m\u001b[0m\u001b[0;34m\u001b[0m\u001b[0m\n\u001b[1;32m     47\u001b[0m \u001b[0;32massert\u001b[0m \u001b[0mangular_wave_func\u001b[0m \u001b[0;34m(\u001b[0m\u001b[0;36m1\u001b[0m\u001b[0;34m,\u001b[0m\u001b[0;36m1\u001b[0m\u001b[0;34m,\u001b[0m\u001b[0mc\u001b[0m\u001b[0;34m.\u001b[0m\u001b[0mpi\u001b[0m\u001b[0;34m/\u001b[0m\u001b[0;36m2\u001b[0m\u001b[0;34m,\u001b[0m\u001b[0mc\u001b[0m\u001b[0;34m.\u001b[0m\u001b[0mpi\u001b[0m\u001b[0;34m)\u001b[0m \u001b[0;34m==\u001b[0m \u001b[0;34m(\u001b[0m\u001b[0;36m0.34549\u001b[0m\u001b[0;34m-\u001b[0m\u001b[0;36m0j\u001b[0m\u001b[0;34m)\u001b[0m\u001b[0;34m\u001b[0m\u001b[0;34m\u001b[0m\u001b[0m\n",
            "\u001b[0;31mAssertionError\u001b[0m: "
          ]
        }
      ]
    },
    {
      "cell_type": "code",
      "metadata": {
        "id": "cE_UbnT9Sn8j",
        "outputId": "b0108936-a669-4b73-dd4c-52e73fe44206",
        "colab": {
          "base_uri": "https://localhost:8080/",
          "height": 34
        }
      },
      "source": [
        "import numpy as np\n",
        "import sympy as sym\n",
        "import scipy.constants as c\n",
        "x = sym.Symbol('x')\n",
        "\n",
        "def p(l,m):\n",
        "  pl_front = (1/((2**l)*sym.factorial(l)))\n",
        "  pl_back = ((x**2)-1)**l\n",
        "  for i in range(0,l):\n",
        "    pl_back = sym.diff(pl_back,x)\n",
        "  pml_back = pl_front * pl_back\n",
        "  pml_front = (1-x**2)**(abs(m)/2)\n",
        "  for i in range(0,abs(m)):\n",
        "    pml_back = sym.diff(pml_back,x)\n",
        "  pml = pml_front * pml_back\n",
        "  return pml\n",
        "\n",
        "def angular_wave_function(m,l,theta,phi):\n",
        "  if m > 0:\n",
        "    E = 1\n",
        "  elif m <=0:\n",
        "    E = (-1)**m\n",
        "  P = p(l,m)\n",
        "  P = P.subs(x,np.cos(theta))\n",
        "  Yml = E * sym.sqrt(((2*l+1)/(4*c.pi))*(sym.factorial(l-abs(m))/sym.factorial(l+abs(m)))) * np.exp(1j*m*phi) * P\n",
        "  return np.round(np.complex(Yml),5)\n",
        "\n",
        "angular_wave_function(0,1,c.pi,0)"
      ],
      "execution_count": null,
      "outputs": [
        {
          "output_type": "execute_result",
          "data": {
            "text/plain": [
              "(-0.4886+0j)"
            ]
          },
          "metadata": {
            "tags": []
          },
          "execution_count": 2
        }
      ]
    },
    {
      "cell_type": "code",
      "metadata": {
        "id": "ZopzSbUCj9R1",
        "outputId": "8c09ef4a-a6d0-4539-da84-2dc3ffaf202b",
        "colab": {
          "base_uri": "https://localhost:8080/",
          "height": 34
        }
      },
      "source": [
        "import numpy as np\n",
        "import sympy as sym\n",
        "import scipy.constants as c\n",
        "x = sym.Symbol('x')\n",
        "\n",
        "def p(l,m):\n",
        "    pl = (1/((2**l)*sym.factorial(l))) * ((x**2)-1)**l\n",
        "    for i in range(0,l+abs(m)):\n",
        "        pl = sym.diff(pl,x)\n",
        "    pl = (1-x**2)**(abs(m)/2) * pl\n",
        "    return pl\n",
        "\n",
        "def angular_wave_func(m,l,theta,phi):\n",
        "    if m > 0:\n",
        "        E = (-1)**m\n",
        "    elif m <=0:\n",
        "        E = 1\n",
        "    P = p(l,m)\n",
        "    P = P.subs(x,np.cos(theta))\n",
        "    Yml = E * sym.sqrt((((2*l)+1)/(4*c.pi))*(sym.factorial(l-abs(m))/sym.factorial(l+abs(m)))) * np.exp(1j*m*phi) * P\n",
        "    return np.round(np.complex(Yml),5)\n",
        "\n",
        "angular_wave_function(1,1,c.pi/2,c.pi)"
      ],
      "execution_count": null,
      "outputs": [
        {
          "output_type": "execute_result",
          "data": {
            "text/plain": [
              "0.345494149471335 - 4.23108304274208e-17*I"
            ]
          },
          "metadata": {
            "tags": []
          },
          "execution_count": 56
        }
      ]
    },
    {
      "cell_type": "code",
      "metadata": {
        "id": "Et1YLDuf6gbv"
      },
      "source": [
        "import numpy as np\n",
        "import scipy.constants as c\n",
        "import sympy as sym\n",
        "x = sym.Symbol('x')\n",
        "\n",
        "# Code for radial wavefunction:\n",
        "a=c.physical_constants['Bohr radius'][0]\n",
        "\n",
        "def radial_wave_func(n,l,r):\n",
        "  x = r / a\n",
        "  anorm = a ^ (-3/2)\n",
        "  if n == 1:\n",
        "    if l == 0:\n",
        "      R = 2 * anorm * np.exp(-x)\n",
        "  elif n == 2:\n",
        "    if l == 0:\n",
        "      R = (1/np.sqrt(2)) * anorm * (1 - 0.5 * x) * exp(-x/2)\n",
        "    if l == 1:\n",
        "      R = (1/np.sqrt(24)) * anorm * x* exp(-x/2)\n",
        "  elif n == 3:\n",
        "    if l == 0:\n",
        "      R = (2/(81*np.sqrt(3))) * anorm * (27 - 18 * x + 2 * (x**2)) * exp(-x/3)\n",
        "    if l == 1:\n",
        "      R = (8/(27*np.sqrt(6))) * anorm * (1 - x/6) * x * exp(-x/3)\n",
        "    if l == 2:\n",
        "      R = (4/(81*np.sqrt(30))) * anorm * (x**2) * exp(-x/3)\n",
        "  elif n == 4:\n",
        "    if l == 0:\n",
        "      R = (1/4) * anorm * (1 - (3/4) * x + (1/8) * (x**2) - (1/192) * (x**3)) * exp(-x/4)\n",
        "    if l == 1:\n",
        "      R = (np.sqrt(5)/(16*np.sqrt(3))) * anorm * x * (1 - (1/4) * x + (1/80) * (x**2)) * exp(-x/4)\n",
        "    if l == 2:\n",
        "      R = (1/(64*np.sqrt(5))) * anorm * (x**2) * (1 - (1/12) * x) * exp(-x/4)\n",
        "    if l == 3:\n",
        "      R = (1/(768*np.sqrt(35))) * anorm * (x**3) * exp(-x/4)"
      ],
      "execution_count": null,
      "outputs": []
    },
    {
      "cell_type": "code",
      "metadata": {
        "id": "f-eMRsWwqX6o",
        "outputId": "edf349ec-cd48-45b3-ace8-757a4deeb315",
        "colab": {
          "base_uri": "https://localhost:8080/",
          "height": 34
        }
      },
      "source": [
        "import sympy as sym\n",
        "x = sym.Symbol('x')\n",
        "a=c.physical_constants['Bohr radius'][0]\n",
        "\n",
        "def L(n,l):\n",
        "    p = 2*l + 1\n",
        "    q = n - l - 1 + p\n",
        "    L = sym.exp(-x)*x**q\n",
        "    for i in range(0,q):\n",
        "        L = sym.diff(L,x)\n",
        "    L = sym.exp(x) * L\n",
        "    for i in range(0,p):\n",
        "        L = sym.diff(L,x)\n",
        "    L = (-1)**p * L\n",
        "    return L\n",
        "\n",
        "def radial_wave_func(n,l,r):\n",
        "    Lp = L(n,l)\n",
        "    Lp = Lp.subs(x,((2*r)/(n*a)))\n",
        "    R = sym.sqrt(((2/(n*a))**3)*(sym.factorial(n-l-1)/(2*n*((sym.factorial(n+l))**3)))) * np.exp(-r/(n*a)) * ((2*r)/(n*a))**l * Lp\n",
        "    return np.round(np.complex(R)/a**(-3/2),5)\n",
        "\n",
        "radial_wave_func(2,1,2*a)"
      ],
      "execution_count": null,
      "outputs": [
        {
          "output_type": "execute_result",
          "data": {
            "text/plain": [
              "(0.15019+0j)"
            ]
          },
          "metadata": {
            "tags": []
          },
          "execution_count": 3
        }
      ]
    },
    {
      "cell_type": "markdown",
      "metadata": {
        "id": "0aK5YqIuhig9"
      },
      "source": [
        "Week 5 Q1"
      ]
    },
    {
      "cell_type": "code",
      "metadata": {
        "id": "dQ0s8X4OV_wo"
      },
      "source": [
        "def hydrogen_wave_func(n,l,m,roa,Nx,Ny,Nz):\n",
        "    \n",
        "    #e.g.: vfunc = np.vectorize(cartesian_to_spherical)\n",
        "    pass"
      ],
      "execution_count": null,
      "outputs": []
    },
    {
      "cell_type": "markdown",
      "metadata": {
        "id": "uwTq1Az21fxS"
      },
      "source": [
        "# Class"
      ]
    },
    {
      "cell_type": "code",
      "metadata": {
        "id": "1Ez4iolB1h1B",
        "outputId": "f862241d-7245-4612-c626-61134a72a2a2",
        "colab": {
          "base_uri": "https://localhost:8080/",
          "height": 34
        }
      },
      "source": [
        "celsius = 36.7\n",
        "print(\"{}'s temperature is {:6.3f} celsius.\".format(\"Oka\", celsius))\n",
        "# float => specifier 'f'\n",
        "# string => specifier 's' left align by default, change to right align {:>10s}\n",
        "# integer => specifier 'd'\n",
        "#w.d => width w, decimal place d"
      ],
      "execution_count": null,
      "outputs": [
        {
          "output_type": "stream",
          "text": [
            "Oka's temperature is 36.700 celsius.\n"
          ],
          "name": "stdout"
        }
      ]
    },
    {
      "cell_type": "markdown",
      "metadata": {
        "id": "PkWKQRCqLrYG"
      },
      "source": [
        "# Problem Set 4\n"
      ]
    },
    {
      "cell_type": "markdown",
      "metadata": {
        "id": "-hGcsknF_Xo1"
      },
      "source": [
        "Cohort Session"
      ]
    },
    {
      "cell_type": "code",
      "metadata": {
        "id": "dGUwB4cfLxQ8",
        "outputId": "a5c866b9-117d-4551-ffc5-2ff11d7af185",
        "colab": {
          "base_uri": "https://localhost:8080/",
          "height": 34
        }
      },
      "source": [
        "x=[1,2,3]\n",
        "def f(l):  \n",
        "  l[0]='a'\n",
        "f(x)\n",
        "\n",
        "print(x)"
      ],
      "execution_count": null,
      "outputs": [
        {
          "output_type": "stream",
          "text": [
            "['a', 2, 3]\n"
          ],
          "name": "stdout"
        }
      ]
    },
    {
      "cell_type": "code",
      "metadata": {
        "id": "-Pf74kWXL2X-",
        "outputId": "bfec5c25-c9cb-4fc2-dd8e-6be3cdeb18c3",
        "colab": {
          "base_uri": "https://localhost:8080/",
          "height": 34
        }
      },
      "source": [
        "x=[1,2,3]\n",
        "y=[x]\n",
        "a=[y,x]\n",
        "y[0][0] = (1,2)\n",
        "\n",
        "print(a[0][0])"
      ],
      "execution_count": null,
      "outputs": [
        {
          "output_type": "stream",
          "text": [
            "[(1, 2), 2, 3]\n"
          ],
          "name": "stdout"
        }
      ]
    },
    {
      "cell_type": "code",
      "metadata": {
        "id": "NyTvozvXM8g8",
        "outputId": "161c4875-dc29-40b9-bd57-e5eeb1090d79",
        "colab": {
          "base_uri": "https://localhost:8080/",
          "height": 34
        }
      },
      "source": [
        "#Compound Interest\n",
        "def compound_value_months(amt, rate, months):\n",
        "    Sum = 0\n",
        "    for i in range(0,months):\n",
        "      Sum = (Sum + amt) * (1 + rate/12)\n",
        "    return round(Sum,2)\n",
        "\n",
        "ans = compound_value_months (100 ,0.03 ,7)\n",
        "print ( ans )"
      ],
      "execution_count": null,
      "outputs": [
        {
          "output_type": "stream",
          "text": [
            "707.04\n"
          ],
          "name": "stdout"
        }
      ]
    },
    {
      "cell_type": "code",
      "metadata": {
        "id": "8YuCwee2RciL"
      },
      "source": [
        "# Find Average\n",
        "def find_average(lst):\n",
        "    l = []\n",
        "    for i in range(0,len(lst)):\n",
        "      if len(lst[i]) != 0:\n",
        "        for n in range(0,len(lst[i])):\n",
        "          l.append(lst[i][n])\n",
        "        lst[i] = sum(lst[i]) / len(lst[i])\n",
        "      elif len(lst[i]) == 0:\n",
        "        lst[i] = 0.0\n",
        "    return lst, sum(l) / len(l)"
      ],
      "execution_count": null,
      "outputs": []
    },
    {
      "cell_type": "code",
      "metadata": {
        "id": "DUet12rFTSXe",
        "outputId": "1b23878d-f1a6-49a3-f015-04b603b1c9ac",
        "colab": {
          "base_uri": "https://localhost:8080/",
          "height": 34
        }
      },
      "source": [
        "# Transpose Matrix\n",
        "def transpose_matrix(matrix):\n",
        "    b = []\n",
        "    for i in range(0,len(matrix[0])):\n",
        "        a = []\n",
        "        for n in range(0,len(matrix)):\n",
        "            a.append(matrix[n][i])\n",
        "        b.append(a)\n",
        "    return b\n",
        "\n",
        "a = [[1 ,2 ,3] , [4 ,5 ,6] , [7 ,8 ,9]]\n",
        "transpose_matrix ( a )"
      ],
      "execution_count": null,
      "outputs": [
        {
          "output_type": "execute_result",
          "data": {
            "text/plain": [
              "[[1, 4, 7], [2, 5, 8], [3, 6, 9]]"
            ]
          },
          "metadata": {
            "tags": []
          },
          "execution_count": 56
        }
      ]
    },
    {
      "cell_type": "code",
      "metadata": {
        "id": "FGeeBVjia8Ij",
        "outputId": "0d6259c9-5e62-418e-9b53-999e3cfc3103",
        "colab": {
          "base_uri": "https://localhost:8080/",
          "height": 34
        }
      },
      "source": [
        "# Phone Book\n",
        "def get_details(name, key, lst):\n",
        "    for i in lst:\n",
        "        if i['name'] == name:\n",
        "            return i[key]\n",
        "\n",
        "phonebook =[{ 'name': 'Andrew', 'mobile_phone' :9477865 , 'office_phone' :6612345 , 'email' : 'andrew@sutd . edu . sg '} ,\n",
        "            { 'name': 'Bobby' ,'mobile_phone' :8123498 , 'office_phone' :6654321 , 'email': 'bobby@sutd . edu . sg' }]\n",
        "( get_details ( 'Andrew' , 'email' , phonebook ) )"
      ],
      "execution_count": null,
      "outputs": [
        {
          "output_type": "execute_result",
          "data": {
            "text/plain": [
              "'andrew@sutd . edu . sg '"
            ]
          },
          "metadata": {
            "tags": []
          },
          "execution_count": 62
        }
      ]
    },
    {
      "cell_type": "code",
      "metadata": {
        "id": "rhgFmEmxdSRT",
        "outputId": "78600dad-b790-41e6-b78a-d5553c944729",
        "colab": {
          "base_uri": "https://localhost:8080/",
          "height": 34
        }
      },
      "source": [
        "#DNA Base Count\n",
        "def get_base_counts(dna):\n",
        "    DNA = {'A':0,'C':0,'G':0,'T':0}\n",
        "    for i in range(0,len(dna)):\n",
        "      if dna[i] in DNA:\n",
        "        DNA[dna[i]] += 1\n",
        "      else:\n",
        "        return 'The input DNA string is invalid'\n",
        "    return DNA\n",
        "\n",
        "get_base_counts('AAB')"
      ],
      "execution_count": null,
      "outputs": [
        {
          "output_type": "execute_result",
          "data": {
            "text/plain": [
              "'The input DNA string is invalid'"
            ]
          },
          "metadata": {
            "tags": []
          },
          "execution_count": 70
        }
      ]
    },
    {
      "cell_type": "markdown",
      "metadata": {
        "id": "nTCZ6Yjg_ecY"
      },
      "source": [
        "Homework"
      ]
    },
    {
      "cell_type": "code",
      "metadata": {
        "id": "bTeiogcpiqKJ",
        "outputId": "eb387489-9ccd-493d-e95e-5968ca39f2bd",
        "colab": {
          "base_uri": "https://localhost:8080/",
          "height": 54
        }
      },
      "source": [
        "# HW1 - Part A\n",
        "def f_to_c(f):\n",
        "    return (f-32)*(5/9)\n",
        "\n",
        "def f_to_c_approx(f):\n",
        "    return (f-30)/2\n",
        "\n",
        "def get_conversion_table_a():\n",
        "    ans = []\n",
        "    for f in range(0,110,10):\n",
        "        ls = [f, round(f_to_c(f),1), f_to_c_approx(f)]\n",
        "        ans.append(ls)\n",
        "    return ans\n",
        "print ( get_conversion_table_a() )\n"
      ],
      "execution_count": null,
      "outputs": [
        {
          "output_type": "stream",
          "text": [
            "[[0, -17.8, -15.0], [10, -12.2, -10.0], [20, -6.7, -5.0], [30, -1.1, 0.0], [40, 4.4, 5.0], [50, 10.0, 10.0], [60, 15.6, 15.0], [70, 21.1, 20.0], [80, 26.7, 25.0], [90, 32.2, 30.0], [100, 37.8, 35.0]]\n"
          ],
          "name": "stdout"
        }
      ]
    },
    {
      "cell_type": "code",
      "metadata": {
        "id": "fdQzMRuHpadQ",
        "outputId": "cd64eda8-63d9-4e30-f5d2-e7d81738b7b1",
        "colab": {
          "base_uri": "https://localhost:8080/",
          "height": 54
        }
      },
      "source": [
        "# HW1 - Part B\n",
        "def f_to_c(f):\n",
        "    return (f-32)*(5/9)\n",
        "\n",
        "def f_to_c_approx(f):\n",
        "    return (f-30)/2\n",
        "\n",
        "def get_conversion_table_b():\n",
        "    F = []\n",
        "    C = []\n",
        "    ca = []\n",
        "    for f in range(0,110,10):\n",
        "        F.append(f)\n",
        "        C.append(f_to_c(f))\n",
        "        ca.append(f_to_c_approx(f))\n",
        "    return [F,C,ca]\n",
        "print ( get_conversion_table_b() )"
      ],
      "execution_count": null,
      "outputs": [
        {
          "output_type": "stream",
          "text": [
            "[[0, 10, 20, 30, 40, 50, 60, 70, 80, 90, 100], [-17.77777777777778, -12.222222222222223, -6.666666666666667, -1.1111111111111112, 4.444444444444445, 10.0, 15.555555555555557, 21.11111111111111, 26.666666666666668, 32.22222222222222, 37.77777777777778], [-15.0, -10.0, -5.0, 0.0, 5.0, 10.0, 15.0, 20.0, 25.0, 30.0, 35.0]]\n"
          ],
          "name": "stdout"
        }
      ]
    },
    {
      "cell_type": "code",
      "metadata": {
        "id": "qHAb5cSGrI-8",
        "outputId": "bc9793ae-02ca-4569-e8ec-b938967dd8d9",
        "colab": {
          "base_uri": "https://localhost:8080/",
          "height": 54
        }
      },
      "source": [
        "# HW1 - Part C\n",
        "def f_to_c(f):\n",
        "    return (f-32)*(5/9)\n",
        "\n",
        "def f_to_c_approx(f):\n",
        "    return (f-30)/2\n",
        "\n",
        "def get_conversion_table_a():\n",
        "    ans = []\n",
        "    for f in range(0,110,10):\n",
        "        ls = [f, round(f_to_c(f),1), f_to_c_approx(f)]\n",
        "        ans.append(ls)\n",
        "    return ans\n",
        "\n",
        "def get_conversion_table_b():\n",
        "    matrix = get_conversion_table_a()\n",
        "    b = []\n",
        "    for i in range(0,len(matrix[0])):\n",
        "        a = []\n",
        "        for n in range(0,len(matrix)):\n",
        "            a.append(matrix[n][i])\n",
        "        b.append(a)\n",
        "    return b\n",
        "\n",
        "print ( get_conversion_table_b() )"
      ],
      "execution_count": null,
      "outputs": [
        {
          "output_type": "stream",
          "text": [
            "[[0, 10, 20, 30, 40, 50, 60, 70, 80, 90, 100], [-17.8, -12.2, -6.7, -1.1, 4.4, 10.0, 15.6, 21.1, 26.7, 32.2, 37.8], [-15.0, -10.0, -5.0, 0.0, 5.0, 10.0, 15.0, 20.0, 25.0, 30.0, 35.0]]\n"
          ],
          "name": "stdout"
        }
      ]
    },
    {
      "cell_type": "code",
      "metadata": {
        "id": "7-Pwu2A1rvef",
        "outputId": "8c0078cd-35c7-46df-9a07-1171e9961251",
        "colab": {
          "base_uri": "https://localhost:8080/",
          "height": 34
        }
      },
      "source": [
        "#HW2 - Max in List\n",
        "def max_list(inlist):\n",
        "    outlist = []\n",
        "    for i in range(0,len(inlist)):\n",
        "        outlist.append(max(inlist[i]))\n",
        "    return outlist\n",
        "\n",
        "inlist = [[1 ,2 ,3] ,[4 ,5]]\n",
        "print ( max_list ( inlist ) )"
      ],
      "execution_count": null,
      "outputs": [
        {
          "output_type": "stream",
          "text": [
            "[3, 5]\n"
          ],
          "name": "stdout"
        }
      ]
    },
    {
      "cell_type": "code",
      "metadata": {
        "id": "Q7MGNC3Ess2l",
        "outputId": "88a51d09-064d-4537-b8e3-bcf708f29aa6",
        "colab": {
          "base_uri": "https://localhost:8080/",
          "height": 87
        }
      },
      "source": [
        "#HW3 - Multiplication Table\n",
        "def multiplication_table(n):\n",
        "    if n < 1:\n",
        "        return None\n",
        "    elif n >= 1:\n",
        "        table = []\n",
        "        for i in range(1,n+1):\n",
        "            row = []\n",
        "            for h in range(1,n+1):\n",
        "                row.append(i*h)\n",
        "            table.append(row)\n",
        "        return table\n",
        "print(multiplication_table(1))\n",
        "print(multiplication_table(0))\n",
        "print(multiplication_table(2))\n",
        "print(multiplication_table(-1))"
      ],
      "execution_count": null,
      "outputs": [
        {
          "output_type": "stream",
          "text": [
            "[[1]]\n",
            "None\n",
            "[[1, 2], [2, 4]]\n",
            "None\n"
          ],
          "name": "stdout"
        }
      ]
    },
    {
      "cell_type": "code",
      "metadata": {
        "id": "U4_5F6wkuLBk",
        "outputId": "3aa3b18a-fb8e-4d1d-a36d-7bf10bda621c",
        "colab": {
          "base_uri": "https://localhost:8080/",
          "height": 34
        }
      },
      "source": [
        "#HW4 - Most Frequent\n",
        "def most_frequent(lst):\n",
        "    count = {}\n",
        "    for i in lst:\n",
        "        if i in count:\n",
        "            count[i] += 1\n",
        "        else:\n",
        "            count[i] = 1\n",
        "    \n",
        "    key = count.keys()\n",
        "    list = []\n",
        "    max = 0\n",
        "    for i in key:\n",
        "        if count[i] == max:\n",
        "            list.append(i)\n",
        "        elif count[i] > max:\n",
        "            max = count[i]\n",
        "            list = [i]\n",
        "    return list\n",
        "print(most_frequent([2,3,40,3,5,4,-3,3,3,2,0]))"
      ],
      "execution_count": null,
      "outputs": [
        {
          "output_type": "stream",
          "text": [
            "[3]\n"
          ],
          "name": "stdout"
        }
      ]
    },
    {
      "cell_type": "code",
      "metadata": {
        "id": "UNfLw5nC0776",
        "outputId": "d8bb4e13-32c5-4cee-b9c5-c99c4f9350d7",
        "colab": {
          "base_uri": "https://localhost:8080/",
          "height": 105
        }
      },
      "source": [
        "#HW5 - Differentiating Polynomials\n",
        "def diff(p):\n",
        "    dif = {}\n",
        "    for i in p:\n",
        "        if i != 0:\n",
        "            dif[i-1] = p[i] * i \n",
        "    return dif\n",
        "print(diff({0:-3, 3:2, 5:-1}))\n",
        "print(diff({1:-3, 3:2, 5:-1, 6:2}))\n",
        "print(diff({0:-3, 3:2, 8:2}))\n",
        "print(diff({0:-4, 2:12, 3:-2, 4:3, 8:2}))\n",
        "print(diff({0:-3, 1:12, 2:-2, 3:2, 10:2}))"
      ],
      "execution_count": null,
      "outputs": [
        {
          "output_type": "stream",
          "text": [
            "{2: 6, 4: -5}\n",
            "{0: -3, 2: 6, 4: -5, 5: 12}\n",
            "{2: 6, 7: 16}\n",
            "{1: 24, 2: -6, 3: 12, 7: 16}\n",
            "{0: 12, 1: -4, 2: 6, 9: 20}\n"
          ],
          "name": "stdout"
        }
      ]
    },
    {
      "cell_type": "markdown",
      "metadata": {
        "id": "a8KNMkxg_gr-"
      },
      "source": [
        "Exercise"
      ]
    },
    {
      "cell_type": "code",
      "metadata": {
        "id": "AIBFnaCd9BeG",
        "outputId": "10210a7e-e021-469c-d12f-b9835cf9128f",
        "colab": {
          "base_uri": "https://localhost:8080/",
          "height": 87
        }
      },
      "source": [
        "#1. bool, tuple, None\n",
        "a = 'abc' #True\n",
        "b =0+0j #False 0\n",
        "c =(1,) #True\n",
        "d = '' #False empty string\n",
        "e = 'None' #True\n",
        "f = None #False\n",
        "\n",
        "t =(1 ,2 ,3)\n",
        "print(t + t) # ( a )\n",
        "print(t *2) # ( b )\n",
        "print(t [1: -1]) # ( c )\n",
        "\n",
        "print(type((1,)))"
      ],
      "execution_count": null,
      "outputs": [
        {
          "output_type": "stream",
          "text": [
            "(1, 2, 3, 1, 2, 3)\n",
            "(1, 2, 3, 1, 2, 3)\n",
            "(2,)\n",
            "<class 'tuple'>\n"
          ],
          "name": "stdout"
        }
      ]
    },
    {
      "cell_type": "code",
      "metadata": {
        "id": "n8xj0MuYGmoS",
        "outputId": "c8420e67-bf4a-4d39-c640-40e5112b9054",
        "colab": {
          "base_uri": "https://localhost:8080/",
          "height": 34
        }
      },
      "source": [
        "#2 Loops\n",
        "def interlock(word1,word2,word3):\n",
        "  if len(word1) != len(word2):\n",
        "    return False\n",
        "  elif ((word1!='')and(word2!='')and(word3!='')):\n",
        "    i = 0\n",
        "    w3 = ''\n",
        "    while i < len(word1):\n",
        "      w3= w3 + word1[i] + word2[i]\n",
        "      i +=1\n",
        "    if w3 == word3:\n",
        "      return True\n",
        "    return False\n",
        "  else:\n",
        "    return False\n",
        "\n",
        "print(interlock('','cold','schooled'))"
      ],
      "execution_count": null,
      "outputs": [
        {
          "output_type": "stream",
          "text": [
            "False\n"
          ],
          "name": "stdout"
        }
      ]
    },
    {
      "cell_type": "code",
      "metadata": {
        "id": "r69CSfLGNCdK",
        "outputId": "d82c9219-d90d-45cf-c1b2-33300c7d9d00",
        "colab": {
          "base_uri": "https://localhost:8080/",
          "height": 34
        }
      },
      "source": [
        "#3 throw dice\n",
        "import random\n",
        "def throw_dice(n,nExp):\n",
        "  n6 = 0\n",
        "  for h in range(0,nExp):\n",
        "    for i in range(0,n):\n",
        "      if random.randint(1,6) == 6:\n",
        "        n6 += 1\n",
        "        i = n\n",
        "  return round(n6/nExp,2)\n",
        "        \n",
        "print(throw_dice(4,100))"
      ],
      "execution_count": null,
      "outputs": [
        {
          "output_type": "stream",
          "text": [
            "0.64\n"
          ],
          "name": "stdout"
        }
      ]
    },
    {
      "cell_type": "code",
      "metadata": {
        "id": "8NSq9dadaoY5",
        "outputId": "5b309d63-f4a6-4d8c-e5b7-95ef940766bb",
        "colab": {
          "base_uri": "https://localhost:8080/",
          "height": 52
        }
      },
      "source": [
        "#Question 4 Loops, random numbers\n",
        "import random\n",
        "import timeit\n",
        "\n",
        "start = timeit.default_timer()\n",
        "\n",
        "class coor:\n",
        "  x = 0.0\n",
        "  y = 0.0\n",
        "\n",
        "def pi_approx_monte_carlo(n):\n",
        "  # n = number of random coordinates in the circle\n",
        "  C = 0\n",
        "  S = 0\n",
        "  r=1\n",
        "  for i in range(0,n):\n",
        "    S += 1\n",
        "    pt = coor()\n",
        "    pt.x = random.uniform(-r,r) \n",
        "    pt.y = random.uniform(-r,r) \n",
        "    if ((pt.x**2 + pt.y**2)<=(r**2)):\n",
        "      C += 1\n",
        "  prob = C/S\n",
        "  return 4 * prob\n",
        "\n",
        "print(pi_approx_monte_carlo(10**7))\n",
        "\n",
        "stop = timeit.default_timer()\n",
        "\n",
        "print('Time: ', stop - start)  "
      ],
      "execution_count": null,
      "outputs": [
        {
          "output_type": "stream",
          "text": [
            "3.1419636\n",
            "Time:  13.471048568000015\n"
          ],
          "name": "stdout"
        }
      ]
    },
    {
      "cell_type": "code",
      "metadata": {
        "id": "Qks_QibielCQ",
        "outputId": "7ff64d4e-8e78-42d9-a858-87287e5b7672",
        "colab": {
          "base_uri": "https://localhost:8080/",
          "height": 52
        }
      },
      "source": [
        "#Question 5 Game\n",
        "def game(r,N):\n",
        "  win = 0\n",
        "  for i in range(0,N):\n",
        "    win -= 1\n",
        "    sum = random.randint(1,6) + random.randint(1,6) + random.randint(1,6) + random.randint(1,6)\n",
        "    if sum < 9:\n",
        "      win += r\n",
        "  print('winning:',win)\n",
        "  if win > 0:\n",
        "    return True\n",
        "  else:\n",
        "    return False\n",
        "\n",
        "print(game(20,10**7))"
      ],
      "execution_count": null,
      "outputs": [
        {
          "output_type": "stream",
          "text": [
            "winning: 812220\n",
            "True\n"
          ],
          "name": "stdout"
        }
      ]
    },
    {
      "cell_type": "code",
      "metadata": {
        "id": "Rqd43hNF_qlN",
        "outputId": "e2ae88b5-7809-4214-ef02-d95bc933a55e",
        "colab": {
          "base_uri": "https://localhost:8080/",
          "height": 52
        }
      },
      "source": [
        "#Question 6 Runge-Kutta 2nd order\n",
        "def approx_ode2(h,t0,y0,tn):\n",
        "  t = t0\n",
        "  y = y0\n",
        "  n = int((tn - t0) / h)\n",
        "  for i in range(n):\n",
        "    dydt = 4 - t + 2*y\n",
        "    dyhdt = 4 - (t + h) + 2*y\n",
        "    y = y + h * ( 0.5*dydt + 0.5*dyhdt + h*dydt )\n",
        "    t += h\n",
        "  return round(y,3)\n",
        "\n",
        "import math\n",
        "def approx_ode(h,t0,y0,tn):\n",
        "    y = y0\n",
        "    t = t0\n",
        "    n = int((tn - t0) / h)\n",
        "    for i in range(n):\n",
        "        dydt = 4 - t + 2 * y\n",
        "        y += h * dydt\n",
        "        t += h\n",
        "    return round(y,3)\n",
        "\n",
        "print(approx_ode(0.1,0,1,5))\n",
        "print(approx_ode2(0.1,0,1,5))"
      ],
      "execution_count": null,
      "outputs": [
        {
          "output_type": "stream",
          "text": [
            "25026.955\n",
            "57191.294\n"
          ],
          "name": "stdout"
        }
      ]
    },
    {
      "cell_type": "code",
      "metadata": {
        "id": "YxLHiz-6BJUN",
        "outputId": "857a2520-93b6-4947-c573-904af73bfdb1",
        "colab": {
          "base_uri": "https://localhost:8080/",
          "height": 34
        }
      },
      "source": [
        "int(9.81)"
      ],
      "execution_count": null,
      "outputs": [
        {
          "output_type": "execute_result",
          "data": {
            "text/plain": [
              "9"
            ]
          },
          "metadata": {
            "tags": []
          },
          "execution_count": 1
        }
      ]
    },
    {
      "cell_type": "code",
      "metadata": {
        "id": "wJNk3VUhYhrK",
        "outputId": "b3f151c2-afd5-4ad9-edc0-00f3e58b2f31",
        "colab": {
          "base_uri": "https://localhost:8080/",
          "height": 169
        }
      },
      "source": [
        "int('9.81')"
      ],
      "execution_count": null,
      "outputs": [
        {
          "output_type": "error",
          "ename": "ValueError",
          "evalue": "ignored",
          "traceback": [
            "\u001b[0;31m---------------------------------------------------------------------------\u001b[0m",
            "\u001b[0;31mValueError\u001b[0m                                Traceback (most recent call last)",
            "\u001b[0;32m<ipython-input-2-3aa27334c30d>\u001b[0m in \u001b[0;36m<module>\u001b[0;34m()\u001b[0m\n\u001b[0;32m----> 1\u001b[0;31m \u001b[0mint\u001b[0m\u001b[0;34m(\u001b[0m\u001b[0;34m'9.81'\u001b[0m\u001b[0;34m)\u001b[0m\u001b[0;34m\u001b[0m\u001b[0;34m\u001b[0m\u001b[0m\n\u001b[0m",
            "\u001b[0;31mValueError\u001b[0m: invalid literal for int() with base 10: '9.81'"
          ]
        }
      ]
    },
    {
      "cell_type": "code",
      "metadata": {
        "id": "WYhupMChYopZ",
        "outputId": "e2c46a7c-6165-4544-d5dc-d3d7468f143e",
        "colab": {
          "base_uri": "https://localhost:8080/",
          "height": 34
        }
      },
      "source": [
        "print('hi\\tbye')"
      ],
      "execution_count": null,
      "outputs": [
        {
          "output_type": "stream",
          "text": [
            "hi\tbye\n"
          ],
          "name": "stdout"
        }
      ]
    },
    {
      "cell_type": "code",
      "metadata": {
        "id": "SInT2XH1oq-H",
        "outputId": "1106c79f-d492-4861-d9ad-3147a23e855c",
        "colab": {
          "base_uri": "https://localhost:8080/",
          "height": 34
        }
      },
      "source": [
        "x = [1,2,3]\n",
        "x + x"
      ],
      "execution_count": null,
      "outputs": [
        {
          "output_type": "execute_result",
          "data": {
            "text/plain": [
              "[1, 2, 3, 1, 2, 3]"
            ]
          },
          "metadata": {
            "tags": []
          },
          "execution_count": 22
        }
      ]
    },
    {
      "cell_type": "code",
      "metadata": {
        "id": "jjku-gKIv8St"
      },
      "source": [
        ""
      ],
      "execution_count": null,
      "outputs": []
    },
    {
      "cell_type": "markdown",
      "metadata": {
        "id": "1lKOM2QmRDwC"
      },
      "source": [
        "# Problem Set 5"
      ]
    },
    {
      "cell_type": "markdown",
      "metadata": {
        "id": "_3u4Z3kJRKuI"
      },
      "source": [
        "Cohort Sessions"
      ]
    },
    {
      "cell_type": "code",
      "metadata": {
        "id": "9D5o-n7jRJBb",
        "outputId": "6f8f1bc9-c122-4e84-f7c1-58bcd2beb83d",
        "colab": {
          "base_uri": "https://localhost:8080/",
          "height": 70
        }
      },
      "source": [
        "#1 Crap\n",
        "\n",
        "import random\n",
        "\n",
        "craps=set([2,3,12])\n",
        "naturals=set([7,11])\n",
        "\n",
        "def roll_two_dices():\n",
        "    return random.randint(1,6), random.randint(1,6)\n",
        "\n",
        "def print_lose():\n",
        "    print(\"You lose\")\n",
        "\n",
        "def print_win():\n",
        "    print(\"You win\")\n",
        "\n",
        "def print_point(p):\n",
        "    print(\"Your points are %d\"%(p))\n",
        "\n",
        "def is_craps(n):\n",
        "    return n in craps\n",
        "\n",
        "def is_naturals(n):\n",
        "    return n in naturals\n",
        "\n",
        "\n",
        "# ATTENTION!\n",
        "# You shouldn't need to edit the function below\n",
        "\n",
        "def play_craps():\n",
        "    point=-1\n",
        "    while True:\n",
        "        n1,n2=roll_two_dices()\n",
        "        sumn=n1+n2\n",
        "        print ('You rolled %d + %d = %d'%(n1,n2,sumn))   #initial points obtained here\n",
        "        if point==-1:              #At the initialisation of point == -1 (see line 29)\n",
        "            if is_craps(sumn):  #if the sum is in the set of craps\n",
        "                print_lose()     #then it is an immediate loss\n",
        "                return 0\n",
        "            elif is_naturals(sumn):   #if the sum is in the set of naturals\n",
        "                print_win()     #then it is an immediate  win\n",
        "                return 1\n",
        "            point=sumn\n",
        "            print_point(point)\n",
        "        else:\n",
        "            if sumn==7:\n",
        "                print_lose()\n",
        "                return 0\n",
        "            elif sumn==point:\n",
        "                print_win()\n",
        "                return 1   #goal of the game is to keep rolling dice until the sum == points obtained\n",
        "\n",
        "\n",
        "random.seed(50)\n",
        "play_craps()"
      ],
      "execution_count": null,
      "outputs": [
        {
          "output_type": "stream",
          "text": [
            "You rolled 4 + 3 = 7\n",
            "You win\n"
          ],
          "name": "stdout"
        },
        {
          "output_type": "execute_result",
          "data": {
            "text/plain": [
              "1"
            ]
          },
          "metadata": {
            "tags": []
          },
          "execution_count": 5
        }
      ]
    },
    {
      "cell_type": "code",
      "metadata": {
        "id": "-lJy0qyATnit",
        "outputId": "21f48c4d-ffe9-47b7-d118-2f5e35e990dc",
        "colab": {
          "base_uri": "https://localhost:8080/",
          "height": 1000
        }
      },
      "source": [
        "#CS2 Calendar shortened to 49 lines\n",
        "def leap_year(year):\n",
        "    return False if (year % 4 != 0) else True if (year % 100 != 0) else False if (year % 400 != 0) else True\n",
        "\n",
        "def day_of_week_jan1(year):\n",
        "    def R(y,x):\n",
        "        return y % x\n",
        "    return R((1+5*R(year-1,4)+4*R(year-1,100)+6*R(year-1,400)),7)\n",
        "\n",
        "def num_days_in_month(month_num, leap_year):\n",
        "    thirty=set([4,6,9,11])\n",
        "    if month_num == 2:\n",
        "        return 29 if (leap_year == True) else 28 \n",
        "    return 30 if (month_num in thirty) else 31\n",
        "\n",
        "def construct_cal_month(month_num, first_day_of_month, num_days_in_month):\n",
        "    months = ['January','February','March','April','May','June','July','August','September','October','November','December']\n",
        "    ans = [months[month_num-1]]\n",
        "    wk = '   ' * first_day_of_month\n",
        "    for day in range(1,num_days_in_month+1):\n",
        "        if len(str(day)) == 1:\n",
        "            wk += '  ' + str(day)\n",
        "        elif len(str(day)) == 2:\n",
        "            wk += ' ' + str(day)\n",
        "        if first_day_of_month == 6 or day == num_days_in_month: \n",
        "            ans.append(wk)\n",
        "            wk = ''\n",
        "            first_day_of_month = 0\n",
        "        elif first_day_of_month < 6:\n",
        "            first_day_of_month += 1\n",
        "    return ans\n",
        "\n",
        "def construct_cal_year(year):\n",
        "    yr = [year]\n",
        "    first_day_of_month = day_of_week_jan1(year)\n",
        "    for i in range(1,13):\n",
        "        monthi = construct_cal_month(i,first_day_of_month,num_days_in_month(i,leap_year(year)))\n",
        "        first_day_of_month = (first_day_of_month + num_days_in_month(i,leap_year(year))) % 7\n",
        "        yr.append(monthi)\n",
        "    return yr\n",
        "\n",
        "def display_calendar(year):\n",
        "    calendar = ''\n",
        "    for i in construct_cal_year(year)[1:]:\n",
        "        i.insert(1,'  S  M  T  W  T  F  S')\n",
        "        for n in i:\n",
        "            calendar += n + '\\n'\n",
        "        if i[0] != 'December':\n",
        "            calendar += '\\n'\n",
        "    return calendar[:-1]\n",
        "\n",
        "def printing(calendar):\n",
        "    temp = calendar.replace(' ','*')\n",
        "    return temp.replace('\\n','+\\n')\n",
        "\n",
        "ans = display_calendar(2015)\n",
        "print('There are {} characters in ans.'.format(len(ans)))\n",
        "print('START')\n",
        "print(printing(ans))\n",
        "print('END')"
      ],
      "execution_count": null,
      "outputs": [
        {
          "output_type": "stream",
          "text": [
            "There are 1606 characters in ans.\n",
            "START\n",
            "January+\n",
            "**S**M**T**W**T**F**S+\n",
            "**************1**2**3+\n",
            "**4**5**6**7**8**9*10+\n",
            "*11*12*13*14*15*16*17+\n",
            "*18*19*20*21*22*23*24+\n",
            "*25*26*27*28*29*30*31+\n",
            "+\n",
            "February+\n",
            "**S**M**T**W**T**F**S+\n",
            "**1**2**3**4**5**6**7+\n",
            "**8**9*10*11*12*13*14+\n",
            "*15*16*17*18*19*20*21+\n",
            "*22*23*24*25*26*27*28+\n",
            "+\n",
            "March+\n",
            "**S**M**T**W**T**F**S+\n",
            "**1**2**3**4**5**6**7+\n",
            "**8**9*10*11*12*13*14+\n",
            "*15*16*17*18*19*20*21+\n",
            "*22*23*24*25*26*27*28+\n",
            "*29*30*31+\n",
            "+\n",
            "April+\n",
            "**S**M**T**W**T**F**S+\n",
            "***********1**2**3**4+\n",
            "**5**6**7**8**9*10*11+\n",
            "*12*13*14*15*16*17*18+\n",
            "*19*20*21*22*23*24*25+\n",
            "*26*27*28*29*30+\n",
            "+\n",
            "May+\n",
            "**S**M**T**W**T**F**S+\n",
            "*****************1**2+\n",
            "**3**4**5**6**7**8**9+\n",
            "*10*11*12*13*14*15*16+\n",
            "*17*18*19*20*21*22*23+\n",
            "*24*25*26*27*28*29*30+\n",
            "*31+\n",
            "+\n",
            "June+\n",
            "**S**M**T**W**T**F**S+\n",
            "*****1**2**3**4**5**6+\n",
            "**7**8**9*10*11*12*13+\n",
            "*14*15*16*17*18*19*20+\n",
            "*21*22*23*24*25*26*27+\n",
            "*28*29*30+\n",
            "+\n",
            "July+\n",
            "**S**M**T**W**T**F**S+\n",
            "***********1**2**3**4+\n",
            "**5**6**7**8**9*10*11+\n",
            "*12*13*14*15*16*17*18+\n",
            "*19*20*21*22*23*24*25+\n",
            "*26*27*28*29*30*31+\n",
            "+\n",
            "August+\n",
            "**S**M**T**W**T**F**S+\n",
            "********************1+\n",
            "**2**3**4**5**6**7**8+\n",
            "**9*10*11*12*13*14*15+\n",
            "*16*17*18*19*20*21*22+\n",
            "*23*24*25*26*27*28*29+\n",
            "*30*31+\n",
            "+\n",
            "September+\n",
            "**S**M**T**W**T**F**S+\n",
            "********1**2**3**4**5+\n",
            "**6**7**8**9*10*11*12+\n",
            "*13*14*15*16*17*18*19+\n",
            "*20*21*22*23*24*25*26+\n",
            "*27*28*29*30+\n",
            "+\n",
            "October+\n",
            "**S**M**T**W**T**F**S+\n",
            "**************1**2**3+\n",
            "**4**5**6**7**8**9*10+\n",
            "*11*12*13*14*15*16*17+\n",
            "*18*19*20*21*22*23*24+\n",
            "*25*26*27*28*29*30*31+\n",
            "+\n",
            "November+\n",
            "**S**M**T**W**T**F**S+\n",
            "**1**2**3**4**5**6**7+\n",
            "**8**9*10*11*12*13*14+\n",
            "*15*16*17*18*19*20*21+\n",
            "*22*23*24*25*26*27*28+\n",
            "*29*30+\n",
            "+\n",
            "December+\n",
            "**S**M**T**W**T**F**S+\n",
            "********1**2**3**4**5+\n",
            "**6**7**8**9*10*11*12+\n",
            "*13*14*15*16*17*18*19+\n",
            "*20*21*22*23*24*25*26+\n",
            "*27*28*29*30*31\n",
            "END\n"
          ],
          "name": "stdout"
        }
      ]
    },
    {
      "cell_type": "code",
      "metadata": {
        "id": "4bqPAGT0er88",
        "outputId": "086f864a-1bd1-4e93-d456-db1c178247fb",
        "colab": {
          "base_uri": "https://localhost:8080/",
          "height": 1000
        }
      },
      "source": [
        "#submitted calendar\n",
        "def leap_year(year):\n",
        "    if year % 4 != 0:\n",
        "        return False\n",
        "    elif year % 100 != 0:\n",
        "        return True\n",
        "    elif year % 400 != 0:\n",
        "        return False\n",
        "    else:\n",
        "        return True\n",
        "\n",
        "def day_of_week_jan1(year):\n",
        "    def R(y,x):\n",
        "        return y % x\n",
        "    d = R((1+5*R(year-1,4)+4*R(year-1,100)+6*R(year-1,400)),7)\n",
        "    return d\n",
        "\n",
        "def num_days_in_month(month_num, leap_year):\n",
        "    thirty=set([4,6,9,11])\n",
        "    thirtyone=set([1,3,5,7,8,10,12])\n",
        "    if month_num in thirty:\n",
        "        return 30\n",
        "    if month_num in thirtyone:\n",
        "        return 31\n",
        "    if month_num == 2:\n",
        "        if leap_year == True:\n",
        "            return 29\n",
        "        elif leap_year == False:\n",
        "            return 28\n",
        "\n",
        "def construct_cal_month(month_num, first_day_of_month, num_days_in_month):\n",
        "    if month_num == 1:\n",
        "        month_name = 'January'\n",
        "    elif month_num == 2:\n",
        "        month_name = 'February'\n",
        "    elif month_num == 3:\n",
        "        month_name = 'March'\n",
        "    elif month_num == 4:\n",
        "        month_name = 'April'\n",
        "    elif month_num == 5:\n",
        "        month_name = 'May'\n",
        "    elif month_num == 6:\n",
        "        month_name = 'June'\n",
        "    elif month_num == 7:\n",
        "        month_name = 'July'\n",
        "    elif month_num == 8:\n",
        "        month_name = 'August'\n",
        "    elif month_num == 9:\n",
        "        month_name = 'September'\n",
        "    elif month_num == 10:\n",
        "        month_name = 'October'\n",
        "    elif month_num == 11:\n",
        "        month_name = 'November'\n",
        "    elif month_num == 12:\n",
        "        month_name = 'December'\n",
        "    i = first_day_of_month\n",
        "    ans = [month_name]\n",
        "    wk = ''\n",
        "    for day in range(1,num_days_in_month+1):\n",
        "        if i < 6:\n",
        "            if len(str(day)) == 1:\n",
        "                wk += '  ' + str(day)\n",
        "            elif len(str(day)) == 2:\n",
        "                wk += ' ' + str(day)\n",
        "            i += 1\n",
        "            if day == num_days_in_month:\n",
        "                ans.append(wk)\n",
        "                wk = ''\n",
        "        elif i == 6:\n",
        "            if len(str(day)) == 1:\n",
        "                wk += '  ' + str(day)\n",
        "            elif len(str(day)) == 2:\n",
        "                wk += ' ' + str(day)\n",
        "            if len(wk) != 21:\n",
        "                wk = ' ' * (21-len(wk)) + wk\n",
        "            ans.append(wk)\n",
        "            wk = ''\n",
        "            i = 0\n",
        "    return ans\n",
        "\n",
        "def construct_cal_year(year):\n",
        "    yr = [year]\n",
        "    first_day_of_month = day_of_week_jan1(year)\n",
        "    for i in range(1,13):\n",
        "        monthi = construct_cal_month(i,first_day_of_month,num_days_in_month(i,leap_year(year)))\n",
        "        first_day_of_month = (first_day_of_month + num_days_in_month(i,leap_year(year))) % 7\n",
        "        yr.append(monthi)\n",
        "    return yr\n",
        "\n",
        "def display_calendar(year):\n",
        "    lst = construct_cal_year(year)\n",
        "    calendar = ''\n",
        "    for i in lst[1:]:\n",
        "        i.insert(1,'  S  M  T  W  T  F  S')\n",
        "        for n in i:\n",
        "            calendar += n + '\\n'\n",
        "        if i[0] != 'December':\n",
        "            calendar += '\\n'\n",
        "    return calendar[:-1]\n",
        "\n",
        "print(display_calendar(1900))"
      ],
      "execution_count": null,
      "outputs": [
        {
          "output_type": "stream",
          "text": [
            "January\n",
            "  S  M  T  W  T  F  S\n",
            "     1  2  3  4  5  6\n",
            "  7  8  9 10 11 12 13\n",
            " 14 15 16 17 18 19 20\n",
            " 21 22 23 24 25 26 27\n",
            " 28 29 30 31\n",
            "\n",
            "February\n",
            "  S  M  T  W  T  F  S\n",
            "              1  2  3\n",
            "  4  5  6  7  8  9 10\n",
            " 11 12 13 14 15 16 17\n",
            " 18 19 20 21 22 23 24\n",
            " 25 26 27 28\n",
            "\n",
            "March\n",
            "  S  M  T  W  T  F  S\n",
            "              1  2  3\n",
            "  4  5  6  7  8  9 10\n",
            " 11 12 13 14 15 16 17\n",
            " 18 19 20 21 22 23 24\n",
            " 25 26 27 28 29 30 31\n",
            "\n",
            "April\n",
            "  S  M  T  W  T  F  S\n",
            "  1  2  3  4  5  6  7\n",
            "  8  9 10 11 12 13 14\n",
            " 15 16 17 18 19 20 21\n",
            " 22 23 24 25 26 27 28\n",
            " 29 30\n",
            "\n",
            "May\n",
            "  S  M  T  W  T  F  S\n",
            "        1  2  3  4  5\n",
            "  6  7  8  9 10 11 12\n",
            " 13 14 15 16 17 18 19\n",
            " 20 21 22 23 24 25 26\n",
            " 27 28 29 30 31\n",
            "\n",
            "June\n",
            "  S  M  T  W  T  F  S\n",
            "                 1  2\n",
            "  3  4  5  6  7  8  9\n",
            " 10 11 12 13 14 15 16\n",
            " 17 18 19 20 21 22 23\n",
            " 24 25 26 27 28 29 30\n",
            "\n",
            "July\n",
            "  S  M  T  W  T  F  S\n",
            "  1  2  3  4  5  6  7\n",
            "  8  9 10 11 12 13 14\n",
            " 15 16 17 18 19 20 21\n",
            " 22 23 24 25 26 27 28\n",
            " 29 30 31\n",
            "\n",
            "August\n",
            "  S  M  T  W  T  F  S\n",
            "           1  2  3  4\n",
            "  5  6  7  8  9 10 11\n",
            " 12 13 14 15 16 17 18\n",
            " 19 20 21 22 23 24 25\n",
            " 26 27 28 29 30 31\n",
            "\n",
            "September\n",
            "  S  M  T  W  T  F  S\n",
            "                    1\n",
            "  2  3  4  5  6  7  8\n",
            "  9 10 11 12 13 14 15\n",
            " 16 17 18 19 20 21 22\n",
            " 23 24 25 26 27 28 29\n",
            " 30\n",
            "\n",
            "October\n",
            "  S  M  T  W  T  F  S\n",
            "     1  2  3  4  5  6\n",
            "  7  8  9 10 11 12 13\n",
            " 14 15 16 17 18 19 20\n",
            " 21 22 23 24 25 26 27\n",
            " 28 29 30 31\n",
            "\n",
            "November\n",
            "  S  M  T  W  T  F  S\n",
            "              1  2  3\n",
            "  4  5  6  7  8  9 10\n",
            " 11 12 13 14 15 16 17\n",
            " 18 19 20 21 22 23 24\n",
            " 25 26 27 28 29 30\n",
            "\n",
            "December\n",
            "  S  M  T  W  T  F  S\n",
            "                    1\n",
            "  2  3  4  5  6  7  8\n",
            "  9 10 11 12 13 14 15\n",
            " 16 17 18 19 20 21 22\n",
            " 23 24 25 26 27 28 29\n",
            " 30 31\n"
          ],
          "name": "stdout"
        }
      ]
    },
    {
      "cell_type": "code",
      "metadata": {
        "id": "vzW8WxHlvv9X"
      },
      "source": [
        "#SC3 Recursion\n",
        "def fact_rec(n):\n",
        "    if n == 0:\n",
        "        return 1\n",
        "    return n * fact_rec(n-1)"
      ],
      "execution_count": null,
      "outputs": []
    },
    {
      "cell_type": "markdown",
      "metadata": {
        "id": "Jpxkfy5xF3XG"
      },
      "source": [
        "Homework"
      ]
    },
    {
      "cell_type": "code",
      "metadata": {
        "id": "exNZGguPwzL4",
        "outputId": "470db0f3-09aa-4e16-b18e-51b88719cac6",
        "colab": {
          "base_uri": "https://localhost:8080/",
          "height": 34
        }
      },
      "source": [
        "#HW1 Extract Values, Calculate Ratios\n",
        "def extract_values(values):\n",
        "    return tuple(map(int, values.split(' '))) \n",
        "\n",
        "def calc_ratios(values):\n",
        "    return values[0]/values[1] if (values[1] != 0) else None\n",
        "\n",
        "values = '134 289'\n",
        "print(calc_ratios((134, 0)))"
      ],
      "execution_count": null,
      "outputs": [
        {
          "output_type": "stream",
          "text": [
            "None\n"
          ],
          "name": "stdout"
        }
      ]
    },
    {
      "cell_type": "code",
      "metadata": {
        "id": "cQUrfX3BHp1m",
        "outputId": "10f78a01-2c30-4917-e712-a7ccc1857d7f",
        "colab": {
          "base_uri": "https://localhost:8080/",
          "height": 140
        }
      },
      "source": [
        "#HW2 Modified Calendar\n",
        "def display_calendar_modified(year, month):\n",
        "    if month == None:\n",
        "        return display_calendar(year)\n",
        "    elif ((month>=1) and (month<12)):\n",
        "        lst = construct_cal_year(year)[month]\n",
        "        lst.insert(1,'  S  M  T  W  T  F  S')\n",
        "        display = ''\n",
        "        for i in lst:\n",
        "            display += i + '\\n'\n",
        "        return display[:-1]\n",
        "\n",
        "print(display_calendar_modified(2019, 10))"
      ],
      "execution_count": null,
      "outputs": [
        {
          "output_type": "stream",
          "text": [
            "October\n",
            "  S  M  T  W  T  F  S\n",
            "        1  2  3  4  5\n",
            "  6  7  8  9 10 11 12\n",
            " 13 14 15 16 17 18 19\n",
            " 20 21 22 23 24 25 26\n",
            " 27 28 29 30 31\n"
          ],
          "name": "stdout"
        }
      ]
    },
    {
      "cell_type": "markdown",
      "metadata": {
        "id": "3-ffHqzehElG"
      },
      "source": [
        "Exercises"
      ]
    },
    {
      "cell_type": "code",
      "metadata": {
        "id": "5WBmBMCqhIGS",
        "outputId": "7147a94a-6ea1-4680-b2db-383da207671a",
        "colab": {
          "base_uri": "https://localhost:8080/",
          "height": 54
        }
      },
      "source": [
        "#1 Recursion\n",
        "def printing(a,b,c):\n",
        "    return 'Move disk {} from {} to {}'.format(a,b,c)\n",
        "\n",
        "def move_disk(n,fromTower,toTower,auxTower,sol):\n",
        "    disks = list(range(1,n+1))\n",
        "    location = {\n",
        "        fromTower : disks,\n",
        "        toTower : [],\n",
        "        auxTower : []\n",
        "    }\n",
        "\n",
        "    if n > 0:\n",
        "        # Move n - 1 disks from source to auxiliary, so they are out of the way\n",
        "        move_disk(n - 1, fromTower, auxTower, toTower, sol)\n",
        "\n",
        "        # Move the nth disk from source to target\n",
        "        location[toTower].append(location[fromTower].pop())\n",
        "\n",
        "        # Display our progress\n",
        "        sol.append(printing(n,fromTower,toTower))\n",
        "\n",
        "        # Move the n - 1 disks that we left on auxiliary onto target\n",
        "        move_disk(n - 1, auxTower, toTower, fromTower, sol)\n",
        "sol = []\n",
        "move_disk(3,'A','B','C',sol)\n",
        "print(sol)"
      ],
      "execution_count": null,
      "outputs": [
        {
          "output_type": "stream",
          "text": [
            "['Move disk 1 from A to B', 'Move disk 2 from A to C', 'Move disk 1 from B to C', 'Move disk 3 from A to B', 'Move disk 1 from C to A', 'Move disk 2 from C to B', 'Move disk 1 from A to B']\n"
          ],
          "name": "stdout"
        }
      ]
    },
    {
      "cell_type": "code",
      "metadata": {
        "id": "vqtuK_aXKFEN",
        "outputId": "b80c2460-ff7e-4095-bb8e-5578964968ef",
        "colab": {
          "base_uri": "https://localhost:8080/",
          "height": 34
        }
      },
      "source": [
        "\"Dog\" < \"dog\"\n",
        "\"dog\" < \"Dog\""
      ],
      "execution_count": null,
      "outputs": [
        {
          "output_type": "execute_result",
          "data": {
            "text/plain": [
              "False"
            ]
          },
          "metadata": {
            "tags": []
          },
          "execution_count": 9
        }
      ]
    },
    {
      "cell_type": "code",
      "metadata": {
        "id": "-VOWez53JOzJ",
        "outputId": "7b483ead-42b6-4d9b-97d3-8ea85347a7ea",
        "colab": {
          "base_uri": "https://localhost:8080/",
          "height": 34
        }
      },
      "source": [
        "s = 'python'\n",
        "t = 'rocks'\n",
        "print(s + t)"
      ],
      "execution_count": null,
      "outputs": [
        {
          "output_type": "stream",
          "text": [
            "pythonrocks\n"
          ],
          "name": "stdout"
        }
      ]
    },
    {
      "cell_type": "code",
      "metadata": {
        "id": "w6R9jRsQLmJj",
        "outputId": "aa8f3f4a-04e1-4a6f-9e13-025f7a0b3407",
        "colab": {
          "base_uri": "https://localhost:8080/",
          "height": 34
        }
      },
      "source": [
        "s= 'python rocks'\n",
        "print(s[3])"
      ],
      "execution_count": null,
      "outputs": [
        {
          "output_type": "stream",
          "text": [
            "h\n"
          ],
          "name": "stdout"
        }
      ]
    },
    {
      "cell_type": "code",
      "metadata": {
        "id": "Ovdwdi4hMKdu",
        "outputId": "4d422a5c-4cb2-4832-b480-d46303a33539",
        "colab": {
          "base_uri": "https://localhost:8080/",
          "height": 1000
        }
      },
      "source": [
        "import scipy.constants as c\n",
        "import numpy as np\n",
        "a=c.physical_constants['Bohr radius'][0]\n",
        "\n",
        "\n",
        "\n",
        "\n",
        "#useful functions\n",
        "#fvec = np.vectorize(f) this function takes in a function and returns vectorised version\n",
        "#m = mag(c) this function takes in a complex number and returns its absolute value\n",
        "#ar = np.array(x) this function takes in a list and returns a numpy array\n",
        "#np.absolute(x) this function returns the absolute value of x\n",
        "\n",
        "def hydrogen_wave_func(n,l,m,roa,Nx,Ny,Nz):\n",
        "    dendendensity = []\n",
        "    biggestlst = mgrid3d(-roa, roa, Nx, -roa, roa, Ny, -roa, roa, Nz)\n",
        "    xx = np.round(biggestlst[0],5)\n",
        "    yy = np.round(biggestlst[1],5)\n",
        "    zz = np.round(biggestlst[2],5)\n",
        "    for cc in range(Nx):\n",
        "        dendensity = []\n",
        "        \n",
        "        for bb in range(Ny):\n",
        "            density = []\n",
        "            \n",
        "            for aa in range(Nz):\n",
        "                x = biggestlst[0][cc][bb][aa]        \n",
        "                y = biggestlst[1][cc][bb][aa]\n",
        "                z = biggestlst[2][cc][bb][aa]\n",
        "                cart = cartesian_to_spherical(x,y,z)\n",
        "                #rad = (radial_wave_func(n, l, cart[0]))\n",
        "                rad = (radial_wave_func(n, l, cart[0]*a))\n",
        "\n",
        "                if m < 0:\n",
        "                    ang = (1j/(2)**0.5)*(angular_wave_func(m, l, cart[1], cart[2])-((-1)**m)*(angular_wave_func(-m, l, cart[1], cart[2])))\n",
        "                elif m == 0:\n",
        "                    ang = angular_wave_func(m, l, cart[1], cart[2])\n",
        "                elif m > 0:\n",
        "                    ang = (1j/(2)**0.5)*(angular_wave_func(-m, l, cart[1], cart[2])+((-1)**m)*(angular_wave_func(m, l, cart[1], cart[2])))\n",
        "                #rad = rad*a    \n",
        "                ang = (ang.real**2 + ang.imag**2)**0.5\n",
        "                den = (rad*ang)**2\n",
        "                den = round(den,5)\n",
        "                density.append(den)\n",
        "            dendensity.append(density)    \n",
        "        dendendensity.append(dendensity)       \n",
        "  \n",
        "    return xx, yy , zz, np.array(dendendensity)\n",
        "  #  return dendendensity\n",
        "\n",
        "    \n",
        "def cartesian_to_spherical(x,y,z):\n",
        "    r = np.sqrt(x**2 + y**2 + z**2)\n",
        "    if z == 0:\n",
        "        theta = np.pi/2\n",
        "    else:\n",
        "        theta = np.arctan((np.sqrt(x**2 + y**2))/z)\n",
        "    if x == 0:\n",
        "        phi = np.pi/2\n",
        "    else :\n",
        "        phi = np.arctan(y/x)\n",
        "    \n",
        "    cart = []\n",
        "    cart = [r, theta, phi]\n",
        "    return cart\n",
        "\n",
        "\n",
        "def radial_wave_func(n,l,r):\n",
        "    R = coeff(n,l,r) * exponent(n,r)\n",
        "    #print(R)\n",
        "    return R\n",
        "\n",
        "def exponent(n,r):\n",
        "    return np.exp(-r/(n*a))\n",
        "\n",
        "def coeff(n,l,r):\n",
        "    if n == 1:\n",
        "        coeff = 2\n",
        "    elif n == 2:\n",
        "        if l == 0:\n",
        "            coeff = (1/np.sqrt(2)) * (1-r/(2*a)) \n",
        "        elif l == 1:\n",
        "            coeff = (1/(np.sqrt(24))*(r/a))\n",
        "        else:\n",
        "            coeff == False\n",
        "    elif n == 3:\n",
        "        if l == 0:\n",
        "            coeff = (2/((3)**3/2)*(1-2*r/3*a + 2*r**2/(27*a**2)))\n",
        "        elif l == 1:\n",
        "            coeff = (8/(9*np.sqrt(2)*(3)**(3/2)))*(r/a - r**2/(6*a**2)) \n",
        "        elif l == 2:\n",
        "            coeff = (4/(27*np.sqrt(10)*(3)**(3/2))) * (r**2)/a**2\n",
        "        else:\n",
        "            coeff == False\n",
        "    return coeff\n",
        "\n",
        "\n",
        "def angular_wave_func(m, l, t, p):\n",
        "    if l == 0 and m==0:\n",
        "        y = (1 / (4 * np.pi)**0.5)\n",
        "   #     return np.complex(y)\n",
        "    if l == 1:\n",
        "        if m == 0:\n",
        "           y = np.sqrt(3/(4*c.pi)) * np.cos(t)\n",
        "#           return np.complex(y)\n",
        "        if m == 1:\n",
        "            y = -1 * np.sqrt(3/(8*np.pi)) * np.sin(t) * np.exp(p*1j)\n",
        "#            return np.complex(y)\n",
        "        if m == -1:\n",
        "            y = np.sqrt(3/(8*c.pi))*np.sin(t)*np.exp(-1*p*1j)\n",
        "#            return np.complex(y)\n",
        "    if l == 2:\n",
        "        if m == 2:\n",
        "            y = np.sqrt(15/(32*c.pi))*np.sin(t)**2*np.exp(2*p*1j)\n",
        " #           return np.complex(y)\n",
        "        if m == 1 :\n",
        "            y = -1 * np.sqrt(15/(32*c.pi))*np.sin(t)*np.cos(t)*np.exp(p*1j)\n",
        "#            return np.complex(y)\n",
        "        if m == 0:\n",
        "            y = np.sqrt(5/(16*c.pi))*(3*(np.cos(t))**2-1)\n",
        "#            return np.complex(y)\n",
        "        if m == -1:\n",
        "            y = np.sqrt(15/(8*c.pi))*np.cos(t)*np.sin(t)*np.exp(-1j*p)\n",
        "#            return np.complex(y)\n",
        "        if m == -2:\n",
        "            y = (np.sqrt(15/(32*c.pi)) * np.sin(t)**2*np.exp(-2*p*1j),5)\n",
        "#            return np.complex(y)\n",
        "    if l== 3:\n",
        "        if m == 3:\n",
        "            y = (-1*np.sqrt(35/(64*c.pi))*np.sin(t)**3*np.exp(3*p*1j),5)\n",
        "#            return np.complex(y)\n",
        "        if m == 2:\n",
        "            y = (np.sqrt(105/(32*c.pi))*np.cos(t)*np.sin(t)**2*np.exp(3*p*1j),5)\n",
        "#            return np.complex(y)\n",
        "        if m == 1:\n",
        "            y = (-1*np.sqrt(21/(64*c.pi))*np.sin(t)*(5*(np.cos(t))**2-1)*np.exp(p*1j),5)\n",
        "#            return np.complex(y)\n",
        "        if m == 0:\n",
        "            y = (np.sqrt(7/(16*c.pi))*(5*(np.cos(t))**3-3*np.cos(t)),5)\n",
        "#            return np.complex(y)\n",
        "        if m == -1:\n",
        "            y = (np.sqrt(21/(64*c.pi))*np.sin(t)*(5*(np.cos(t))**2-1)*np.exp(-1*p*1j),5)\n",
        "#            return np.complex(y)\n",
        "        if m == -2:\n",
        "            y = (np.sqrt(105/(32*c.pi))*np.cos(t)*np.sin(t)**2*np.exp(-2*p*1j),5)\n",
        "#           return np.complex(y)\n",
        "        if m == -3:\n",
        "            y = (np.sqrt(35/(64*c.pi))*np.sin(t)**3*np.exp(-3*p*1j),5)\n",
        "    \n",
        "    return y\n",
        "\n",
        "\n",
        "    \n",
        "def mgrid3d (xstart,xend,xpoints,ystart,yend,ypoints,zstart,zend,zpoints):\n",
        "    \n",
        "    xr = []\n",
        "    yr = []\n",
        "    zr = []\n",
        "    xval = xstart\n",
        "    xcount = 0\n",
        "    \n",
        "    xstep = (xend - xstart) / (xpoints - 1)\n",
        "    ystep = (yend - ystart) / (ypoints - 1)\n",
        "    zstep = (zend - zstart) / (zpoints - 1)\n",
        "    \n",
        "    while xcount < xpoints:\n",
        "        yval = ystart\n",
        "        ycount = 0\n",
        "        \n",
        "        xrow = []\n",
        "        yrow = []\n",
        "        zrow = []\n",
        "        \n",
        "        while ycount < ypoints:\n",
        "            zval = zstart\n",
        "            zcount = 0\n",
        "            \n",
        "            xinrow =[]\n",
        "            yinrow = []\n",
        "            zinrow = []\n",
        "            \n",
        "            while zcount < zpoints:\n",
        "                xinrow.append(float(xval))\n",
        "                yinrow.append(float(yval))\n",
        "                zinrow.append(float(zval))\n",
        "                \n",
        "                zval += zstep\n",
        "                zcount += 1\n",
        "            xrow.append(xinrow)\n",
        "            yrow.append(yinrow)\n",
        "            zrow.append(zinrow)\n",
        "            \n",
        "            yval += ystep\n",
        "            ycount += 1\n",
        "        \n",
        "        xr.append(xrow)\n",
        "        yr.append(yrow)\n",
        "        zr.append(zrow)\n",
        "        xval += xstep\n",
        "        xcount += 1\n",
        "    return (xr,yr,zr)\n",
        "\n",
        "#\n",
        "#\n",
        "#def newgrid3d (den, aa, b, c, Nx, Ny, Nz):\n",
        "#   # lst = []\n",
        "#    if aa < Nx+2:\n",
        "#        if b < Ny+2:\n",
        "#            if c < Nz+2:\n",
        "#                return den\n",
        "##Test:\n",
        "print('Test 1')\n",
        "x,y,z,mag = hydrogen_wave_func(2 ,1 ,1 ,8 ,2 ,2 ,2)\n",
        "print('x, y, z:')\n",
        "print(x, y, z)\n",
        "print('mag:')\n",
        "print(mag)\n",
        "\n",
        "print('\\n')\n",
        "print('Test 2')\n",
        "x,y,z,mag = hydrogen_wave_func(2 ,1 ,1 ,5 ,3 ,4 ,2)\n",
        "print('x, y, z:')\n",
        "print(x, y, z)\n",
        "print('mag:')\n",
        "print(mag)\n",
        "\n",
        "print('\\n')\n",
        "print('Test 3')\n",
        "x,y,z,mag = hydrogen_wave_func(2 ,0 ,0 ,3 ,5 ,4 ,3)\n",
        "print('x, y, z:')\n",
        "print(x, y, z)\n",
        "print('mag:')\n",
        "print(mag)"
      ],
      "execution_count": null,
      "outputs": [
        {
          "output_type": "stream",
          "text": [
            "Test 1\n",
            "x, y, z:\n",
            "[[[-8. -8.]\n",
            "  [-8. -8.]]\n",
            "\n",
            " [[ 8.  8.]\n",
            "  [ 8.  8.]]] [[[-8. -8.]\n",
            "  [ 8.  8.]]\n",
            "\n",
            " [[-8. -8.]\n",
            "  [ 8.  8.]]] [[[-8.  8.]\n",
            "  [-8.  8.]]\n",
            "\n",
            " [[-8.  8.]\n",
            "  [-8.  8.]]]\n",
            "mag:\n",
            "[[[0. 0.]\n",
            "  [0. 0.]]\n",
            "\n",
            " [[0. 0.]\n",
            "  [0. 0.]]]\n",
            "\n",
            "\n",
            "Test 2\n",
            "x, y, z:\n",
            "[[[-5. -5.]\n",
            "  [-5. -5.]\n",
            "  [-5. -5.]\n",
            "  [-5. -5.]]\n",
            "\n",
            " [[ 0.  0.]\n",
            "  [ 0.  0.]\n",
            "  [ 0.  0.]\n",
            "  [ 0.  0.]]\n",
            "\n",
            " [[ 5.  5.]\n",
            "  [ 5.  5.]\n",
            "  [ 5.  5.]\n",
            "  [ 5.  5.]]] [[[-5.      -5.     ]\n",
            "  [-1.66667 -1.66667]\n",
            "  [ 1.66667  1.66667]\n",
            "  [ 5.       5.     ]]\n",
            "\n",
            " [[-5.      -5.     ]\n",
            "  [-1.66667 -1.66667]\n",
            "  [ 1.66667  1.66667]\n",
            "  [ 5.       5.     ]]\n",
            "\n",
            " [[-5.      -5.     ]\n",
            "  [-1.66667 -1.66667]\n",
            "  [ 1.66667  1.66667]\n",
            "  [ 5.       5.     ]]] [[[-5.  5.]\n",
            "  [-5.  5.]\n",
            "  [-5.  5.]\n",
            "  [-5.  5.]]\n",
            "\n",
            " [[-5.  5.]\n",
            "  [-5.  5.]\n",
            "  [-5.  5.]\n",
            "  [-5.  5.]]\n",
            "\n",
            " [[-5.  5.]\n",
            "  [-5.  5.]\n",
            "  [-5.  5.]\n",
            "  [-5.  5.]]]\n",
            "mag:\n",
            "[[[4.0e-05 4.0e-05]\n",
            "  [1.7e-04 1.7e-04]\n",
            "  [1.7e-04 1.7e-04]\n",
            "  [4.0e-05 4.0e-05]]\n",
            "\n",
            " [[0.0e+00 0.0e+00]\n",
            "  [0.0e+00 0.0e+00]\n",
            "  [0.0e+00 0.0e+00]\n",
            "  [0.0e+00 0.0e+00]]\n",
            "\n",
            " [[4.0e-05 4.0e-05]\n",
            "  [1.7e-04 1.7e-04]\n",
            "  [1.7e-04 1.7e-04]\n",
            "  [4.0e-05 4.0e-05]]]\n",
            "\n",
            "\n",
            "Test 3\n",
            "x, y, z:\n",
            "[[[-3.  -3.  -3. ]\n",
            "  [-3.  -3.  -3. ]\n",
            "  [-3.  -3.  -3. ]\n",
            "  [-3.  -3.  -3. ]]\n",
            "\n",
            " [[-1.5 -1.5 -1.5]\n",
            "  [-1.5 -1.5 -1.5]\n",
            "  [-1.5 -1.5 -1.5]\n",
            "  [-1.5 -1.5 -1.5]]\n",
            "\n",
            " [[ 0.   0.   0. ]\n",
            "  [ 0.   0.   0. ]\n",
            "  [ 0.   0.   0. ]\n",
            "  [ 0.   0.   0. ]]\n",
            "\n",
            " [[ 1.5  1.5  1.5]\n",
            "  [ 1.5  1.5  1.5]\n",
            "  [ 1.5  1.5  1.5]\n",
            "  [ 1.5  1.5  1.5]]\n",
            "\n",
            " [[ 3.   3.   3. ]\n",
            "  [ 3.   3.   3. ]\n",
            "  [ 3.   3.   3. ]\n",
            "  [ 3.   3.   3. ]]] [[[-3. -3. -3.]\n",
            "  [-1. -1. -1.]\n",
            "  [ 1.  1.  1.]\n",
            "  [ 3.  3.  3.]]\n",
            "\n",
            " [[-3. -3. -3.]\n",
            "  [-1. -1. -1.]\n",
            "  [ 1.  1.  1.]\n",
            "  [ 3.  3.  3.]]\n",
            "\n",
            " [[-3. -3. -3.]\n",
            "  [-1. -1. -1.]\n",
            "  [ 1.  1.  1.]\n",
            "  [ 3.  3.  3.]]\n",
            "\n",
            " [[-3. -3. -3.]\n",
            "  [-1. -1. -1.]\n",
            "  [ 1.  1.  1.]\n",
            "  [ 3.  3.  3.]]\n",
            "\n",
            " [[-3. -3. -3.]\n",
            "  [-1. -1. -1.]\n",
            "  [ 1.  1.  1.]\n",
            "  [ 3.  3.  3.]]] [[[-3.  0.  3.]\n",
            "  [-3.  0.  3.]\n",
            "  [-3.  0.  3.]\n",
            "  [-3.  0.  3.]]\n",
            "\n",
            " [[-3.  0.  3.]\n",
            "  [-3.  0.  3.]\n",
            "  [-3.  0.  3.]\n",
            "  [-3.  0.  3.]]\n",
            "\n",
            " [[-3.  0.  3.]\n",
            "  [-3.  0.  3.]\n",
            "  [-3.  0.  3.]\n",
            "  [-3.  0.  3.]]\n",
            "\n",
            " [[-3.  0.  3.]\n",
            "  [-3.  0.  3.]\n",
            "  [-3.  0.  3.]\n",
            "  [-3.  0.  3.]]\n",
            "\n",
            " [[-3.  0.  3.]\n",
            "  [-3.  0.  3.]\n",
            "  [-3.  0.  3.]\n",
            "  [-3.  0.  3.]]]\n",
            "mag:\n",
            "[[[5.60e-04 7.20e-04 5.60e-04]\n",
            "  [7.10e-04 5.70e-04 7.10e-04]\n",
            "  [7.10e-04 5.70e-04 7.10e-04]\n",
            "  [5.60e-04 7.20e-04 5.60e-04]]\n",
            "\n",
            " [[6.90e-04 6.40e-04 6.90e-04]\n",
            "  [6.80e-04 6.00e-05 6.80e-04]\n",
            "  [6.80e-04 6.00e-05 6.80e-04]\n",
            "  [6.90e-04 6.40e-04 6.90e-04]]\n",
            "\n",
            " [[7.20e-04 5.00e-04 7.20e-04]\n",
            "  [5.70e-04 3.66e-03 5.70e-04]\n",
            "  [5.70e-04 3.66e-03 5.70e-04]\n",
            "  [7.20e-04 5.00e-04 7.20e-04]]\n",
            "\n",
            " [[6.90e-04 6.40e-04 6.90e-04]\n",
            "  [6.80e-04 6.00e-05 6.80e-04]\n",
            "  [6.80e-04 6.00e-05 6.80e-04]\n",
            "  [6.90e-04 6.40e-04 6.90e-04]]\n",
            "\n",
            " [[5.60e-04 7.20e-04 5.60e-04]\n",
            "  [7.10e-04 5.70e-04 7.10e-04]\n",
            "  [7.10e-04 5.70e-04 7.10e-04]\n",
            "  [5.60e-04 7.20e-04 5.60e-04]]]\n"
          ],
          "name": "stdout"
        }
      ]
    },
    {
      "cell_type": "markdown",
      "metadata": {
        "id": "i8MLlS5EV4Dq"
      },
      "source": [
        "# Problem Set 6"
      ]
    },
    {
      "cell_type": "markdown",
      "metadata": {
        "id": "DBMgLvsAV8hd"
      },
      "source": [
        "Cohort Sessions"
      ]
    },
    {
      "cell_type": "code",
      "metadata": {
        "id": "cCI0N69qV-ap",
        "outputId": "7f6fe490-af33-4329-d345-d85daa42d17b",
        "colab": {
          "base_uri": "https://localhost:8080/",
          "height": 34
        }
      },
      "source": [
        "#CS1 Reverse String\n",
        "def reverse(string):\n",
        "    rev = ''\n",
        "    for i in range(len(string)):\n",
        "        rev = string[i] + rev\n",
        "    return rev\n"
      ],
      "execution_count": null,
      "outputs": [
        {
          "output_type": "execute_result",
          "data": {
            "text/plain": [
              "'olleH'"
            ]
          },
          "metadata": {
            "tags": []
          },
          "execution_count": 6
        }
      ]
    },
    {
      "cell_type": "code",
      "metadata": {
        "id": "BTOl2ABWWLYD"
      },
      "source": [
        "#CS2 Check Password\n",
        "def check_password(password):\n",
        "    if len(password) < 8:\n",
        "        return False\n",
        "    digit = 0\n",
        "    for i in range(len(password)):\n",
        "        if password[i].isdigit() == False and password[i].isalpha() == False:\n",
        "            return False\n",
        "        if password[i].isdigit() == True:\n",
        "            digit += 1\n",
        "    if digit < 2:\n",
        "        return False\n",
        "    else:\n",
        "        return True\n",
        "    \n",
        "def check_password(password):\n",
        "    digit = 0\n",
        "    if len(password) >= 8:\n",
        "        for i in range(len(password)):\n",
        "            if password[i].isdigit() == True or password[i].isalpha() == True:\n",
        "                if password[i].isdigit() == True:\n",
        "                    digit += 1\n",
        "        if digit >= 2:\n",
        "            return True\n",
        "    return False"
      ],
      "execution_count": null,
      "outputs": []
    },
    {
      "cell_type": "code",
      "metadata": {
        "id": "GCFQDiDqXbH3",
        "outputId": "61cbebd9-2a37-4899-a784-0aed7188880d",
        "colab": {
          "base_uri": "https://localhost:8080/",
          "height": 281
        }
      },
      "source": [
        "#CS3 Longest Common Prefix\n",
        "def longest_common_prefix(string1, string2):\n",
        "    prefix = ''\n",
        "    length = len(string1) if (len(string1)<len(string2)) else len(string2)\n",
        "    print(length)\n",
        "    for i in range(length):\n",
        "        if string1[i] == string2[i]:\n",
        "            prefix += string1[i]\n",
        "        else: \n",
        "            break\n",
        "    return prefix\n",
        "\n",
        "print ( \" longest_common_prefix ( ' distance ',' disinfection ') \" )\n",
        "ans = longest_common_prefix ( ' distance ' ,' disinfection ')\n",
        "print ( ans )\n",
        "print ( \" longest_common_prefix ( ' testing ',' technical ') \" )\n",
        "ans = longest_common_prefix ( ' testing ' ,' technical ')\n",
        "print ( ans )\n",
        "print ( \" longest_common_prefix ( ' drinking ',' drinker ') \" )\n",
        "ans = longest_common_prefix ( ' drinking ' ,' drinker ')\n",
        "print ( ans )\n",
        "print ( \" longest_common_prefix ( ' rosses ',' crosses ') \" )\n",
        "ans = longest_common_prefix ( ' rosses ' ,' crosses ')\n",
        "print ( ans )\n",
        "print ( \" longest_common_prefix ( ' distancetion ',' distance ') \" )\n",
        "ans = longest_common_prefix ( ' distancetion ' ,' distance ')\n",
        "print ( ans )\n"
      ],
      "execution_count": null,
      "outputs": [
        {
          "output_type": "stream",
          "text": [
            " longest_common_prefix ( ' distance ',' disinfection ') \n",
            "10\n",
            " dis\n",
            " longest_common_prefix ( ' testing ',' technical ') \n",
            "9\n",
            " te\n",
            " longest_common_prefix ( ' drinking ',' drinker ') \n",
            "9\n",
            " drink\n",
            " longest_common_prefix ( ' rosses ',' crosses ') \n",
            "8\n",
            " \n",
            " longest_common_prefix ( ' distancetion ',' distance ') \n",
            "10\n",
            " distance\n"
          ],
          "name": "stdout"
        }
      ]
    },
    {
      "cell_type": "code",
      "metadata": {
        "id": "NP8__CoZXent",
        "outputId": "f2166cd1-c9c5-41db-88b8-183b11c52150",
        "colab": {
          "base_uri": "https://localhost:8080/",
          "height": 239
        }
      },
      "source": [
        "#CS4 File and I/O\n",
        "class Coordinate:\n",
        "    x = 0\n",
        "    y = 0\n",
        "\n",
        "def get_maxmin_mag(f):\n",
        "    magnitude = []\n",
        "    for line in f:\n",
        "        values = line.split()\n",
        "        a = Coordinate()\n",
        "        a.x = float(values[0])\n",
        "        a.y = float(values[1])\n",
        "        magnitude.append([a,(a.x**2 + a.y**2)**0.5])\n",
        "    maxi = magnitude[0]\n",
        "    mini = magnitude[0]\n",
        "    for i in magnitude:\n",
        "        if i[1] > maxi[1]:\n",
        "            maxi = i\n",
        "        if i[1] < mini[1]:\n",
        "            mini = i\n",
        "    return maxi[0], mini[0]\n",
        "\n",
        "class Coordinate:\n",
        "    def __init__(self, x, y, mag):\n",
        "        self.x = x\n",
        "        self.y = y\n",
        "        self.mag = mag\n",
        "\n",
        "def get_maxmin_mag(f):\n",
        "    magnitude = []\n",
        "    for line in f:\n",
        "        values = line.split()\n",
        "        magnitude.append(Coordinate(float(values[0]),float(values[1]),(float(values[0])**2 + float(values[1])**2)**0.5))\n",
        "    maxi = magnitude[0]\n",
        "    mini = magnitude[0]\n",
        "    for i in magnitude:\n",
        "        if i.mag > maxi.mag:\n",
        "            maxi = i\n",
        "        if i.mag < mini.mag:\n",
        "            mini = i\n",
        "    return maxi, mini"
      ],
      "execution_count": null,
      "outputs": [
        {
          "output_type": "error",
          "ename": "FileNotFoundError",
          "evalue": "ignored",
          "traceback": [
            "\u001b[0;31m---------------------------------------------------------------------------\u001b[0m",
            "\u001b[0;31mFileNotFoundError\u001b[0m                         Traceback (most recent call last)",
            "\u001b[0;32m<ipython-input-33-6c77a0708779>\u001b[0m in \u001b[0;36m<module>\u001b[0;34m()\u001b[0m\n\u001b[1;32m     24\u001b[0m     \u001b[0;32mreturn\u001b[0m \u001b[0mmaxi\u001b[0m\u001b[0;34m,\u001b[0m \u001b[0mmini\u001b[0m\u001b[0;34m\u001b[0m\u001b[0;34m\u001b[0m\u001b[0m\n\u001b[1;32m     25\u001b[0m \u001b[0;34m\u001b[0m\u001b[0m\n\u001b[0;32m---> 26\u001b[0;31m \u001b[0mf\u001b[0m \u001b[0;34m=\u001b[0m \u001b[0mopen\u001b[0m \u001b[0;34m(\u001b[0m \u001b[0;34m'xy.dat'\u001b[0m \u001b[0;34m,\u001b[0m\u001b[0;34m'r'\u001b[0m\u001b[0;34m)\u001b[0m\u001b[0;34m\u001b[0m\u001b[0;34m\u001b[0m\u001b[0m\n\u001b[0m\u001b[1;32m     27\u001b[0m \u001b[0mpmax\u001b[0m \u001b[0;34m,\u001b[0m \u001b[0mpmin\u001b[0m \u001b[0;34m=\u001b[0m \u001b[0mget_maxmin_mag\u001b[0m \u001b[0;34m(\u001b[0m \u001b[0mf\u001b[0m \u001b[0;34m)\u001b[0m\u001b[0;34m\u001b[0m\u001b[0;34m\u001b[0m\u001b[0m\n\u001b[1;32m     28\u001b[0m \u001b[0mprint\u001b[0m \u001b[0;34m(\u001b[0m \u001b[0;34m' max: ({: f } , {: f }) '\u001b[0m\u001b[0;34m.\u001b[0m \u001b[0mformat\u001b[0m \u001b[0;34m(\u001b[0m \u001b[0mpmax\u001b[0m \u001b[0;34m.\u001b[0m\u001b[0mx\u001b[0m \u001b[0;34m,\u001b[0m \u001b[0mpmax\u001b[0m \u001b[0;34m.\u001b[0m \u001b[0my\u001b[0m \u001b[0;34m)\u001b[0m \u001b[0;34m)\u001b[0m\u001b[0;34m\u001b[0m\u001b[0;34m\u001b[0m\u001b[0m\n",
            "\u001b[0;31mFileNotFoundError\u001b[0m: [Errno 2] No such file or directory: 'xy.dat'"
          ]
        }
      ]
    },
    {
      "cell_type": "markdown",
      "metadata": {
        "id": "gh5NJtsQkyjo"
      },
      "source": [
        "Homework"
      ]
    },
    {
      "cell_type": "code",
      "metadata": {
        "id": "wwKiwPHffYqF",
        "outputId": "7c866f46-facf-430a-9dab-34ba0df12ac1",
        "colab": {
          "base_uri": "https://localhost:8080/",
          "height": 87
        }
      },
      "source": [
        "#HW1 - Binary to Decimals\n",
        "def binary_to_decimal(binstr):\n",
        "    counter = len(binstr) - 1\n",
        "    number = 0\n",
        "    for i in binstr:\n",
        "        if i == '1':\n",
        "            number += 2 ** counter\n",
        "        counter -= 1\n",
        "    return number\n",
        "\n",
        "binary_to_decimal('100')"
      ],
      "execution_count": null,
      "outputs": [
        {
          "output_type": "stream",
          "text": [
            "1 2 8\n",
            "0 1 8\n",
            "0 0 8\n"
          ],
          "name": "stdout"
        },
        {
          "output_type": "execute_result",
          "data": {
            "text/plain": [
              "8"
            ]
          },
          "metadata": {
            "tags": []
          },
          "execution_count": 39
        }
      ]
    },
    {
      "cell_type": "code",
      "metadata": {
        "id": "P1CzFE9qhLzE",
        "outputId": "fefe0f22-69db-4c98-efa0-3186b0a7ec6d",
        "colab": {
          "base_uri": "https://localhost:8080/",
          "height": 34
        }
      },
      "source": [
        "#HW2 -  Compressed Strings\n",
        "def uncompress(string):\n",
        "    count = 1\n",
        "    uncompressed = ''\n",
        "    while count <= len(string):\n",
        "        uncompressed += int(string[count-1]) * string[count]\n",
        "        count += 2\n",
        "    return uncompressed"
      ],
      "execution_count": null,
      "outputs": [
        {
          "output_type": "execute_result",
          "data": {
            "text/plain": [
              "'aabbbbc'"
            ]
          },
          "metadata": {
            "tags": []
          },
          "execution_count": 41
        }
      ]
    },
    {
      "cell_type": "code",
      "metadata": {
        "id": "rM36g0oW5Nnz",
        "outputId": "7525b6eb-f5d0-4074-a505-189eac5d778c",
        "colab": {
          "base_uri": "https://localhost:8080/",
          "height": 34
        }
      },
      "source": [
        "#HW3 - DNA Base Counts\n",
        "def get_base_counts2(dna):\n",
        "    DNA = {'A':0,'C':0,'G':0,'T':0}\n",
        "    if dna.isalpha() == False or dna.isupper() == False:\n",
        "        return 'The input DNA string is invalid'\n",
        "    for i in dna:\n",
        "        if i in DNA:\n",
        "            DNA[i] += 1\n",
        "    return DNA\n",
        "get_base_counts2('C%CCCCGGT')"
      ],
      "execution_count": null,
      "outputs": [
        {
          "output_type": "execute_result",
          "data": {
            "text/plain": [
              "'The input DNA string is invalid'"
            ]
          },
          "metadata": {
            "tags": []
          },
          "execution_count": 50
        }
      ]
    },
    {
      "cell_type": "code",
      "metadata": {
        "id": "hJvBUyiD7HAE"
      },
      "source": [
        "#HW4 - Files and I/O (Constants)\n",
        "def get_fundamental_constants(f):\n",
        "    constants = {}\n",
        "    for line in f:\n",
        "        values = line.split()\n",
        "        if len(values) == 3:\n",
        "            constants[values[0]] = float(values[1])\n",
        "    return constants\n"
      ],
      "execution_count": null,
      "outputs": []
    },
    {
      "cell_type": "code",
      "metadata": {
        "id": "ROCHY3rU_KvC"
      },
      "source": [
        "#HW5 - Process Scores\n",
        "def process_scores(f):\n",
        "    for line in f:\n",
        "        scores = [float(i) for i in line.split()]\n",
        "    return sum(scores), sum(scores)/len(scores)"
      ],
      "execution_count": null,
      "outputs": []
    },
    {
      "cell_type": "markdown",
      "metadata": {
        "id": "1jk3Ql3aiGCB"
      },
      "source": [
        "# Week 8"
      ]
    },
    {
      "cell_type": "markdown",
      "metadata": {
        "id": "btceD72biIyk"
      },
      "source": [
        "Pre class activity"
      ]
    },
    {
      "cell_type": "code",
      "metadata": {
        "id": "oR9ldHEe_iWh",
        "outputId": "f4fe6c25-6440-4ade-be04-b513bb6386e1",
        "colab": {
          "base_uri": "https://localhost:8080/",
          "height": 52
        }
      },
      "source": [
        "#User Defined Class\n",
        "class Point:\n",
        "    \"\"\" Point class for representing and manipulating x,y coordinates. \"\"\"\n",
        "\n",
        "    def __init__(self): #initializer method\n",
        "        \"\"\" Create a new point at the origin \"\"\"\n",
        "        self.x = 0\n",
        "        self.y = 0\n",
        "\n",
        "p = Point()         # Instantiate an object of type Point, \n",
        "q = Point()         # and make a second point\n",
        "print(p is q)       # They are different objects => False\n",
        "\n",
        "q = p\n",
        "print(p is q)       # They are same objects => True\n",
        "\n",
        "\"\"\" The combined process of “make me a new object” and “get its settings initialized to the factory default settings” is called instantiation. \"\"\""
      ],
      "execution_count": null,
      "outputs": [
        {
          "output_type": "stream",
          "text": [
            "False\n",
            "True\n"
          ],
          "name": "stdout"
        }
      ]
    },
    {
      "cell_type": "code",
      "metadata": {
        "id": "_Q6ouyfkilxr",
        "outputId": "ba9a4ed4-b2be-46ae-c70f-ca2df4acae22",
        "colab": {
          "base_uri": "https://localhost:8080/",
          "height": 105
        }
      },
      "source": [
        "import math\n",
        "class Point:\n",
        "    \"\"\" Point class for representing and manipulating x,y coordinates. \"\"\"\n",
        "\n",
        "    def __init__(self, initX, initY): #self is the variable name\n",
        "        \"\"\" Create a new point at the given coordinates. \"\"\"\n",
        "        self.x = initX\n",
        "        self.y = initY\n",
        "\n",
        "    def getX(self):\n",
        "        return self.x\n",
        "\n",
        "    def getY(self):\n",
        "        return self.y\n",
        "\n",
        "    def distanceFromOrigin(self): # The definition will always have one additional parameter as compared to the invocation.\n",
        "        return ((self.x ** 2) + (self.y ** 2)) ** 0.5\n",
        "\n",
        "    def __str__(self): # return string representation using __str__\n",
        "        return \"x=\" + str(self.x) + \", y=\" + str(self.y)\n",
        "\n",
        "    def halfway(self, target): #method to find halfway btwn point and target\n",
        "         mx = (self.x + target.x) / 2\n",
        "         my = (self.y + target.y) / 2\n",
        "         return Point(mx, my) #mid is a Point object, hence can use other methods\n",
        "\n",
        "p = Point(7, 6) #7 is initX, 6 is initY\n",
        "print('p:',p) # without __str__, it will print <__main__.Point object>\n",
        "print('p.get():',p.getX(),p.getY(), sep=',')\n",
        "print('distance:',p.distanceFromOrigin())\n",
        "\n",
        "p = Point(3, 4)\n",
        "q = Point(5, 12)\n",
        "mid = p.halfway(q) # self refer to p, target refer to q\n",
        "print('mid:',mid, ',' ,mid.getX(), ',' ,mid.getY())\n",
        "\n",
        "def distance(point1, point2):\n",
        "    xdiff = point2.getX() - point1.getX()\n",
        "    ydiff = point2.getY() - point1.getY()\n",
        "\n",
        "    dist = math.sqrt(xdiff**2 + ydiff**2) #distance between 2 points\n",
        "    return dist\n",
        "\n",
        "p = Point(4, 3)\n",
        "q = Point(0, 0)\n",
        "print('dist from definition outside class:',distance(p, q))\n",
        "#self is only required as formal argument in def if it is inside the class definition "
      ],
      "execution_count": null,
      "outputs": [
        {
          "output_type": "stream",
          "text": [
            "p: x=7, y=6\n",
            "p.get():,7,6\n",
            "distance: 9.219544457292887\n",
            "mid: x=4.0, y=8.0 , 4.0 , 8.0\n",
            "dist from definition outside class: 5.0\n"
          ],
          "name": "stdout"
        }
      ]
    },
    {
      "cell_type": "markdown",
      "metadata": {
        "id": "JeDIvgaeoktb"
      },
      "source": [
        "*Glossary*\n",
        "\n",
        "**attribute** \n",
        "One of the named data items that makes up an instance.\n",
        "\n",
        "**class**\n",
        "A class can be thought of as a template for the objects that are instances of it. It defines a data type. A class can be provided by the Python system or be user-defined.\n",
        "\n",
        "**constructor**\n",
        "Every class has a “factory”, called by the same name as the class, for making new instances. If the class has an initializer method, this method is used to get the attributes (i.e. the state) of the new object properly set up.\n",
        "\n",
        "**initializer method**\n",
        "A special method in Python (called __init__) that is invoked automatically to set a newly-created object’s attributes to their initial (factory-default) state.\n",
        "\n",
        "**instance**\n",
        "An object whose type is of some class. Instance and object are used interchangeably.\n",
        "\n",
        "**instantiate**\n",
        "To create an instance of a class, and to run its initializer.\n",
        "\n",
        "**method**\n",
        "A function that is defined inside a class definition and is invoked on instances of that class.\n",
        "\n",
        "**object**\n",
        "A compound form of data that is often used to model a thing or concept in the real world. It bundles together the data and the operations that are relevant for that thing or concept. It has the type of its defining class. Instance and object are used interchangeably.\n",
        "\n",
        "**object-oriented programming**\n",
        "A powerful style of programming in which data and the operations that manipulate it are organized into classes and methods.\n",
        "\n",
        "**object-oriented language**\n",
        "A language that provides features, such as user-defined classes and inheritance, that facilitate object-oriented programming."
      ]
    },
    {
      "cell_type": "markdown",
      "metadata": {
        "id": "J7c7kRX1pSlq"
      },
      "source": [
        "Exercises\n",
        "\n",
        "\n",
        "1.   Add a distanceFromPoint method that works similar to distanceFromOrigin except that it takes a Point as a parameter and computes the distance between that point and self.\n",
        "2.   Add a method reflect_x to Point which returns a new Point, one which is the reflection of the point about the x-axis. For example, Point(3, 5).reflect_x() is (3, -5)\n",
        "3.   Add a method slope_from_origin which returns the slope of the line joining the origin to the point. \n",
        "What cases will cause your method to fail? Return None when it happens.\n",
        "4.   The equation of a straight line is “y = ax + b”, (or perhaps “y = mx + c”). The coefficients a and b completely describe the line. Write a method in the Point class so that if a point instance is given another point, it will compute the equation of the straight line joining the two points. It must return the two coefficients as a tuple of two values.\n",
        "This tells us that the equation of the line joining the two points is “y = 2x + 3”. When will your method fail?\n",
        "5.   Add a method called move that will take two parameters, call them dx and dy. The method will cause the point to move in the x and y direction the number of units given. (Hint: you will change the values of the state of the point)\n",
        "6.   Given three points that fall on the circumference of a circle, find the center and radius of the circle.\n"
      ]
    },
    {
      "cell_type": "code",
      "metadata": {
        "id": "Uq-tz0TfkA2G",
        "outputId": "14b763e7-5040-4db8-a228-acf9e7e067b4",
        "colab": {
          "base_uri": "https://localhost:8080/",
          "height": 105
        }
      },
      "source": [
        "class Point:\n",
        "\n",
        "    def __init__(self, initX, initY): #self is the variable name\n",
        "        self.x = initX\n",
        "        self.y = initY\n",
        "    \n",
        "    def distanceFromPoint(self,target):\n",
        "        xdiff = self.x - target.x\n",
        "        ydiff = self.y - target.y\n",
        "        return ((xdiff ** 2) + (ydiff ** 2)) ** 0.5\n",
        "\n",
        "    def reflect_x(self):\n",
        "        return Point(self.x, -self.y)\n",
        "\n",
        "    def slope_from_origin(self):\n",
        "        if self.x is 0:\n",
        "            return None\n",
        "        else:\n",
        "            return self.y/self.x\n",
        "    \n",
        "    def get_line_to(self, target):\n",
        "        xdiff = self.x - target.x\n",
        "        ydiff = self.y - target.y\n",
        "        if xdiff is 0:\n",
        "            return None\n",
        "        else:\n",
        "            a = ydiff / xdiff\n",
        "        b = self.y - a * self.x\n",
        "        return a, b\n",
        "\n",
        "    def move(self, dx, dy):\n",
        "        self.x += dx\n",
        "        self.y += dy\n",
        "\n",
        "    def __str__(self):\n",
        "        return str(self.x) + \",\" + str(self.y)\n",
        "\n",
        "    def perpendicular(self, pt1, pt2):\n",
        "        eqn1 = self.get_line_to(pt1)\n",
        "        a = -1 / eqn1[0]\n",
        "        b = pt2.y - a * pt2.x\n",
        "        return a, b\n",
        "\n",
        "    def center_radius(self, pt1, pt2):\n",
        "        peqn1 = self.perpendicular(pt1, pt2)\n",
        "        peqn2 = self.perpendicular(pt2, pt1)\n",
        "        center = Point(0, 0)\n",
        "        center.x = (peqn1[1] - peqn2[1]) / (peqn2[0] - peqn1[0])\n",
        "        center.y = peqn1[0] * center.x + peqn1[1]\n",
        "        radius = center.distanceFromPoint(self)\n",
        "        return center.x, center.y, radius\n",
        "\n",
        "p = Point(3, 3)\n",
        "q = Point(6, 7)\n",
        "print(p.distanceFromPoint(q))\n",
        "\n",
        "Point(3, 5).reflect_x()\n",
        "\n",
        "Point(4, 10).slope_from_origin()\n",
        "\n",
        "print(Point(4, 11).get_line_to(Point(6, 15)))\n",
        "\n",
        "p = Point(7, 6)\n",
        "print(p)\n",
        "p.move(5, 10)\n",
        "print(p)\n",
        "\n",
        "print(Point(1,0).center_radius(Point(2,5), Point(0,4)))"
      ],
      "execution_count": null,
      "outputs": [
        {
          "output_type": "stream",
          "text": [
            "5.0\n",
            "(2.0, 3.0)\n",
            "7,6\n",
            "12,16\n",
            "(-1.1111111111111112, 4.222222222222222, 4.720587952499557)\n"
          ],
          "name": "stdout"
        }
      ]
    },
    {
      "cell_type": "code",
      "metadata": {
        "id": "B0iSWjh9rQgT",
        "outputId": "8bc8a4f7-060d-4ade-c71a-826c70557855",
        "colab": {
          "base_uri": "https://localhost:8080/",
          "height": 140
        }
      },
      "source": [
        "# Fractions\n",
        "\n",
        "class Fraction:\n",
        "\n",
        "    def __init__(self, top, bottom):\n",
        "\n",
        "        self.num = top        # the numerator is on top\n",
        "        self.den = bottom     # the denominator is on the bottom\n",
        "\n",
        "    def __str__(self):\n",
        "        return str(self.num) + \"/\" + str(self.den)\n",
        "\n",
        "    def getNum(self):\n",
        "        return self.num\n",
        "\n",
        "    def getDen(self):\n",
        "        return self.den\n",
        "\n",
        "    def simplify(self): #mutator: changes internal state of the object. has no return\n",
        "        common = gcd(self.num, self.den)\n",
        "        self.num = self.num // common\n",
        "        self.den = self.den // common\n",
        "\n",
        "    #def add(self,otherfraction):\n",
        "    def __add__(self,otherfraction):\n",
        "        newnum = self.num*otherfraction.den + self.den*otherfraction.num\n",
        "        newden = self.den * otherfraction.den\n",
        "        common = gcd(newnum, newden)\n",
        "        return Fraction(newnum // common, newden // common)\n",
        "\n",
        "def gcd(m, n): # finding greatest common divisor #helper function\n",
        "    while m % n != 0:\n",
        "        oldm = m\n",
        "        oldn = n\n",
        "        m = oldn\n",
        "        n = oldm % oldn\n",
        "    return n\n",
        "\n",
        "myfraction = Fraction(12, 16)\n",
        "print(myfraction, myfraction.getNum(), myfraction.getDen(), sep = ', ')\n",
        "myfraction.simplify()\n",
        "print(myfraction)\n",
        "\n",
        "myfraction = Fraction(3, 4)\n",
        "yourfraction = Fraction(3, 4)\n",
        "print(myfraction is yourfraction) # not same object despite same rational number\n",
        "ourfraction = myfraction #shallow equality. compares only references, not the contents of the objects\n",
        "print(myfraction == ourfraction) # aliases of the same object\n",
        "\n",
        "def sameRational(f1, f2): #deep equality\n",
        "    return f1.getNum()*f2.getDen() == f2.getNum() * f1.getDen()\n",
        "\n",
        "print(sameRational(myfraction, yourfraction))\n",
        "notInLowestTerms = Fraction(15, 20)\n",
        "print(sameRational(myfraction, notInLowestTerms))\n",
        "# if a = b (same object), then a and b has both shallow and deep equality\n",
        "\n",
        "#addition of fractions\n",
        "f1 = Fraction(1, 2)\n",
        "f2 = Fraction(1, 4)\n",
        "#f3 = f1.add(f2) \n",
        "f3 = f1 + f2 # calls the __add__ method of f1\n",
        "print(f3)"
      ],
      "execution_count": null,
      "outputs": [
        {
          "output_type": "stream",
          "text": [
            "12/16, 12, 16\n",
            "3/4\n",
            "False\n",
            "True\n",
            "True\n",
            "True\n",
            "3/4\n"
          ],
          "name": "stdout"
        }
      ]
    },
    {
      "cell_type": "code",
      "metadata": {
        "id": "rNPSu90HD5se",
        "outputId": "94235c3f-217c-48b6-f6a1-f265d364a4c5",
        "colab": {
          "base_uri": "https://localhost:8080/",
          "height": 52
        }
      },
      "source": [
        "# shallow and deep copy of == sign\n",
        "p = Point(4, 2)\n",
        "s = Point(4, 2)\n",
        "print(\"== on Points returns\", p == s)  # by default, == does a shallow equality test here\n",
        "\n",
        "a = [2, 3]\n",
        "b = [2, 3]\n",
        "print(\"== on lists returns\",  a == b)  # by default, == does a deep equality test on lists"
      ],
      "execution_count": null,
      "outputs": [
        {
          "output_type": "stream",
          "text": [
            "== on Points returns False\n",
            "== on lists returns True\n"
          ],
          "name": "stdout"
        }
      ]
    },
    {
      "cell_type": "code",
      "metadata": {
        "id": "_kpDWF1BHNfu"
      },
      "source": [
        "# Arithmetic Methods\n",
        "#a/b + c/d = (ad + cb)/bd #can only add fractions if they have same denominator\n",
        "\n",
        "def add(self,otherfraction):\n",
        "\n",
        "    newnum = self.num*otherfraction.den + self.den*otherfraction.num\n",
        "    newden = self.den * otherfraction.den\n",
        "\n",
        "    common = gcd(newnum,newden)\n",
        "\n",
        "    return Fraction(newnum//common,newden//common) #in the simplified form"
      ],
      "execution_count": null,
      "outputs": []
    },
    {
      "cell_type": "markdown",
      "metadata": {
        "id": "Zp4jFzJoMEoB"
      },
      "source": [
        "**Exercise**\n",
        "\n",
        "\n",
        "*   We can represent a rectangle by knowing three things: the location of its lower left corner, its width, and its height. Create a class definition for a Rectangle class using this idea. To create a Rectangle object at location (4,5) with width 6 and height 5, we would do the following: r = Rectangle(Point(4, 5), 6, 5)\n",
        "*   Add the following accessor methods to the Rectangle class: getWidth, getHeight, __str__.\n",
        "*   Add a method area to the Rectangle class that returns the area of any instance: test(r.area(), 50)\n",
        "*   Write a perimeter method in the Rectangle class so that we can find the perimeter of any rectangle instance: test(r.perimeter(), 30)\n",
        "*   Write a transpose method in the Rectangle class that swaps the width and the height of any rectangle instance: r.transpose()\n",
        "*   Write a new method in the Rectangle class to test if a Point falls within the rectangle. For this exercise, assume that a rectangle at (0,0) with width 10 and height 5 has open upper bounds on the width and height, i.e. it stretches in the x direction from [0 to 10), where 0 is included but 10 is excluded, and from [0 to 5) in the y direction. So it does not contain the point (10, 2).\n",
        "*   Write a new method called diagonal that will return the length of the diagonal that runs from the lower left corner to the opposite corner.\n",
        "*   In games, we often put a rectangular “bounding box” around our sprites in the game. We can then do collision detection between, say, bombs and spaceships, by comparing whether their rectangles overlap anywhere.\n",
        "*   Write a function to determine whether two rectangles collide. Hint: this might be quite a tough exercise! Think carefully about all the cases before you code.\n",
        "\n",
        "\n"
      ]
    },
    {
      "cell_type": "code",
      "metadata": {
        "id": "cfu-Sv-bMqx9",
        "outputId": "625e9afe-ccf3-4e35-ebb3-6b1cb760f12b",
        "colab": {
          "base_uri": "https://localhost:8080/",
          "height": 210
        }
      },
      "source": [
        "class Point:\n",
        "    def __init__(self, initX, initY):\n",
        "        self.x = initX\n",
        "        self.y = initY\n",
        "\n",
        "    def __str__(self):\n",
        "        return str(self.x) + \",\" + str(self.y)\n",
        "\n",
        "    def getX(self):\n",
        "        return self.x\n",
        "\n",
        "    def getY(self):\n",
        "        return self.y\n",
        "\n",
        "class Rectangle:\n",
        "    def __init__(self, initP, initW, initH):\n",
        "        self.location = initP\n",
        "        self.width = initW\n",
        "        self.height = initH\n",
        "\n",
        "    def getWidth(self):\n",
        "        return self.width\n",
        "\n",
        "    def getHeight(self):\n",
        "        return self.height\n",
        "\n",
        "    # def __str__(self):\n",
        "    #     return self.location, self.width, self.height\n",
        "    def area(self):\n",
        "        return self.width * self.height\n",
        "    \n",
        "    def perimeter(self):\n",
        "        return 2 * (self.width + self.height)\n",
        "\n",
        "    def transpose(self):\n",
        "        width = self.width\n",
        "        self.width = self.height\n",
        "        self.height = width\n",
        "    \n",
        "    def contains(self, point):\n",
        "        if (point.x < self.width and point.x >= self.location.x) and (point.y < self.height and point.y >= self.location.y):\n",
        "            return True\n",
        "        else:\n",
        "            return False\n",
        "    \n",
        "    def diagonal(self):\n",
        "        return (self.width**2 + self.height**2)**0.5\n",
        "\n",
        "loc = Point(4, 5)\n",
        "r = Rectangle(loc, 6, 5)\n",
        "print(r)\n",
        "\n",
        "r = Rectangle(Point(0, 0), 10, 5)\n",
        "print(r.area())\n",
        "print(r.perimeter())\n",
        "\n",
        "r = Rectangle(Point(100, 50), 10, 5)\n",
        "print(r.width, r.height)\n",
        "r.transpose()\n",
        "print(r.width, r.height)\n",
        "\n",
        "r = Rectangle(Point(0, 0), 10, 5)\n",
        "print(r.contains(Point(0, 0)))\n",
        "print(r.contains(Point(3, 3)))\n",
        "print(r.contains(Point(3, 7)))\n",
        "print(r.contains(Point(3, 5)))\n",
        "print(r.contains(Point(3, 4.99999)))\n",
        "print(r.contains(Point(-3, -3)))\n",
        "\n",
        "\n",
        "# Write a function to determine whether two rectangles collide."
      ],
      "execution_count": null,
      "outputs": [
        {
          "output_type": "stream",
          "text": [
            "<__main__.Rectangle object at 0x7f27929ad940>\n",
            "50\n",
            "30\n",
            "10 5\n",
            "5 10\n",
            "True\n",
            "True\n",
            "False\n",
            "False\n",
            "True\n",
            "False\n"
          ],
          "name": "stdout"
        }
      ]
    },
    {
      "cell_type": "markdown",
      "metadata": {
        "id": "R7I2L4SaZ5pc"
      },
      "source": [
        "** Problem Set Cohort **"
      ]
    },
    {
      "cell_type": "code",
      "metadata": {
        "id": "xtLzuAIhO5xC",
        "outputId": "23e718ba-9cdf-41d8-de0d-146ab442f4e4",
        "colab": {
          "base_uri": "https://localhost:8080/",
          "height": 34
        }
      },
      "source": [
        "#CS1 Coordinate Class\n",
        "class Coordinate:\n",
        "    def __init__(self, x=0, y=0):\n",
        "        self.x = x\n",
        "        self.y = y\n",
        "    def magnitude(self):\n",
        "        return (self.x**2 + self.y**2)**0.5\n",
        "    def translate(self,dx,dy):\n",
        "        self.x += dx\n",
        "        self.y += dy\n",
        "    def __eq__(self, other):\n",
        "        if self.x == other.x and self.y == other.y:\n",
        "            return True\n",
        "        else:\n",
        "            return False\n",
        "\n",
        "#CS2 Celsius Class\n",
        "class Celsius:\n",
        "    def __init__(self,temperature=0):\n",
        "        self.temperature = temperature\n",
        "    def to_fahrenheit(self):\n",
        "        return self.temperature * 1.8 + 32\n",
        "    def get_temperature(self):\n",
        "        return self._temperature\n",
        "    def set_temperature(self, value):\n",
        "        if value < -273:\n",
        "            self._temperature = -273\n",
        "        else:\n",
        "            self._temperature = value\n",
        "    temperature = property(get_temperature, set_temperature)\n",
        "\n",
        "#CS3 Stopwatch Class\n",
        "import time\n",
        "\n",
        "class StopWatch:\n",
        "    def __init__(self):\n",
        "        self.start_time = time.time()\n",
        "        self.end_time = -1\n",
        "    def start(self):\n",
        "        self.start_time = time.time()\n",
        "        self.end_time = -1\n",
        "    def stop(self):\n",
        "        self.end_time = time.time()\n",
        "    def elapsed_time(self):\n",
        "        if self.end_time == -1:\n",
        "            return None\n",
        "        else:\n",
        "            elapse = self.end_time - self.start_time\n",
        "            return round(elapse, 1)    "
      ],
      "execution_count": null,
      "outputs": [
        {
          "output_type": "execute_result",
          "data": {
            "text/plain": [
              "-273"
            ]
          },
          "metadata": {
            "tags": []
          },
          "execution_count": 92
        }
      ]
    },
    {
      "cell_type": "code",
      "metadata": {
        "id": "CGAh9S9hhO7R",
        "outputId": "63aa613e-e347-4665-d298-dcf572f4e8cd",
        "colab": {
          "base_uri": "https://localhost:8080/",
          "height": 721
        }
      },
      "source": [
        "#CS4 Straight Line Class\n",
        "class Line:\n",
        "    def __init__(self, c0, c1):\n",
        "        self.c0 = c0\n",
        "        self.c1 = c1\n",
        "    def __call__(self, x):\n",
        "        return self.c0 + self.c1 * x\n",
        "    def table(self, L, R, n):\n",
        "        string = ''\n",
        "        step = (R-L)/(n-1)\n",
        "        x = L\n",
        "        while x <= R:\n",
        "            y = self.c0 + self.c1 * x\n",
        "            string = string + \"{:10.2f}{:10.2f}\".format(x,y) + \"\\n\"\n",
        "            x += step\n",
        "            if step == 0:\n",
        "                break\n",
        "            if n == 0:\n",
        "                return \"Error in printing table\"\n",
        "        return string\n",
        "\n",
        "line = Line(1,2)\n",
        "print(line(2))\n",
        "print(line.table(1,5,4))\n",
        "\n",
        "line = Line(-1,2)\n",
        "print(line(2))\n",
        "print(line.table(-1,5,10))\n",
        "\n",
        "line = Line(3,4)\n",
        "print(line(2))\n",
        "print(line.table(1,5,15))\n",
        "\n",
        "line = Line(3,4)\n",
        "print(line(2))\n",
        "print(line.table(1,1,15))\n",
        "\n",
        "line = Line(3,4)\n",
        "print(line(2))\n",
        "print(line.table(1,5,0))"
      ],
      "execution_count": null,
      "outputs": [
        {
          "output_type": "stream",
          "text": [
            "5\n",
            "      1.00      3.00\n",
            "      2.33      5.67\n",
            "      3.67      8.33\n",
            "      5.00     11.00\n",
            "\n",
            "3\n",
            "     -1.00     -3.00\n",
            "     -0.33     -1.67\n",
            "      0.33     -0.33\n",
            "      1.00      1.00\n",
            "      1.67      2.33\n",
            "      2.33      3.67\n",
            "      3.00      5.00\n",
            "      3.67      6.33\n",
            "      4.33      7.67\n",
            "      5.00      9.00\n",
            "\n",
            "11\n",
            "      1.00      7.00\n",
            "      1.29      8.14\n",
            "      1.57      9.29\n",
            "      1.86     10.43\n",
            "      2.14     11.57\n",
            "      2.43     12.71\n",
            "      2.71     13.86\n",
            "      3.00     15.00\n",
            "      3.29     16.14\n",
            "      3.57     17.29\n",
            "      3.86     18.43\n",
            "      4.14     19.57\n",
            "      4.43     20.71\n",
            "      4.71     21.86\n",
            "      5.00     23.00\n",
            "\n",
            "11\n",
            "      1.00      7.00\n",
            "\n",
            "11\n",
            "Error in printing table\n"
          ],
          "name": "stdout"
        }
      ]
    },
    {
      "cell_type": "markdown",
      "metadata": {
        "id": "sbWNsIP752Sz"
      },
      "source": [
        "**Homework**"
      ]
    },
    {
      "cell_type": "code",
      "metadata": {
        "id": "TWTuMqSa54Tk",
        "outputId": "1588caf2-10a8-4911-f436-3ee9655cd5f2",
        "colab": {
          "base_uri": "https://localhost:8080/",
          "height": 122
        }
      },
      "source": [
        "#HW1 - Time\n",
        "class Time:\n",
        "    def __init__(self,h,m,s):\n",
        "        self._hours = h\n",
        "        self._minutes = m\n",
        "        self._seconds = s\n",
        "    \n",
        "    def get_elapsed_time(self):\n",
        "        return int(self._hours * 3600 + self._minutes * 60 + self._seconds)\n",
        "\n",
        "    def set_elapsed_time(self,value):\n",
        "        elapsed = value % (24*3600)\n",
        "        self._hours = elapsed // 3600\n",
        "        self._minutes = (elapsed % 3600 - elapsed % 60) // 60\n",
        "        self._seconds = elapsed % 60\n",
        "    \n",
        "    elapsed_time = property(get_elapsed_time,set_elapsed_time)\n",
        "    \n",
        "    def __str__(self):\n",
        "        return \"Time: {}:{}:{}\".format(self._hours, self._minutes, self._seconds)\n",
        "\n",
        "# t = Time (10 , 19 , 10)\n",
        "# print ( t.elapsed_time )\n",
        "# t.elapsed_time = 555550\n",
        "# print ( t.elapsed_time )\n",
        "# print ( t )\n",
        "\n",
        "t = Time (100,19,10)\n",
        "print ( t.elapsed_time )\n",
        "t.elapsed_time = 45550\n",
        "print ( t.elapsed_time )\n",
        "print ( t )\n",
        "\n",
        "t = Time (21,15,50)\n",
        "print ( t.elapsed_time )\n",
        "t.elapsed_time = 79530\n",
        "print ( t.elapsed_time )\n",
        "print ( t )\n",
        "\n",
        "#HW2 - Bank Account\n",
        "class Account:    \n",
        "    def __init__(self,owner,account_number,amount):\n",
        "        self._owner = owner\n",
        "        self._account_number = account_number\n",
        "        self._balance = amount\n",
        "    def deposit(self, amount):\n",
        "        self._balance += amount   \n",
        "    def withdraw(self, amount):\n",
        "        self._balance -= amount  \n",
        "    def __str__(self):\n",
        "        return \"{}, {}, balance: {}\".format(self._owner, self._account_number, self._balance)\n",
        "\n",
        "#HW3 - Numerical Differentiation\n",
        "import numpy as np\n",
        "class Diff:\n",
        "    def __init__(self, f, h=np.exp(-4)):\n",
        "        Diff.f = f\n",
        "        Diff.h = h\n",
        "    def __call__(self, x):\n",
        "        return (Diff.f(x+Diff.h) - Diff.f(x)) / Diff.h\n",
        "\n",
        "#HW4 - Polynomial\n",
        "import itertools\n",
        "class Polynomial:\n",
        "    def __init__ (self, coeff):\n",
        "        self.coeff = coeff\n",
        "\n",
        "    def __add__(self, other):\n",
        "        lst1 = []\n",
        "        for i in range(len(self.coeff)):\n",
        "            if i < len(other.coeff):\n",
        "                lst1.append(self.coeff[i]+other.coeff[i])\n",
        "            if i >= len(other.coeff):\n",
        "                lst1.append(self.coeff[i])\n",
        "        if len(self.coeff) < len(other.coeff):\n",
        "            for i in range(len(other.coeff)):\n",
        "                if i >= len(self.coeff):\n",
        "                    lst1.append(other.coeff[i])\n",
        "        return Polynomial(lst1)\n",
        "\n",
        "    def __sub__(self,other):\n",
        "        c1 = self.coeff\n",
        "        c2 = other.coeff\n",
        "        value = [t1-t2 for t1,t2 in itertools.zip_longest(c1,c2,fillvalue = 0)]     \n",
        "        return Polynomial(value)  \n",
        "\n",
        "    # def __sub__(self, other):\n",
        "    #     lst1 = []\n",
        "    #     for i in range(len(self.coeff)):\n",
        "    #         if i < len(other.coeff):\n",
        "    #             lst1.append(self.coeff[i]-other.coeff[i])\n",
        "    #         if i >= len(other.coeff):\n",
        "    #             lst1.append(self.coeff[i])\n",
        "    #     if len(self.coeff) < len(other.coeff):\n",
        "    #         for i in range(len(other.coeff)):\n",
        "    #             if i >= len(self.coeff):\n",
        "    #                 lst1.append(-other.coeff[i])\n",
        "    #     return Polynomial(lst1)\n",
        "\n",
        "    def __call__(self,x):\n",
        "        total = 0\n",
        "        for i in range(len(self.coeff)):\n",
        "            total += self.coeff[i] * x ** i\n",
        "        return total\n",
        "\n",
        "    def __mul__(self,other):\n",
        "        mul_list = [0] * (len(self.coeff) + len(other.coeff)-1)\n",
        "        for i in range(len(self.coeff)):\n",
        "            for j in range(len(other.coeff)):\n",
        "                mul_list[i+j] += self.coeff[i] * other.coeff[j]\n",
        "        return Polynomial(mul_list)\n",
        "    \n",
        "    def differentiate(self):\n",
        "        diff = []\n",
        "        for i in range(1, len(self.coeff)):\n",
        "            diff.append(self.coeff[i] * i)\n",
        "        self.coeff = diff\n",
        "        return None\n",
        "    \n",
        "    def derivative(self):\n",
        "        diff = []\n",
        "        for i in range(1, len(self.coeff)):\n",
        "            diff.append(self.coeff[i] * i)\n",
        "        return Polynomial(diff)"
      ],
      "execution_count": null,
      "outputs": [
        {
          "output_type": "stream",
          "text": [
            "361150\n",
            "45550\n",
            "Time: 12:39:10\n",
            "76550\n",
            "79530\n",
            "Time: 22:5:30\n"
          ],
          "name": "stdout"
        }
      ]
    },
    {
      "cell_type": "code",
      "metadata": {
        "id": "_HhIaKr1vsJZ",
        "outputId": "82eeed13-6199-4029-d650-ba047e66b36c",
        "colab": {
          "base_uri": "https://localhost:8080/",
          "height": 52
        }
      },
      "source": [
        "p1 = Polynomial ([2,1,-1])\n",
        "p2 = Polynomial ([3,1,0,0,-6,-1])\n",
        "p3 = p1 - p2\n",
        "ans = p3.coeff\n",
        "print(ans)\n",
        "ans = p3(3)\n",
        "print(ans)"
      ],
      "execution_count": null,
      "outputs": [
        {
          "output_type": "stream",
          "text": [
            "[-1, 0, -1, 0, 6, 1]\n",
            "719\n"
          ],
          "name": "stdout"
        }
      ]
    },
    {
      "cell_type": "markdown",
      "metadata": {
        "id": "drn_J5XivuVw"
      },
      "source": [
        "# MidTerm 2018\n",
        "\n"
      ]
    },
    {
      "cell_type": "code",
      "metadata": {
        "id": "dAR3GQzOzrUb",
        "outputId": "55983cdb-8fe1-4a38-a43d-0a4cf53156c2",
        "colab": {
          "base_uri": "https://localhost:8080/",
          "height": 34
        }
      },
      "source": [
        "import copy\n",
        "french = [1,2,3]\n",
        "greek = copy.copy(french)\n",
        "greek[0] = 5\n",
        "print(greek, french)"
      ],
      "execution_count": null,
      "outputs": [
        {
          "output_type": "stream",
          "text": [
            "[5, 2, 3] [1, 2, 3]\n"
          ],
          "name": "stdout"
        }
      ]
    },
    {
      "cell_type": "code",
      "metadata": {
        "id": "CWz_WW1I0BQX",
        "outputId": "7ef75cc7-2e53-452c-d9ad-8d7508e28b38",
        "colab": {
          "base_uri": "https://localhost:8080/",
          "height": 70
        }
      },
      "source": [
        "x = 'meter'\n",
        "y = 5\n",
        "z = x\n",
        "print(x,y,z)\n",
        "x = y\n",
        "print(x,y,z)\n",
        "y = z\n",
        "print(x,y,z)"
      ],
      "execution_count": null,
      "outputs": [
        {
          "output_type": "stream",
          "text": [
            "meter 5 meter\n",
            "5 5 meter\n",
            "5 meter meter\n"
          ],
          "name": "stdout"
        }
      ]
    },
    {
      "cell_type": "code",
      "metadata": {
        "id": "K_QLI7TU0R4o",
        "outputId": "61dc4124-fa9a-4d68-f6e7-f3c0aa2df283",
        "colab": {
          "base_uri": "https://localhost:8080/",
          "height": 140
        }
      },
      "source": [
        "#Q3\n",
        "def area_square(s):\n",
        "    return round(s**2,3)\n",
        "def vol_frustum(top_area, bottom_area, height):\n",
        "    return round((height/3) * (top_area + bottom_area + (top_area * bottom_area)**0.5),3)\n",
        "def get_volume(s1, s2, height):\n",
        "    ta = area_square(s1)\n",
        "    ba = area_square(s2)\n",
        "    return round(vol_frustum(ta, ba, height),3)\n",
        "\n",
        "print(area_square(2))\n",
        "print(area_square(3))\n",
        "print(vol_frustum(1,4,2))\n",
        "print(vol_frustum(2,2,2))\n",
        "print(get_volume(1,2,2))\n",
        "print(get_volume(1.5,3.3,5.0))\n",
        "print(get_volume(3.6,6.4,4.0))"
      ],
      "execution_count": null,
      "outputs": [
        {
          "output_type": "stream",
          "text": [
            "4\n",
            "9\n",
            "4.667\n",
            "4.0\n",
            "4.667\n",
            "30.15\n",
            "102.613\n"
          ],
          "name": "stdout"
        }
      ]
    },
    {
      "cell_type": "code",
      "metadata": {
        "id": "ZpaarGOE3O_i",
        "outputId": "275c0995-ec35-43e7-c731-cca21fc5c6fb",
        "colab": {
          "base_uri": "https://localhost:8080/",
          "height": 105
        }
      },
      "source": [
        "#Q4\n",
        "def determinant(matrix):\n",
        "    if len(matrix) != len(matrix[0]):\n",
        "        return None\n",
        "    else:\n",
        "        det_M = 0\n",
        "        if len(matrix) == 1:\n",
        "            det_M =  matrix[0][0]\n",
        "        else:\n",
        "            for n in range(len(matrix)):\n",
        "                mat = []\n",
        "                for i in range(len(matrix)):\n",
        "                    lst = []\n",
        "                    for j in range(1,len(matrix[i])) :\n",
        "                        lst.append(matrix[i][j])\n",
        "                    mat.append(lst)\n",
        "                mat.pop(n)\n",
        "                det_M += (-1)**(n) * matrix[n][0] * determinant(mat)\n",
        "        return det_M\n",
        "print(determinant([[100]]))\n",
        "print(determinant([[-5,-4],[-2,-3]]))\n",
        "print(determinant([[2,-3,1],[2,0,-1],[1,4,5]]))\n",
        "print(determinant([[0,3,5],[5,5,2],[3,4,3]]))\n",
        "print(determinant([[23],[-4,4]]))"
      ],
      "execution_count": null,
      "outputs": [
        {
          "output_type": "stream",
          "text": [
            "100\n",
            "7\n",
            "49\n",
            "-2\n",
            "None\n"
          ],
          "name": "stdout"
        }
      ]
    },
    {
      "cell_type": "code",
      "metadata": {
        "id": "ZHa9ekfS46eo",
        "outputId": "8357b12e-c9df-4b5f-e11e-ab7906ca06ee",
        "colab": {
          "base_uri": "https://localhost:8080/",
          "height": 70
        }
      },
      "source": [
        "#Q5\n",
        "def nroot(n,i,num):\n",
        "    if num > 0:\n",
        "        xi = 1\n",
        "        count = 1\n",
        "        while count <= i:\n",
        "            fx = xi**n - num\n",
        "            fprime = n * xi**(n-1)\n",
        "            xi = xi - fx/fprime\n",
        "            count += 1\n",
        "    return round(xi,3)\n",
        "print(nroot(2,5,2))\n",
        "\n",
        "def nroot_complex(n,i,num):\n",
        "    if num < 0 and n % 2 == 0:\n",
        "        return nroot(n,i,-num) * 1j\n",
        "    if num < 0 and n % 2 != 0:\n",
        "        return - nroot(n,i,-num)\n",
        "    if num > 0:\n",
        "      return nroot(n,i,num)\n",
        "\n",
        "print(nroot_complex(2,5,-4))\n",
        "print(nroot_complex(3,5,-8))"
      ],
      "execution_count": null,
      "outputs": [
        {
          "output_type": "stream",
          "text": [
            "1.414\n",
            "2j\n",
            "-2.0\n"
          ],
          "name": "stdout"
        }
      ]
    },
    {
      "cell_type": "code",
      "metadata": {
        "id": "OESsckKe7MiO",
        "outputId": "e3e737d5-de67-409f-cb40-f9fcac22fa09",
        "colab": {
          "base_uri": "https://localhost:8080/",
          "height": 107
        }
      },
      "source": [
        "#Q6\n",
        "def read_stations(f):\n",
        "    dic = {}\n",
        "    infile = open(f,\"r\")\n",
        "    lines = infile.readlines()\n",
        "    i = 0\n",
        "    while i < len(lines):\n",
        "        line = lines[i].split(\"=\")\n",
        "        line = line[1]\n",
        "        station = lines[i+1]\n",
        "        if i+3<len(lines):\n",
        "            station = station[:-1]\n",
        "        station = station.split(\", \")\n",
        "        dic[line] = station\n",
        "        i += 3\n",
        "    return dic\n",
        "mrt = read_stations(\"mrt_lines_short.txt\")\n",
        "        \n",
        "def get_stationline(mrt):\n",
        "    get = {}\n",
        "    mrtlst = mrt.keys()\n",
        "    for mrtline in mrtlst:\n",
        "        for stn in mrt[mrtline]:\n",
        "            if stn in get:\n",
        "                get[stn].append(mrtline)\n",
        "            else:\n",
        "                get[stn] = [mrtline]\n",
        "    return get\n",
        "stationline = get_stationline(mrt)\n",
        "\n",
        "def get_interchange(stationline):\n",
        "    get = {}\n",
        "    stnlst = stationline.keys()\n",
        "    for stn in stnlst:\n",
        "        if len(stationline[stn]) > 1:\n",
        "            get[stn] = stationline[stn]\n",
        "    return get\n",
        "\n",
        "def find_path(f, start, end):\n",
        "    mrt = read_stations(f)\n",
        "    stationline = get_stationline(mrt)\n",
        "    interchange = get_interchange(stationline)\n",
        "    path = []\n",
        "    sstn = stationline[start][0]\n",
        "    estn = stationline[end][0]\n",
        "    location1 = mrt[sstn].index(start)\n",
        "    location2 = mrt[estn].index(end)\n",
        "    if sstn == estn:\n",
        "        if location1 < location2:\n",
        "            path = mrt[sstn][location1:location2+1]\n",
        "        if location1 > location2:\n",
        "            path = mrt[sstn][location1:location2-1:-1]\n",
        "        return path\n",
        "    if sstn != estn:\n",
        "        lst = []\n",
        "        for i in interchange:\n",
        "            if (sstn in interchange[i]) and (estn in interchange[i]):\n",
        "                locationi = mrt[sstn].index(i)\n",
        "                if location1 < locationi:\n",
        "                    path = mrt[sstn][location1:locationi+1]\n",
        "                elif location1 > locationi:\n",
        "                    path = mrt[sstn][location1:locationi-1:-1]\n",
        "                locationi = mrt[estn].index(i)\n",
        "                if locationi < location2:\n",
        "                    path += (mrt[estn][locationi+1:location2+1])\n",
        "                elif locationi > location2:\n",
        "                    path += (mrt[estn][locationi-1:location2-1:-1])\n",
        "                lst.append(path)\n",
        "        if lst == []:\n",
        "            return None\n",
        "        elif lst != []:\n",
        "            mini = len(lst[0])\n",
        "            minilst = lst[0]\n",
        "            for i in lst:\n",
        "                if len(i) < mini:\n",
        "                    mini = len(i)\n",
        "                    minilst = i\n",
        "            return minilst\n",
        "\n",
        "print(find_path(\"mrt_lines_short.txt\",\"Boon Lay\", \"Clementi\"))\n",
        "print(find_path(\"mrt_lines_short.txt\",\"Changi Airport\", \"Orchard\"))\n",
        "print(find_path(\"mrt_lines_short.txt\",\"Boon Lay\", \"Bukit Gombak\"))\n",
        "print(find_path(\"mrt_lines_short.txt\",\"Tanah Merah\", \"Orchard\"))"
      ],
      "execution_count": null,
      "outputs": [
        {
          "output_type": "stream",
          "text": [
            "['Boon Lay', 'Lakeside', 'Chinese Garden', 'Jurong East', 'Clementi']\n",
            "None\n",
            "['Boon Lay', 'Lakeside', 'Chinese Garden', 'Jurong East', 'Bukit Batok', 'Bukit Gombak']\n",
            "['Tanah Merah', 'Bedok', 'Kembangan', 'Eunos', 'Paya Lebar', 'Aljuned', 'Kallang', 'Lavender', 'Bugis', 'City Hall', 'Dhoby Ghaut', 'Somerset', 'Orchard']\n"
          ],
          "name": "stdout"
        }
      ]
    },
    {
      "cell_type": "code",
      "metadata": {
        "id": "BW9weU-ZvpyA",
        "outputId": "3687dd31-b7fa-4aa9-e19f-a0278d7b1c20",
        "colab": {
          "base_uri": "https://localhost:8080/",
          "height": 193
        }
      },
      "source": [
        "#Q7\n",
        "lst = [1,2,5,10,20,50,100,200]\n",
        "combi = []\n",
        "for i in lst:\n",
        "    sum = 0\n",
        "    for coin in range(len(lst[:i])):\n",
        "        sum += (i//lst[coin])**coin\n",
        "    combi.append(sum)\n",
        "def decompose(pence):\n",
        "    global lst \n",
        "    lst = lst[::-1]\n",
        "    global combi \n",
        "    combi = combi[::-1]\n",
        "    print(lst, combi)\n",
        "    summ = 0\n",
        "    for i in range(len(lst)):\n",
        "       print(summ,pence, pence // lst[i])\n",
        "       if (pence // lst[i]) != 0:\n",
        "          summ = summ + combi[i] ** (pence // lst[i])\n",
        "          pence = pence % lst[i]\n",
        "    return summ\n",
        "\n",
        "print(decompose(15))\n",
        "    "
      ],
      "execution_count": null,
      "outputs": [
        {
          "output_type": "stream",
          "text": [
            "[200, 100, 50, 20, 10, 5, 2, 1] [20790, 2109, 268, 36, 11, 4, 2, 1]\n",
            "0 15 0\n",
            "0 15 0\n",
            "0 15 0\n",
            "0 15 0\n",
            "0 15 1\n",
            "11 5 1\n",
            "15 0 0\n",
            "15 0 0\n",
            "15\n"
          ],
          "name": "stdout"
        }
      ]
    },
    {
      "cell_type": "code",
      "metadata": {
        "id": "KCjeqZrEPuhW",
        "outputId": "bd5256f3-3178-4122-c03e-dd013514f132",
        "colab": {
          "base_uri": "https://localhost:8080/",
          "height": 34
        }
      },
      "source": [
        "#Q7\n",
        "def decompose(pence):\n",
        "    try:\n",
        "        coins = [1,2,5,10,20,50,100,200]\n",
        "        ways = [0 for i in range(pence+1)]\n",
        "        ways[0] = 1 #table[i] is number of solutions for value i\n",
        "        for i in range(0,len(coins)):\n",
        "            for j in range(coins[i],pence+1):\n",
        "                ways[j] += ways[j-coins[i]]\n",
        "        return ways[pence]\n",
        "    except:\n",
        "        return 0\n",
        "\n",
        "# print(decompose(1))\n",
        "# print(decompose(5))\n",
        "# print(decompose(7))\n",
        "# print(decompose(130))\n",
        "# print(decompose(200))\n",
        "print(decompose(700))"
      ],
      "execution_count": null,
      "outputs": [
        {
          "output_type": "stream",
          "text": [
            "40208370\n"
          ],
          "name": "stdout"
        }
      ]
    },
    {
      "cell_type": "code",
      "metadata": {
        "id": "WLvzfrxt_fNP",
        "outputId": "9f33da5f-2fd4-4b33-fe85-4955e5a753bc",
        "colab": {
          "base_uri": "https://localhost:8080/",
          "height": 34
        }
      },
      "source": [
        "def decompose(target): \n",
        "    coins = [1, 2, 5, 10, 20, 50, 100, 200]\n",
        "    ways = [1] + [0]*target\n",
        "\n",
        "    for coin in coins:\n",
        "        for i in range(coin, target+1):\n",
        "            ways[i] += ways[i-coin]\n",
        "    return ways[target]\n",
        "\n",
        "print(decompose(700))"
      ],
      "execution_count": null,
      "outputs": [
        {
          "output_type": "stream",
          "text": [
            "40208370\n"
          ],
          "name": "stdout"
        }
      ]
    },
    {
      "cell_type": "markdown",
      "metadata": {
        "id": "Wsg__hv6V7k6"
      },
      "source": [
        "# MidTerm 2017"
      ]
    },
    {
      "cell_type": "code",
      "metadata": {
        "id": "6y6G2F-9VNMI",
        "outputId": "6818e506-3041-4a45-8f7b-01554c0e913d",
        "colab": {
          "base_uri": "https://localhost:8080/",
          "height": 70
        }
      },
      "source": [
        "import math\n",
        "def combination(credit):\n",
        "    credit = (credit - 10.0)/20.0\n",
        "    out = 2.0*credit - 1.5\n",
        "    return out\n",
        "\n",
        "def activation(a):\n",
        "    probability = 1.0/(1 + math.exp(-a))\n",
        "    print(probability)\n",
        "\n",
        "credit = 16.0\n",
        "output = activation( combination(credit) )\n",
        "print(credit)\n",
        "print(output)"
      ],
      "execution_count": null,
      "outputs": [
        {
          "output_type": "stream",
          "text": [
            "0.289050497374996\n",
            "16.0\n",
            "None\n"
          ],
          "name": "stdout"
        }
      ]
    },
    {
      "cell_type": "code",
      "metadata": {
        "id": "ImPivq11WwbG",
        "outputId": "4b0776c4-09b2-4dd3-fb98-d954ca91d223",
        "colab": {
          "base_uri": "https://localhost:8080/",
          "height": 34
        }
      },
      "source": [
        "#Q3\n",
        "import numpy as np\n",
        "def area_r_polygon(n, s):\n",
        "    area = (n * s ** 2)/(4 * np.tan(np.pi/n))\n",
        "    return round(area,3)"
      ],
      "execution_count": null,
      "outputs": [
        {
          "output_type": "stream",
          "text": [
            "0.0\n"
          ],
          "name": "stdout"
        }
      ]
    },
    {
      "cell_type": "code",
      "metadata": {
        "id": "oc1R7_M-ZwsU",
        "outputId": "71c3dd55-f849-46f6-b107-f04ee75bce4c",
        "colab": {
          "base_uri": "https://localhost:8080/",
          "height": 34
        }
      },
      "source": [
        "#Q4\n",
        "def mysum(a,b,limit):\n",
        "    if (type(a)!=int) or (type(b)!=int) or a<=0 or b<=0:\n",
        "        return \"Wrong input\"\n",
        "    lst = []\n",
        "    for i in range(1,limit):\n",
        "        if (i % a == 0) or (i % b == 0):\n",
        "            lst.append(i)\n",
        "    add = sum(lst)\n",
        "    return add"
      ],
      "execution_count": null,
      "outputs": [
        {
          "output_type": "stream",
          "text": [
            "0\n"
          ],
          "name": "stdout"
        }
      ]
    },
    {
      "cell_type": "code",
      "metadata": {
        "id": "soydm-dgapmK",
        "outputId": "d978ea77-da0b-4bc2-913e-905eb9afa551",
        "colab": {
          "base_uri": "https://localhost:8080/",
          "height": 34
        }
      },
      "source": [
        "#Q5\n",
        "def get_students(students, course):\n",
        "    stulst = []\n",
        "    sublst = []\n",
        "    student = []\n",
        "    for i in students:\n",
        "        x, y = i\n",
        "        stulst.append(x)\n",
        "        sublst.append(y)\n",
        "    for i in range(len(sublst)):\n",
        "        for j in sublst[i]:\n",
        "            if j == course:\n",
        "                student.append(stulst[i])\n",
        "    return student\n",
        "\n",
        "\n",
        "students = [(\"Alan\", [\"CompSci\", \"Physics\", \"Math\"]),\n",
        " (\"Justin\", [\"Math\", \"CompSci\", \"Stats\"]),\n",
        " (\"Edward\", [\"CompSci\", \"Philosophy\", \"Economics\"]),\n",
        "(\"Margaret\", [\"InfSys\", \"Accounting\", \"Economics\",\n",
        "\"CommLaw\"]),\n",
        "(\"Philip\", [\"Sociology\", \"Economics\", \"Law\", \"Stats\",\n",
        "\"Music\"]),\n",
        " (\"Mary\", [\"Math\", \"CompSci\", \"Stats\"]),\n",
        " (\"Vera\", [\"CompSci\", \"Philosophy\", \"Economics\"]),\n",
        " (\"Mike\", [\"InfSys\", \"Accounting\", \"Economics\", \"CommLaw\"]),\n",
        " (\"Donna\", [\"Sociology\", \"Economics\", \"Law\", \"Stats\"])]"
      ],
      "execution_count": null,
      "outputs": [
        {
          "output_type": "stream",
          "text": [
            "['Alan', 'Justin', 'Edward', 'Mary', 'Vera']\n"
          ],
          "name": "stdout"
        }
      ]
    },
    {
      "cell_type": "code",
      "metadata": {
        "id": "Zwqh9w_chK5m",
        "outputId": "832bc936-dac4-48c9-e3e3-c8e41f45ce19",
        "colab": {
          "base_uri": "https://localhost:8080/",
          "height": 34
        }
      },
      "source": [
        "def num_of_sol(n):\n",
        "    num = 0\n",
        "    for x5 in range(0,n+1):\n",
        "        for x4 in range(0,n+1-x5):\n",
        "            for x3 in range(0,n+1-x5-x4):\n",
        "                for x2 in range(0,n+1-x5-x4-x3):\n",
        "                    num += 1\n",
        "    return num\n",
        "\n",
        "print(num_of_sol(4))"
      ],
      "execution_count": null,
      "outputs": [
        {
          "output_type": "stream",
          "text": [
            "70\n"
          ],
          "name": "stdout"
        }
      ]
    },
    {
      "cell_type": "code",
      "metadata": {
        "id": "ya-6WYxtl9MB"
      },
      "source": [
        "#7\n",
        "def num_of_sol(n):\n",
        "    num = 0\n",
        "    for x5 in range(0,n+1):\n",
        "        for x4 in range(0,n+1-x5):\n",
        "            for x3 in range(0,n+1-x5-x4):\n",
        "                for x2 in range(0,n+1-x5-x4-x3):\n",
        "                    num += 1\n",
        "    return num\n",
        "\n",
        "from functools import reduce\n",
        "def mul(a,b):\n",
        "    return a * b\n",
        "def num_of_sol(n):\n",
        "    num = reduce(mul,range(1,n+4+1,1))\n",
        "    den = reduce(mul,range(1,n+1,1)) * reduce(mul,range(1,4+1,1))\n",
        "    return num // den\n",
        "\n",
        "print(num_of_sol(3))"
      ],
      "execution_count": null,
      "outputs": []
    },
    {
      "cell_type": "code",
      "metadata": {
        "id": "HDVSkX6f0UWD",
        "outputId": "18d65a38-319c-4e52-e5c6-03b74c43d1b5",
        "colab": {
          "base_uri": "https://localhost:8080/",
          "height": 34
        }
      },
      "source": [
        "from functools import reduce\n",
        "def mul(a,b):\n",
        "    return a * b\n",
        "def num_of_sol(n):\n",
        "    num = reduce(mul,range(1,n+4+1,1))\n",
        "    den = reduce(mul,range(1,n+1,1)) * reduce(mul,range(1,4+1,1))\n",
        "    return num // den\n",
        "\n",
        "print(num_of_sol(3))"
      ],
      "execution_count": null,
      "outputs": [
        {
          "output_type": "stream",
          "text": [
            "35\n"
          ],
          "name": "stdout"
        }
      ]
    },
    {
      "cell_type": "code",
      "metadata": {
        "id": "dVU9461j2Gvl",
        "outputId": "7f3e94f9-ff65-40b0-9717-253ed519f22d",
        "colab": {
          "base_uri": "https://localhost:8080/",
          "height": 34
        }
      },
      "source": [
        "def get_nodes(fid):\n",
        "    tuplist = []\n",
        "    for line in fid:\n",
        "        tup = line.strip('\\n').split(' ')\n",
        "        tup = tuple(map(int,tup))\n",
        "        tuplist.append(tup)\n",
        "    return tuplist\n",
        "\n",
        "f = open('sutdbook1.txt','r')\n",
        "get_nodes(f)"
      ],
      "execution_count": null,
      "outputs": [
        {
          "output_type": "execute_result",
          "data": {
            "text/plain": [
              "[(0, 1), (0, 2), (0, 3), (1, 48), (1, 53)]"
            ]
          },
          "metadata": {
            "tags": []
          },
          "execution_count": 59
        }
      ]
    },
    {
      "cell_type": "code",
      "metadata": {
        "id": "6UIquQJx6rl6"
      },
      "source": [
        "def create_graph(nodes):\n",
        "    tuplist = nodes\n",
        "    dic = {}\n",
        "    for i in tuplist:\n",
        "        if i[0] not in dic:\n",
        "            dic[i[0]] = dict({i[1]:1})\n",
        "        if i[1] not in dic:\n",
        "            dic[i[1]] = dict({i[0]:1})\n",
        "        if i[0] in dic:\n",
        "            dic[i[0]][i[1]] = 1\n",
        "        if i[1] in dic:\n",
        "            dic[i[1]][i[0]] = 1\n",
        "    return dic\n",
        "\n",
        "f = open('sutdbook1.txt','r') \n",
        "G = create_graph(get_nodes(f))"
      ],
      "execution_count": null,
      "outputs": []
    },
    {
      "cell_type": "code",
      "metadata": {
        "id": "_yoBBmN-Fp-e",
        "outputId": "88adce08-6f4d-44f0-d18c-8838765a26b6",
        "colab": {
          "base_uri": "https://localhost:8080/",
          "height": 34
        }
      },
      "source": [
        "def get_friends(G,node):\n",
        "    return list(G[node].keys())\n",
        "get_friends(G,2)"
      ],
      "execution_count": null,
      "outputs": [
        {
          "output_type": "execute_result",
          "data": {
            "text/plain": [
              "[0]"
            ]
          },
          "metadata": {
            "tags": []
          },
          "execution_count": 77
        }
      ]
    },
    {
      "cell_type": "code",
      "metadata": {
        "id": "RF_TMuH4I454",
        "outputId": "1347918d-5c33-4032-faa0-1f2022944798",
        "colab": {
          "base_uri": "https://localhost:8080/",
          "height": 34
        }
      },
      "source": [
        "def suggested_new_friends(G,node):\n",
        "    friends = get_friends(G,node)\n",
        "    commondic = {}\n",
        "    for who in friends:\n",
        "            common = get_friends(G,who)\n",
        "            common.remove(0)\n",
        "            for i in common:\n",
        "                if i not in commondic:\n",
        "                    commondic[i] = 1\n",
        "                elif i in commondic:\n",
        "                    commondic[i] += 1\n",
        "    users = list(commondic.keys())\n",
        "    number = list(commondic.values())\n",
        "    maxi = number[0]\n",
        "    maxiu = users[0]\n",
        "    for i in range(len(number)):\n",
        "        if number[i]> maxi:\n",
        "            maxiu = users[i]\n",
        "            maxi = number[i]\n",
        "    return [maxiu], maxi\n",
        "\n",
        "f = open(\"sutdbook2.txt\",\"r\")\n",
        "G = create_graph(get_nodes(f))\n",
        "suggested_new_friends(G,0)"
      ],
      "execution_count": null,
      "outputs": [
        {
          "output_type": "execute_result",
          "data": {
            "text/plain": [
              "([5], 3)"
            ]
          },
          "metadata": {
            "tags": []
          },
          "execution_count": 96
        }
      ]
    },
    {
      "cell_type": "code",
      "metadata": {
        "id": "yjJM1cDUYDIj"
      },
      "source": [
        ""
      ],
      "execution_count": null,
      "outputs": []
    },
    {
      "cell_type": "markdown",
      "metadata": {
        "id": "2O1ldbp9U-sA"
      },
      "source": [
        "# MidTerm 2019"
      ]
    },
    {
      "cell_type": "markdown",
      "metadata": {
        "id": "viBx03HAVBKM"
      },
      "source": [
        ""
      ]
    },
    {
      "cell_type": "code",
      "metadata": {
        "id": "t75mwxJhWs26",
        "outputId": "2f83a9ea-d095-4259-cce8-6b19db260a51",
        "colab": {
          "base_uri": "https://localhost:8080/",
          "height": 204
        }
      },
      "source": [
        "def area_of_circle(radius):\n",
        "    return 3.14159 * radius * radius\n",
        "\n",
        "r = 5\n",
        "area = area_of_circle\n",
        "\n",
        "print(('{area:1.3f}').format(area))"
      ],
      "execution_count": null,
      "outputs": [
        {
          "output_type": "error",
          "ename": "KeyError",
          "evalue": "ignored",
          "traceback": [
            "\u001b[0;31m---------------------------------------------------------------------------\u001b[0m",
            "\u001b[0;31mKeyError\u001b[0m                                  Traceback (most recent call last)",
            "\u001b[0;32m<ipython-input-191-5f62870d1152>\u001b[0m in \u001b[0;36m<module>\u001b[0;34m()\u001b[0m\n\u001b[1;32m      5\u001b[0m \u001b[0marea\u001b[0m \u001b[0;34m=\u001b[0m \u001b[0marea_of_circle\u001b[0m\u001b[0;34m\u001b[0m\u001b[0;34m\u001b[0m\u001b[0m\n\u001b[1;32m      6\u001b[0m \u001b[0;34m\u001b[0m\u001b[0m\n\u001b[0;32m----> 7\u001b[0;31m \u001b[0mprint\u001b[0m\u001b[0;34m(\u001b[0m\u001b[0;34m(\u001b[0m\u001b[0;34m'{area:1.3f}'\u001b[0m\u001b[0;34m)\u001b[0m\u001b[0;34m.\u001b[0m\u001b[0mformat\u001b[0m\u001b[0;34m(\u001b[0m\u001b[0marea\u001b[0m\u001b[0;34m)\u001b[0m\u001b[0;34m)\u001b[0m\u001b[0;34m\u001b[0m\u001b[0;34m\u001b[0m\u001b[0m\n\u001b[0m",
            "\u001b[0;31mKeyError\u001b[0m: 'area'"
          ]
        }
      ]
    },
    {
      "cell_type": "code",
      "metadata": {
        "id": "-5RqAlTOW3yc",
        "outputId": "dca52e40-8de8-4119-8858-6e1c58132f25",
        "colab": {
          "base_uri": "https://localhost:8080/",
          "height": 122
        }
      },
      "source": [
        "#Q1\n",
        "def energy_for_speed(m,v):\n",
        "    c = 3 * 10 **8\n",
        "    if v < 10**5 and v >= 0:\n",
        "        return round(f1(m,v),2)\n",
        "    if v < c and v >= 10**5:\n",
        "        return round(f2(m,v,c),2)\n",
        "    if v >= c:\n",
        "        return None\n",
        "\n",
        "def f1(m,v):\n",
        "    return 0.5 * m * v**2\n",
        "\n",
        "def f2(m,v,c):\n",
        "    e = m * c ** 2 * (1/(1-(v/c)**2)**0.5 -1)\n",
        "    return e\n",
        "\n",
        "print(energy_for_speed(1, 100))\n",
        "print(energy_for_speed(2, 2.5e3))\n",
        "print(energy_for_speed(0.5, 4.5e4))\n",
        "print(energy_for_speed(0.2, 2.5e6))\n",
        "print(energy_for_speed(0.5,3e7))\n",
        "print(energy_for_speed(0.5, 3e8))"
      ],
      "execution_count": null,
      "outputs": [
        {
          "output_type": "stream",
          "text": [
            "5000.0\n",
            "6250000.0\n",
            "506250000.0\n",
            "625032553969.62\n",
            "226701686664544.38\n",
            "None\n"
          ],
          "name": "stdout"
        }
      ]
    },
    {
      "cell_type": "code",
      "metadata": {
        "id": "5-yZr5uPcKsa",
        "outputId": "a9aa4b63-747a-4cac-b990-633ade933be1",
        "colab": {
          "base_uri": "https://localhost:8080/",
          "height": 34
        }
      },
      "source": [
        "#Q2\n",
        "from random import randint\n",
        "from random import seed\n",
        "\n",
        "def throw_three_dice():\n",
        "    throw = [randint(1,6),randint(1,6),randint(1,6)]\n",
        "    return throw\n",
        "\n",
        "def is_triple(throw):\n",
        "    if throw[0] == throw[1] and throw[0] == throw[2]:\n",
        "        return True\n",
        "    else:\n",
        "        return False\n",
        "\n",
        "def is_double(throw):\n",
        "    if is_triple(throw) == False:\n",
        "        if throw[0] == throw[1] or (throw[0] == throw[2] or throw[1] == throw[2]):\n",
        "            return True\n",
        "        else: return False\n",
        "    else:\n",
        "        return False\n",
        "\n",
        "def is_big(throw):\n",
        "    if is_triple(throw) == False:\n",
        "        if sum(throw) >= 11:\n",
        "            return True\n",
        "    return False\n",
        "\n",
        "def is_small(throw):\n",
        "    if is_triple(throw) == False:\n",
        "        if sum(throw) <= 10:\n",
        "            return True\n",
        "    return False\n",
        "\n",
        "def play_sic_bo(bet):\n",
        "    if bet == 'triple':\n",
        "        if is_triple(throw_three_dice()) == True:\n",
        "            point = 24\n",
        "        else:\n",
        "            point = -1\n",
        "    elif bet == 'double':\n",
        "        if is_double(throw_three_dice()) == True:\n",
        "            point = 2\n",
        "        else:\n",
        "            point = -1\n",
        "    elif bet == 'big':\n",
        "        if is_big(throw_three_dice()) == True:\n",
        "            point = 1\n",
        "        else:\n",
        "            point = -1\n",
        "    elif bet == 'small':\n",
        "        if is_small(throw_three_dice()) == True:\n",
        "            point = 1\n",
        "        else:\n",
        "            point = -1\n",
        "    else:\n",
        "        point = 0\n",
        "    return point\n",
        "\n",
        "seed(8)\n",
        "assert play_sic_bo('triple') == -1\n",
        "assert play_sic_bo('double') == 2\n",
        "assert play_sic_bo('big') == -1\n",
        "assert play_sic_bo('small') == 1\n",
        "assert play_sic_bo('WHOSE IDEA WAS THAT') == 0\n",
        "seed(17)\n",
        "assert play_sic_bo('triple') == -1\n",
        "assert play_sic_bo('double') == 2\n",
        "assert play_sic_bo('big') == 1\n",
        "assert play_sic_bo('small') == 1\n",
        "assert play_sic_bo('I MEAN SERIOUSLY') == 0\n",
        "print('Testing throw not called when invalid bet.')\n",
        "seed(23)\n",
        "play_sic_bo('testing dices are not thrown.')\n",
        "assert throw_three_dice() == [3, 1, 1]"
      ],
      "execution_count": null,
      "outputs": [
        {
          "output_type": "stream",
          "text": [
            "Testing throw not called when invalid bet.\n"
          ],
          "name": "stdout"
        }
      ]
    },
    {
      "cell_type": "code",
      "metadata": {
        "id": "WR0Py7Cvdojd",
        "outputId": "0b7ae883-058d-4c30-ec77-7e1c32e8310d",
        "colab": {
          "base_uri": "https://localhost:8080/",
          "height": 105
        }
      },
      "source": [
        "#Q3\n",
        "from random import seed\n",
        "\n",
        "def play_n_times(n):\n",
        "    dict_outcomes = {'triple_win': 0, 'triple_loss': 0, 'double_win': 0, 'double_loss': 0, 'big_win': 0, 'big_loss': 0, 'small_win': 0, 'small_loss': 0}\n",
        "    dict_total_points = {'triple': 0, 'double': 0, 'big': 0, 'small': 0}\n",
        "    bet = ['triple', 'double', 'big', 'small']\n",
        "    for i in bet:\n",
        "        for j in range(n):\n",
        "            point = play_sic_bo(i)\n",
        "            dict_total_points[i] += point\n",
        "            if point == -1:\n",
        "                key = i + '_loss'\n",
        "                dict_outcomes[key] += 1\n",
        "            if point != -1:\n",
        "                key = i + '_win'\n",
        "                dict_outcomes[key] += 1\n",
        "    return dict_outcomes, dict_total_points\n",
        "    \n",
        "# Test cases for the play_n_times() function\n",
        "seed(11)\n",
        "n = 10000\n",
        "dict_outcomes, dict_total_points = play_n_times(n)\n",
        "assert dict_outcomes == {'triple_win': 300, 'triple_loss': 9700, 'double_win': 4047, 'double_loss': 5953, 'big_win': 4830, 'big_loss': 5170, 'small_win': 4809, 'small_loss': 5191}\n",
        "assert dict_total_points == {'triple': -2500, 'double': 2141, 'big': -340, 'small': -382}\n",
        "\n",
        "def best_strategy(n):\n",
        "    dict_outcomes, dict_total_points = play_n_times(n)\n",
        "    max_key = max(dict_total_points, key=dict_total_points.get)\n",
        "    max_value = max(dict_total_points.values())\n",
        "    return max_key, max_value\n",
        "\n",
        "# Test cases for the best_strategy() function\n",
        "seed(11)\n",
        "n = 10000\n",
        "assert best_strategy(n) == ('double', 2141)\n",
        "    \n",
        "def results_to_file(dict_outcomes,dict_total_points):\n",
        "    keys = list(dict_total_points.keys())\n",
        "    recap_results = ''\n",
        "    for i in keys:\n",
        "        win = dict_outcomes[i+'_win']\n",
        "        lose = dict_outcomes[i+'_loss']\n",
        "        point = dict_total_points[i]\n",
        "        recap_results = recap_results + \"Strategy {}: wins ({}), losses ({}), total points ({})\\n\".format(i,win,lose,point)\n",
        "    return recap_results\n",
        "\n",
        "seed(11)\n",
        "n = 10000\n",
        "dict_outcomes, dict_total_points = play_n_times(10000)\n",
        "ans = results_to_file(dict_outcomes, dict_total_points)\n",
        "\n",
        "print(ans)\n",
        "expected='''Strategy triple: wins (300), losses (9700), total points (-2500)\n",
        "Strategy double: wins (4047), losses (5953), total points (2141)\n",
        "Strategy big: wins (4830), losses (5170), total points (-340)\n",
        "Strategy small: wins (4809), losses (5191), total points (-382)\n",
        "'''"
      ],
      "execution_count": null,
      "outputs": [
        {
          "output_type": "stream",
          "text": [
            "Strategy triple: wins (300), losses (9700), total points (-2500)\n",
            "Strategy double: wins (4047), losses (5953), total points (2141)\n",
            "Strategy big: wins (4830), losses (5170), total points (-340)\n",
            "Strategy small: wins (4809), losses (5191), total points (-382)\n",
            "\n"
          ],
          "name": "stdout"
        }
      ]
    },
    {
      "cell_type": "code",
      "metadata": {
        "id": "divKi-EnjvFB",
        "outputId": "b92419b8-8259-4393-a4c2-cdf0e2f92346",
        "colab": {
          "base_uri": "https://localhost:8080/",
          "height": 34
        }
      },
      "source": [
        "dic = {'a':0, 'b':1, 'c':2}\n",
        "list(dic.())"
      ],
      "execution_count": null,
      "outputs": [
        {
          "output_type": "execute_result",
          "data": {
            "text/plain": [
              "[0, 1, 2]"
            ]
          },
          "metadata": {
            "tags": []
          },
          "execution_count": 6
        }
      ]
    },
    {
      "cell_type": "code",
      "metadata": {
        "id": "5hFpXw_CraOe",
        "outputId": "b19d867d-a0fc-4fbe-df40-8d253735b04d",
        "colab": {
          "base_uri": "https://localhost:8080/",
          "height": 34
        }
      },
      "source": [
        "x = 5\n",
        "y = 9\n",
        "if x==y:\n",
        "    print('hello')\n",
        "else:\n",
        "    print('no')"
      ],
      "execution_count": null,
      "outputs": [
        {
          "output_type": "stream",
          "text": [
            "no\n"
          ],
          "name": "stdout"
        }
      ]
    },
    {
      "cell_type": "code",
      "metadata": {
        "id": "SJ1mEJCftOX7",
        "outputId": "ee48a617-a442-4622-fe2b-62549c47f47e",
        "colab": {
          "base_uri": "https://localhost:8080/",
          "height": 34
        }
      },
      "source": [
        "'BBBB'> 'bbb'"
      ],
      "execution_count": null,
      "outputs": [
        {
          "output_type": "execute_result",
          "data": {
            "text/plain": [
              "False"
            ]
          },
          "metadata": {
            "tags": []
          },
          "execution_count": 10
        }
      ]
    },
    {
      "cell_type": "code",
      "metadata": {
        "id": "mCR6ENM5PCsp"
      },
      "source": [
        ""
      ],
      "execution_count": null,
      "outputs": []
    },
    {
      "cell_type": "markdown",
      "metadata": {
        "id": "NJWAHXOVhTp3"
      },
      "source": [
        "# Week 9"
      ]
    },
    {
      "cell_type": "code",
      "metadata": {
        "id": "zU6roucehfUm",
        "outputId": "ccf421c1-764c-46fb-ab3b-aae66f2d8b8b",
        "colab": {
          "base_uri": "https://localhost:8080/",
          "height": 362
        }
      },
      "source": [
        "class SM:\n",
        "    def __init__(self):\n",
        "       self.state = None\n",
        "    \n",
        "    def start(self):\n",
        "        self.state = self.start_state\n",
        "\n",
        "    #step method\n",
        "    #step moves to the next step\n",
        "    #return an output\n",
        "    def step(self, inp):\n",
        "        state = self.state\n",
        "        out, ns = self.get_next_values(state, inp)\n",
        "        return out\n",
        "\n",
        "    def get_next_values(self, state, inp):\n",
        "        pass\n",
        "\n",
        "class LightBox(SM):\n",
        "    # SM is the parent class\n",
        "    # start state\n",
        "    state_state = \"OFF\"\n",
        "\n",
        "    #output & next state function\n",
        "    def get_next_values(self, state, inp):\n",
        "        if state == \"OFF\":\n",
        "            if inp == 1: #Button pressed:\n",
        "                next_state = \"ON\"\n",
        "                output = 1\n",
        "            else:\n",
        "                next_state = state\n",
        "                output = 0\n",
        "        else:\n",
        "            if inp == 1: #Button pressed:\n",
        "                next_state = \"OFF\"\n",
        "                output = 0\n",
        "            else:\n",
        "                next_state = state\n",
        "                output = 1\n",
        "        return next_state, output\n",
        "\n",
        "lb = LightBox()\n",
        "print(lb.state)\n",
        "lb.start()\n",
        "print(lb.state)"
      ],
      "execution_count": null,
      "outputs": [
        {
          "output_type": "stream",
          "text": [
            "None\n"
          ],
          "name": "stdout"
        },
        {
          "output_type": "error",
          "ename": "AttributeError",
          "evalue": "ignored",
          "traceback": [
            "\u001b[0;31m---------------------------------------------------------------------------\u001b[0m",
            "\u001b[0;31mAttributeError\u001b[0m                            Traceback (most recent call last)",
            "\u001b[0;32m<ipython-input-4-99c4ed5de938>\u001b[0m in \u001b[0;36m<module>\u001b[0;34m()\u001b[0m\n\u001b[1;32m     42\u001b[0m \u001b[0mlb\u001b[0m \u001b[0;34m=\u001b[0m \u001b[0mLightBox\u001b[0m\u001b[0;34m(\u001b[0m\u001b[0;34m)\u001b[0m\u001b[0;34m\u001b[0m\u001b[0;34m\u001b[0m\u001b[0m\n\u001b[1;32m     43\u001b[0m \u001b[0mprint\u001b[0m\u001b[0;34m(\u001b[0m\u001b[0mlb\u001b[0m\u001b[0;34m.\u001b[0m\u001b[0mstate\u001b[0m\u001b[0;34m)\u001b[0m\u001b[0;34m\u001b[0m\u001b[0;34m\u001b[0m\u001b[0m\n\u001b[0;32m---> 44\u001b[0;31m \u001b[0mlb\u001b[0m\u001b[0;34m.\u001b[0m\u001b[0mstart\u001b[0m\u001b[0;34m(\u001b[0m\u001b[0;34m)\u001b[0m\u001b[0;34m\u001b[0m\u001b[0;34m\u001b[0m\u001b[0m\n\u001b[0m\u001b[1;32m     45\u001b[0m \u001b[0mprint\u001b[0m\u001b[0;34m(\u001b[0m\u001b[0mlb\u001b[0m\u001b[0;34m.\u001b[0m\u001b[0mstate\u001b[0m\u001b[0;34m)\u001b[0m\u001b[0;34m\u001b[0m\u001b[0;34m\u001b[0m\u001b[0m\n",
            "\u001b[0;32m<ipython-input-4-99c4ed5de938>\u001b[0m in \u001b[0;36mstart\u001b[0;34m(self)\u001b[0m\n\u001b[1;32m      4\u001b[0m \u001b[0;34m\u001b[0m\u001b[0m\n\u001b[1;32m      5\u001b[0m     \u001b[0;32mdef\u001b[0m \u001b[0mstart\u001b[0m\u001b[0;34m(\u001b[0m\u001b[0mself\u001b[0m\u001b[0;34m)\u001b[0m\u001b[0;34m:\u001b[0m\u001b[0;34m\u001b[0m\u001b[0;34m\u001b[0m\u001b[0m\n\u001b[0;32m----> 6\u001b[0;31m         \u001b[0mself\u001b[0m\u001b[0;34m.\u001b[0m\u001b[0mstate\u001b[0m \u001b[0;34m=\u001b[0m \u001b[0mself\u001b[0m\u001b[0;34m.\u001b[0m\u001b[0mstart_state\u001b[0m\u001b[0;34m\u001b[0m\u001b[0;34m\u001b[0m\u001b[0m\n\u001b[0m\u001b[1;32m      7\u001b[0m \u001b[0;34m\u001b[0m\u001b[0m\n\u001b[1;32m      8\u001b[0m     \u001b[0;31m#step method\u001b[0m\u001b[0;34m\u001b[0m\u001b[0;34m\u001b[0m\u001b[0;34m\u001b[0m\u001b[0m\n",
            "\u001b[0;31mAttributeError\u001b[0m: 'LightBox' object has no attribute 'start_state'"
          ]
        }
      ]
    },
    {
      "cell_type": "code",
      "metadata": {
        "id": "UY3ZvWuvhj42"
      },
      "source": [
        "#CS1 - Coke Machine\n",
        "from libdw import sm\n",
        "\n",
        "class CM(sm.SM):\n",
        "    start_state = 0\n",
        "\n",
        "    def get_next_values(self, state, inp):\n",
        "        if inp != 50 and inp != 100:\n",
        "            next_state = state\n",
        "            out = (state, '--', inp)\n",
        "        elif state == 0:\n",
        "            if inp == 100:\n",
        "                next_state = 0\n",
        "                out = (0, 'coke', 0)\n",
        "            else:\n",
        "                next_state = 50\n",
        "                out = (50, '--', 0)\n",
        "        elif state == 50:\n",
        "            next_state = 0\n",
        "            if inp == 100:\n",
        "                out = (0, 'coke', 50)\n",
        "            else:\n",
        "                out = (0, 'coke', 0)\n",
        "        return next_state, out"
      ],
      "execution_count": null,
      "outputs": []
    },
    {
      "cell_type": "code",
      "metadata": {
        "id": "D1evYS3moFC3"
      },
      "source": [
        "#CS2 - Simple Account\n",
        "from libdw import sm\n",
        "\n",
        "class SimpleAccount(sm.SM):\n",
        "    \n",
        "    def __init__(self, startingbal):\n",
        "        self.start_state = startingbal\n",
        "    \n",
        "    def get_next_values(self, state, inp):\n",
        "        total = state + inp\n",
        "        if state < 100 and inp < 0:\n",
        "            return (total-5, total-5)\n",
        "        return (total, total)"
      ],
      "execution_count": null,
      "outputs": []
    },
    {
      "cell_type": "code",
      "metadata": {
        "id": "3pRCI2Zb1SlM"
      },
      "source": [
        "#HW1 - Comments\n",
        "from libdw import sm\n",
        "\n",
        "class CommentsSM(sm.SM):\n",
        "    start_state = 0\n",
        "\n",
        "    def get_next_values(self, state, inp):\n",
        "        for letter in inp:\n",
        "            if letter == '\\n':\n",
        "                state = 0\n",
        "            if letter == '#':\n",
        "                state = 1\n",
        "            if state == 0:\n",
        "                return state, None\n",
        "            elif state == 1:\n",
        "                return state, letter"
      ],
      "execution_count": null,
      "outputs": []
    },
    {
      "cell_type": "code",
      "metadata": {
        "id": "6EkXYhu2jnUj",
        "outputId": "72d1a4ac-3d48-4a74-9b67-be6436322bf0",
        "colab": {
          "base_uri": "https://localhost:8080/",
          "height": 54
        }
      },
      "source": [
        "#HW2 - First Words\n",
        "from libdw import sm\n",
        "\n",
        "class FirstWordSM(sm.SM):\n",
        "    def __init__(self):\n",
        "        self.start_state = 0\n",
        "    def get_next_values(self, state, inp):\n",
        "        if (state == 0 or state == 2) and inp.isalpha()==True:\n",
        "            return 2, inp\n",
        "        elif inp == '#':\n",
        "            return 1, inp\n",
        "        elif (inp == ' ' and state == 2):\n",
        "            return 1, None\n",
        "        elif inp == '\\n':\n",
        "            return 0, None\n",
        "        else:\n",
        "            return state, None\n",
        "\n",
        "inputstr = \"# This is the\\ntime for\\nall gantry\"\n",
        "m = FirstWordSM()\n",
        "print(m.transduce(inputstr))"
      ],
      "execution_count": null,
      "outputs": [
        {
          "output_type": "stream",
          "text": [
            "['#', None, None, None, None, None, None, None, None, None, None, None, None, None, 't', 'i', 'm', 'e', None, None, None, None, None, 'a', 'l', 'l', None, None, None, None, None, None, None]\n"
          ],
          "name": "stdout"
        }
      ]
    },
    {
      "cell_type": "code",
      "metadata": {
        "id": "9d6J6QFq9dlv",
        "outputId": "0f89d89f-c027-4324-f912-47c59888b401",
        "colab": {
          "base_uri": "https://localhost:8080/",
          "height": 54
        }
      },
      "source": [
        "from libdw import sm\n",
        "\n",
        "class FirstWordSM(sm.SM):\n",
        "    start_state = 0\n",
        "\n",
        "    def get_next_values(self, state, inp):\n",
        "        if state == 0:\n",
        "            if inp in [\" \", \"\\n\"]:\n",
        "                return (0, None)\n",
        "            if inp not in [\" \", \"\\n\"]:\n",
        "                return (1, inp)\n",
        "        if state == 1:\n",
        "            if inp == \" \":\n",
        "                return (2, None)\n",
        "            if inp != \" \":\n",
        "                return (1, inp)\n",
        "        if state == 2:\n",
        "            if inp == \"\\n\":\n",
        "                return (0, None)\n",
        "            if inp != \"\\n\":\n",
        "                return (2, None)\n",
        "\n",
        "inputstr = \"# This is the\\ntime for\\nall gantry\"\n",
        "m = FirstWordSM()\n",
        "print(m.transduce(inputstr))"
      ],
      "execution_count": null,
      "outputs": [
        {
          "output_type": "stream",
          "text": [
            "['#', None, None, None, None, None, None, None, None, None, None, None, None, None, 't', 'i', 'm', 'e', None, None, None, None, None, 'a', 'l', 'l', None, None, None, None, None, None, None]\n"
          ],
          "name": "stdout"
        }
      ]
    },
    {
      "cell_type": "code",
      "metadata": {
        "id": "cynQaZ1jmjU5",
        "outputId": "a2e0becc-effa-435e-de92-6a55489b9ef8",
        "colab": {
          "base_uri": "https://localhost:8080/",
          "height": 829
        }
      },
      "source": [
        "!pip install libdw"
      ],
      "execution_count": null,
      "outputs": [
        {
          "output_type": "stream",
          "text": [
            "Collecting libdw\n",
            "\u001b[?25l  Downloading https://files.pythonhosted.org/packages/49/25/13afd11984647f3bae1b3cedb4b576e27180b38448b2cf7ec1468e818e06/libdw-4.3.0-py3-none-any.whl (286kB)\n",
            "\u001b[K     |████████████████████████████████| 286kB 2.7MB/s \n",
            "\u001b[?25hRequirement already satisfied: oauth2client in /usr/local/lib/python3.6/dist-packages (from libdw) (4.1.3)\n",
            "Requirement already satisfied: requests in /usr/local/lib/python3.6/dist-packages (from libdw) (2.21.0)\n",
            "Collecting requests-toolbelt\n",
            "\u001b[?25l  Downloading https://files.pythonhosted.org/packages/60/ef/7681134338fc097acef8d9b2f8abe0458e4d87559c689a8c306d0957ece5/requests_toolbelt-0.9.1-py2.py3-none-any.whl (54kB)\n",
            "\u001b[K     |████████████████████████████████| 61kB 9.7MB/s \n",
            "\u001b[?25hCollecting python-jwt\n",
            "  Downloading https://files.pythonhosted.org/packages/62/20/fe3b51499d9da7167e561d9affaf59694031e035bd44b8df140260d09f71/python_jwt-3.2.6-py2.py3-none-any.whl\n",
            "Collecting gcloud\n",
            "\u001b[?25l  Downloading https://files.pythonhosted.org/packages/11/ab/d0cee58db2d8445c26e6f5db25d9b1f1aa14a3ab30eea8ce77ae808d10ef/gcloud-0.18.3.tar.gz (454kB)\n",
            "\u001b[K     |████████████████████████████████| 460kB 57.1MB/s \n",
            "\u001b[?25hCollecting sseclient\n",
            "  Downloading https://files.pythonhosted.org/packages/b2/c9/734c8ed2ceb6c053a710833b8bf9f95fd4ae8ef4c8e63a165c9a09cfe172/sseclient-0.0.26.tar.gz\n",
            "Requirement already satisfied: httplib2>=0.9.1 in /usr/local/lib/python3.6/dist-packages (from oauth2client->libdw) (0.17.0)\n",
            "Requirement already satisfied: pyasn1-modules>=0.0.5 in /usr/local/lib/python3.6/dist-packages (from oauth2client->libdw) (0.2.8)\n",
            "Requirement already satisfied: rsa>=3.1.4 in /usr/local/lib/python3.6/dist-packages (from oauth2client->libdw) (4.0)\n",
            "Requirement already satisfied: pyasn1>=0.1.7 in /usr/local/lib/python3.6/dist-packages (from oauth2client->libdw) (0.4.8)\n",
            "Requirement already satisfied: six>=1.6.1 in /usr/local/lib/python3.6/dist-packages (from oauth2client->libdw) (1.12.0)\n",
            "Requirement already satisfied: chardet<3.1.0,>=3.0.2 in /usr/local/lib/python3.6/dist-packages (from requests->libdw) (3.0.4)\n",
            "Requirement already satisfied: idna<2.9,>=2.5 in /usr/local/lib/python3.6/dist-packages (from requests->libdw) (2.8)\n",
            "Requirement already satisfied: certifi>=2017.4.17 in /usr/local/lib/python3.6/dist-packages (from requests->libdw) (2019.11.28)\n",
            "Requirement already satisfied: urllib3<1.25,>=1.21.1 in /usr/local/lib/python3.6/dist-packages (from requests->libdw) (1.24.3)\n",
            "Collecting jwcrypto>=0.6.0\n",
            "\u001b[?25l  Downloading https://files.pythonhosted.org/packages/ad/dd/3a637bd1ee446bde1984325321cb606c44accfe5f095352d65166c080e14/jwcrypto-0.7-py2.py3-none-any.whl (78kB)\n",
            "\u001b[K     |████████████████████████████████| 81kB 11.9MB/s \n",
            "\u001b[?25hRequirement already satisfied: googleapis-common-protos in /usr/local/lib/python3.6/dist-packages (from gcloud->libdw) (1.51.0)\n",
            "Requirement already satisfied: protobuf!=3.0.0.b2.post1,>=3.0.0b2 in /usr/local/lib/python3.6/dist-packages (from gcloud->libdw) (3.10.0)\n",
            "Collecting cryptography>=1.5\n",
            "\u001b[?25l  Downloading https://files.pythonhosted.org/packages/ca/9a/7cece52c46546e214e10811b36b2da52ce1ea7fa203203a629b8dfadad53/cryptography-2.8-cp34-abi3-manylinux2010_x86_64.whl (2.3MB)\n",
            "\u001b[K     |████████████████████████████████| 2.3MB 51.3MB/s \n",
            "\u001b[?25hRequirement already satisfied: setuptools in /usr/local/lib/python3.6/dist-packages (from protobuf!=3.0.0.b2.post1,>=3.0.0b2->gcloud->libdw) (46.0.0)\n",
            "Requirement already satisfied: cffi!=1.11.3,>=1.8 in /usr/local/lib/python3.6/dist-packages (from cryptography>=1.5->jwcrypto>=0.6.0->python-jwt->libdw) (1.14.0)\n",
            "Requirement already satisfied: pycparser in /usr/local/lib/python3.6/dist-packages (from cffi!=1.11.3,>=1.8->cryptography>=1.5->jwcrypto>=0.6.0->python-jwt->libdw) (2.20)\n",
            "Building wheels for collected packages: gcloud, sseclient\n",
            "  Building wheel for gcloud (setup.py) ... \u001b[?25l\u001b[?25hdone\n",
            "  Created wheel for gcloud: filename=gcloud-0.18.3-cp36-none-any.whl size=602937 sha256=5fd900ce579cf9366df0729cd24672dfcaf95d03e701f4464258aa984a780181\n",
            "  Stored in directory: /root/.cache/pip/wheels/b9/9b/9c/a01be401658fea33b93a35d03921b0c638266821b264dc8662\n",
            "  Building wheel for sseclient (setup.py) ... \u001b[?25l\u001b[?25hdone\n",
            "  Created wheel for sseclient: filename=sseclient-0.0.26-cp36-none-any.whl size=5526 sha256=647c6cbfc045ead8cb32727eaedfa223569cda24b56e70f279962540aa470d51\n",
            "  Stored in directory: /root/.cache/pip/wheels/c1/6d/f7/721cf7fe8dfc2d3a6502886a4239fe6a56e9317ad2c87eb718\n",
            "Successfully built gcloud sseclient\n",
            "Installing collected packages: requests-toolbelt, cryptography, jwcrypto, python-jwt, gcloud, sseclient, libdw\n",
            "Successfully installed cryptography-2.8 gcloud-0.18.3 jwcrypto-0.7 libdw-4.3.0 python-jwt-3.2.6 requests-toolbelt-0.9.1 sseclient-0.0.26\n"
          ],
          "name": "stdout"
        }
      ]
    },
    {
      "cell_type": "code",
      "metadata": {
        "id": "5Hz16RC-mqip",
        "outputId": "7a6dfeae-5379-43df-9077-df558ac652cd",
        "colab": {
          "base_uri": "https://localhost:8080/",
          "height": 365
        }
      },
      "source": [
        "import sympy as sym\n",
        "x = sym.Symbol('x')\n",
        "costheta = sym.Symbol('costheta')\n",
        "phi = sym.Symbol('phi')\n",
        "theta = sym.Symbol('theta')\n",
        "\n",
        "def p(l,m):\n",
        "    pl = (1/((2**l)*sym.factorial(l))) * ((x**2)-1)**l\n",
        "    for i in range(0,l+abs(m)):\n",
        "        pl = sym.diff(pl,x)\n",
        "    pl = (1-x**2)**(abs(m)/2) * pl\n",
        "    print(pl)\n",
        "    return pl\n",
        "\n",
        "def angular_wave_func(m,l,theta,phi):\n",
        "    if m > 0:\n",
        "        E = (-1)**m\n",
        "    elif m <=0:\n",
        "        E = 1\n",
        "    P = p(l,m)\n",
        "    P = P.subs(x,costheta)\n",
        "    Yml = E * sym.sqrt((((2*l)+1)/(4*c.pi))*(sym.factorial(l-abs(m))/sym.factorial(l+abs(m)))) * np.exp(1j*m*phi) * P\n",
        "    print('Angular is', np.round(np.complex(Yml),5))\n",
        "    return np.round(np.complex(Yml),5)\n",
        "\n",
        "angular_wave_func(0,0,theta,phi)"
      ],
      "execution_count": null,
      "outputs": [
        {
          "output_type": "stream",
          "text": [
            "(-x**2 + 1)**0.0\n"
          ],
          "name": "stdout"
        },
        {
          "output_type": "error",
          "ename": "NameError",
          "evalue": "ignored",
          "traceback": [
            "\u001b[0;31m---------------------------------------------------------------------------\u001b[0m",
            "\u001b[0;31mNameError\u001b[0m                                 Traceback (most recent call last)",
            "\u001b[0;32m<ipython-input-8-4fc881315355>\u001b[0m in \u001b[0;36m<module>\u001b[0;34m()\u001b[0m\n\u001b[1;32m     24\u001b[0m     \u001b[0;32mreturn\u001b[0m \u001b[0mnp\u001b[0m\u001b[0;34m.\u001b[0m\u001b[0mround\u001b[0m\u001b[0;34m(\u001b[0m\u001b[0mnp\u001b[0m\u001b[0;34m.\u001b[0m\u001b[0mcomplex\u001b[0m\u001b[0;34m(\u001b[0m\u001b[0mYml\u001b[0m\u001b[0;34m)\u001b[0m\u001b[0;34m,\u001b[0m\u001b[0;36m5\u001b[0m\u001b[0;34m)\u001b[0m\u001b[0;34m\u001b[0m\u001b[0;34m\u001b[0m\u001b[0m\n\u001b[1;32m     25\u001b[0m \u001b[0;34m\u001b[0m\u001b[0m\n\u001b[0;32m---> 26\u001b[0;31m \u001b[0mangular_wave_func\u001b[0m\u001b[0;34m(\u001b[0m\u001b[0;36m0\u001b[0m\u001b[0;34m,\u001b[0m\u001b[0;36m0\u001b[0m\u001b[0;34m,\u001b[0m\u001b[0mtheta\u001b[0m\u001b[0;34m,\u001b[0m\u001b[0mphi\u001b[0m\u001b[0;34m)\u001b[0m\u001b[0;34m\u001b[0m\u001b[0;34m\u001b[0m\u001b[0m\n\u001b[0m",
            "\u001b[0;32m<ipython-input-8-4fc881315355>\u001b[0m in \u001b[0;36mangular_wave_func\u001b[0;34m(m, l, theta, phi)\u001b[0m\n\u001b[1;32m     20\u001b[0m     \u001b[0mP\u001b[0m \u001b[0;34m=\u001b[0m \u001b[0mp\u001b[0m\u001b[0;34m(\u001b[0m\u001b[0ml\u001b[0m\u001b[0;34m,\u001b[0m\u001b[0mm\u001b[0m\u001b[0;34m)\u001b[0m\u001b[0;34m\u001b[0m\u001b[0;34m\u001b[0m\u001b[0m\n\u001b[1;32m     21\u001b[0m     \u001b[0mP\u001b[0m \u001b[0;34m=\u001b[0m \u001b[0mP\u001b[0m\u001b[0;34m.\u001b[0m\u001b[0msubs\u001b[0m\u001b[0;34m(\u001b[0m\u001b[0mx\u001b[0m\u001b[0;34m,\u001b[0m\u001b[0mcostheta\u001b[0m\u001b[0;34m)\u001b[0m\u001b[0;34m\u001b[0m\u001b[0;34m\u001b[0m\u001b[0m\n\u001b[0;32m---> 22\u001b[0;31m     \u001b[0mYml\u001b[0m \u001b[0;34m=\u001b[0m \u001b[0mE\u001b[0m \u001b[0;34m*\u001b[0m \u001b[0msym\u001b[0m\u001b[0;34m.\u001b[0m\u001b[0msqrt\u001b[0m\u001b[0;34m(\u001b[0m\u001b[0;34m(\u001b[0m\u001b[0;34m(\u001b[0m\u001b[0;34m(\u001b[0m\u001b[0;36m2\u001b[0m\u001b[0;34m*\u001b[0m\u001b[0ml\u001b[0m\u001b[0;34m)\u001b[0m\u001b[0;34m+\u001b[0m\u001b[0;36m1\u001b[0m\u001b[0;34m)\u001b[0m\u001b[0;34m/\u001b[0m\u001b[0;34m(\u001b[0m\u001b[0;36m4\u001b[0m\u001b[0;34m*\u001b[0m\u001b[0mc\u001b[0m\u001b[0;34m.\u001b[0m\u001b[0mpi\u001b[0m\u001b[0;34m)\u001b[0m\u001b[0;34m)\u001b[0m\u001b[0;34m*\u001b[0m\u001b[0;34m(\u001b[0m\u001b[0msym\u001b[0m\u001b[0;34m.\u001b[0m\u001b[0mfactorial\u001b[0m\u001b[0;34m(\u001b[0m\u001b[0ml\u001b[0m\u001b[0;34m-\u001b[0m\u001b[0mabs\u001b[0m\u001b[0;34m(\u001b[0m\u001b[0mm\u001b[0m\u001b[0;34m)\u001b[0m\u001b[0;34m)\u001b[0m\u001b[0;34m/\u001b[0m\u001b[0msym\u001b[0m\u001b[0;34m.\u001b[0m\u001b[0mfactorial\u001b[0m\u001b[0;34m(\u001b[0m\u001b[0ml\u001b[0m\u001b[0;34m+\u001b[0m\u001b[0mabs\u001b[0m\u001b[0;34m(\u001b[0m\u001b[0mm\u001b[0m\u001b[0;34m)\u001b[0m\u001b[0;34m)\u001b[0m\u001b[0;34m)\u001b[0m\u001b[0;34m)\u001b[0m \u001b[0;34m*\u001b[0m \u001b[0mnp\u001b[0m\u001b[0;34m.\u001b[0m\u001b[0mexp\u001b[0m\u001b[0;34m(\u001b[0m\u001b[0;36m1j\u001b[0m\u001b[0;34m*\u001b[0m\u001b[0mm\u001b[0m\u001b[0;34m*\u001b[0m\u001b[0mphi\u001b[0m\u001b[0;34m)\u001b[0m \u001b[0;34m*\u001b[0m \u001b[0mP\u001b[0m\u001b[0;34m\u001b[0m\u001b[0;34m\u001b[0m\u001b[0m\n\u001b[0m\u001b[1;32m     23\u001b[0m     \u001b[0mprint\u001b[0m\u001b[0;34m(\u001b[0m\u001b[0;34m'Angular is'\u001b[0m\u001b[0;34m,\u001b[0m \u001b[0mnp\u001b[0m\u001b[0;34m.\u001b[0m\u001b[0mround\u001b[0m\u001b[0;34m(\u001b[0m\u001b[0mnp\u001b[0m\u001b[0;34m.\u001b[0m\u001b[0mcomplex\u001b[0m\u001b[0;34m(\u001b[0m\u001b[0mYml\u001b[0m\u001b[0;34m)\u001b[0m\u001b[0;34m,\u001b[0m\u001b[0;36m5\u001b[0m\u001b[0;34m)\u001b[0m\u001b[0;34m)\u001b[0m\u001b[0;34m\u001b[0m\u001b[0;34m\u001b[0m\u001b[0m\n\u001b[1;32m     24\u001b[0m     \u001b[0;32mreturn\u001b[0m \u001b[0mnp\u001b[0m\u001b[0;34m.\u001b[0m\u001b[0mround\u001b[0m\u001b[0;34m(\u001b[0m\u001b[0mnp\u001b[0m\u001b[0;34m.\u001b[0m\u001b[0mcomplex\u001b[0m\u001b[0;34m(\u001b[0m\u001b[0mYml\u001b[0m\u001b[0;34m)\u001b[0m\u001b[0;34m,\u001b[0m\u001b[0;36m5\u001b[0m\u001b[0;34m)\u001b[0m\u001b[0;34m\u001b[0m\u001b[0;34m\u001b[0m\u001b[0m\n",
            "\u001b[0;31mNameError\u001b[0m: name 'c' is not defined"
          ]
        }
      ]
    },
    {
      "cell_type": "code",
      "metadata": {
        "id": "gA8iulq54Msv",
        "colab": {
          "base_uri": "https://localhost:8080/",
          "height": 34
        },
        "outputId": "dfa5aff7-b532-41c0-fc7d-a0136e43591d"
      },
      "source": [
        "int('-5')"
      ],
      "execution_count": null,
      "outputs": [
        {
          "output_type": "execute_result",
          "data": {
            "text/plain": [
              "-5"
            ]
          },
          "metadata": {
            "tags": []
          },
          "execution_count": 3
        }
      ]
    },
    {
      "cell_type": "code",
      "metadata": {
        "id": "DNbQlUPk5KiY"
      },
      "source": [
        ""
      ],
      "execution_count": null,
      "outputs": []
    }
  ]
}